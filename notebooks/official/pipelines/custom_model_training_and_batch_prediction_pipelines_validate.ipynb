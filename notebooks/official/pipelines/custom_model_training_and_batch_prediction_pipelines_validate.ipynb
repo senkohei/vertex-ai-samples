{
 "cells": [
  {
   "cell_type": "code",
   "execution_count": 36,
   "metadata": {
    "id": "b0b4f2bf"
   },
   "outputs": [],
   "source": [
    "# Copyright 2021 Google LLC\n",
    "#\n",
    "# Licensed under the Apache License, Version 2.0 (the \"License\");\n",
    "# you may not use this file except in compliance with the License.\n",
    "# You may obtain a copy of the License at\n",
    "#\n",
    "#     https://www.apache.org/licenses/LICENSE-2.0\n",
    "#\n",
    "# Unless required by applicable law or agreed to in writing, software\n",
    "# distributed under the License is distributed on an \"AS IS\" BASIS,\n",
    "# WITHOUT WARRANTIES OR CONDITIONS OF ANY KIND, either express or implied.\n",
    "# See the License for the specific language governing permissions and\n",
    "# limitations under the License."
   ]
  },
  {
   "cell_type": "markdown",
   "metadata": {
    "id": "c5c0d0bbf74d"
   },
   "source": [
    "# Vertex AI Pipelines: Custom training with pre-built Google Cloud Pipeline Components\n",
    "\n",
    "<table align=\"left\">\n",
    "  <td>\n",
    "    <a href=\"https://colab.research.google.com/github/GoogleCloudPlatform/vertex-ai-samples/blob/master/notebooks/official/pipelines/custom_model_training_and_batch_prediction.ipynb\">\n",
    "      <img src=\"https://cloud.google.com/ml-engine/images/colab-logo-32px.png\" alt=\"Colab logo\"> Run in Colab\n",
    "    </a>\n",
    "  </td>\n",
    "  <td>\n",
    "    <a href=\"https://github.com/GoogleCloudPlatform/vertex-ai-samples/blob/master/notebooks/official/pipelines/custom_model_training_and_batch_prediction.ipynb\">\n",
    "      <img src=\"https://cloud.google.com/ml-engine/images/github-logo-32px.png\" alt=\"GitHub logo\">\n",
    "      View on GitHub\n",
    "    </a>\n",
    "  </td>\n",
    "  <td>\n",
    "    <a href=\"https://console.cloud.google.com/vertex-ai/notebooks/deploy-notebook?download_url=https://github.com/GoogleCloudPlatform/vertex-ai-samples/blob/master/notebooks/official/pipelines/custom_model_training_and_batch_prediction.ipynb\">\n",
    "      Open in Vertex AI Workbench\n",
    "    </a>\n",
    "  </td>\n",
    "</table>\n",
    "<br/><br/><br/>"
   ]
  },
  {
   "cell_type": "markdown",
   "metadata": {
    "id": "d79790f56d30"
   },
   "source": [
    "## Overview\n",
    "\n",
    "\n",
    "This tutorial demonstrates how to use Vertex AI Pipelines with pre-built Google Cloud Pipeline Components for custom training."
   ]
  },
  {
   "cell_type": "markdown",
   "metadata": {
    "id": "57139e75264f"
   },
   "source": [
    "### Dataset\n",
    "\n",
    "The dataset used for this tutorial is the [CIFAR10 dataset](https://www.tensorflow.org/datasets/catalog/cifar10) from [TensorFlow Datasets](https://www.tensorflow.org/datasets/catalog/overview). The version of the dataset you will use is built into TensorFlow. The trained model predicts which type of class an image is from ten classes: airplane, automobile, bird, cat, deer, dog, frog, horse, ship, or truck."
   ]
  },
  {
   "cell_type": "markdown",
   "metadata": {
    "id": "b87eb4840013"
   },
   "source": [
    "### Objective\n",
    "\n",
    "In this tutorial, you create a custom image classification model using Vertex AI Pipelines with pre-built Google Cloud Pipeline Components for custom training.\n",
    "\n",
    "The steps performed include:\n",
    "\n",
    "- Train a custom model.\n",
    "- Upload the trained model as a `Model` resource.\n",
    "- Create an `Endpoint` resource.\n",
    "- Deploy the `Model` resource to the `Endpoint` resource.\n",
    "\n",
    "Learn more about [Google Cloud Pipeline Components](https://cloud.google.com/vertex-ai/docs/pipelines/build-pipeline)."
   ]
  },
  {
   "cell_type": "markdown",
   "metadata": {
    "id": "181d4dfbf917"
   },
   "source": [
    "### Costs\n",
    "\n",
    "This tutorial uses billable components of Google Cloud:\n",
    "\n",
    "* Vertex AI\n",
    "* Cloud Storage\n",
    "\n",
    "Learn about [Vertex AI\n",
    "pricing](https://cloud.google.com/vertex-ai/pricing) and [Cloud Storage\n",
    "pricing](https://cloud.google.com/storage/pricing), and use the [Pricing\n",
    "Calculator](https://cloud.google.com/products/calculator/)\n",
    "to generate a cost estimate based on your projected usage."
   ]
  },
  {
   "cell_type": "markdown",
   "metadata": {
    "id": "setup_local"
   },
   "source": [
    "### Set up your local development environment\n",
    "\n",
    "If you are using Colab or Google Cloud Notebook, your environment already meets all the requirements to run this notebook. You can skip this step.\n",
    "\n",
    "Otherwise, make sure your environment meets this notebook's requirements. You need the following:\n",
    "\n",
    "- The Cloud Storage SDK\n",
    "- Git\n",
    "- Python 3\n",
    "- virtualenv\n",
    "- Jupyter notebook running in a virtual environment with Python 3\n",
    "\n",
    "The Cloud Storage guide to [Setting up a Python development environment](https://cloud.google.com/python/setup) and the [Jupyter installation guide](https://jupyter.org/install) provide detailed instructions for meeting these requirements. The following steps provide a condensed set of instructions:\n",
    "\n",
    "1. [Install and initialize the SDK](https://cloud.google.com/sdk/docs/).\n",
    "\n",
    "2. [Install Python 3](https://cloud.google.com/python/setup#installing_python).\n",
    "\n",
    "3. [Install virtualenv](Ihttps://cloud.google.com/python/setup#installing_and_using_virtualenv) and create a virtual environment that uses Python 3.\n",
    "\n",
    "4. Activate that environment and run `pip3 install Jupyter` in a terminal shell to install Jupyter.\n",
    "\n",
    "5. Run `jupyter notebook` on the command line in a terminal shell to launch Jupyter.\n",
    "\n",
    "6. Open this notebook in the Jupyter Notebook Dashboard.\n"
   ]
  },
  {
   "cell_type": "markdown",
   "metadata": {
    "id": "install_aip:mbsdk"
   },
   "source": [
    "## Installation\n",
    "\n",
    "Install the latest version of Vertex AI SDK for Python."
   ]
  },
  {
   "cell_type": "code",
   "execution_count": null,
   "metadata": {
    "id": "install_aip:mbsdk"
   },
   "outputs": [],
   "source": [
    "import os\n",
    "\n",
    "# Google Cloud Notebook\n",
    "if os.path.exists(\"/opt/deeplearning/metadata/env_version\") or os.getenv(\"IS_TESTING\"):\n",
    "    USER_FLAG = \"--user\"\n",
    "else:\n",
    "    USER_FLAG = \"\"\n",
    "\n",
    "! pip3 install --upgrade google-cloud-aiplatform $USER_FLAG"
   ]
  },
  {
   "cell_type": "markdown",
   "metadata": {
    "id": "install_storage"
   },
   "source": [
    "Install the latest GA version of *google-cloud-storage* library as well."
   ]
  },
  {
   "cell_type": "code",
   "execution_count": null,
   "metadata": {
    "id": "install_storage"
   },
   "outputs": [],
   "source": [
    "! pip3 install -U google-cloud-storage $USER_FLAG"
   ]
  },
  {
   "cell_type": "markdown",
   "metadata": {
    "id": "install_gcpc"
   },
   "source": [
    "Install the latest GA version of *google-cloud-pipeline-components* library as well."
   ]
  },
  {
   "cell_type": "code",
   "execution_count": null,
   "metadata": {
    "id": "install_gcpc"
   },
   "outputs": [],
   "source": [
    "! pip3 install kfp google-cloud-pipeline-components --upgrade $USER_FLAG"
   ]
  },
  {
   "cell_type": "code",
   "execution_count": null,
   "metadata": {
    "id": "b12be5c73a33"
   },
   "outputs": [],
   "source": [
    "if os.getenv(\"IS_TESTING\"):\n",
    "    ! pip3 install --upgrade --force-reinstall $USER_FLAG tensorflow==2.5 kfp google-cloud-aiplatform google-cloud-storage google-cloud-pipeline-components"
   ]
  },
  {
   "cell_type": "markdown",
   "metadata": {
    "id": "restart"
   },
   "source": [
    "### Restart the kernel\n",
    "\n",
    "Once you've installed the additional packages, you need to restart the notebook kernel so it can find the packages."
   ]
  },
  {
   "cell_type": "code",
   "execution_count": null,
   "metadata": {
    "id": "restart"
   },
   "outputs": [],
   "source": [
    "import os\n",
    "\n",
    "if not os.getenv(\"IS_TESTING\"):\n",
    "    # Automatically restart kernel after installs\n",
    "    import IPython\n",
    "\n",
    "    app = IPython.Application.instance()\n",
    "    app.kernel.do_shutdown(True)"
   ]
  },
  {
   "cell_type": "markdown",
   "metadata": {
    "id": "before_you_begin:nogpu"
   },
   "source": [
    "## Before you begin\n",
    "\n",
    "### GPU runtime\n",
    "\n",
    "This tutorial does not require a GPU runtime.\n",
    "\n",
    "### Set up your Google Cloud project\n",
    "\n",
    "**The following steps are required, regardless of your notebook environment.**\n",
    "\n",
    "1. [Select or create a Google Cloud project](https://console.cloud.google.com/cloud-resource-manager). When you first create an account, you get a $300 free credit towards your compute/storage costs.\n",
    "\n",
    "2. [Make sure that billing is enabled for your project.](https://cloud.google.com/billing/docs/how-to/modify-project)\n",
    "\n",
    "3. [Enable the Vertex AI APIs, Compute Engine APIs, and Cloud Storage.](https://console.cloud.google.com/flows/enableapi?apiid=ml.googleapis.com,compute_component,storage-component.googleapis.com)\n",
    "\n",
    "4. [The Google Cloud SDK](https://cloud.google.com/sdk) is already installed in Google Cloud Notebook.\n",
    "\n",
    "5. Enter your project ID in the cell below. Then run the  cell to make sure the\n",
    "Cloud SDK uses the right project for all the commands in this notebook.\n",
    "\n",
    "**Note**: Jupyter runs lines prefixed with `!` as shell commands, and it interpolates Python variables prefixed with `$`."
   ]
  },
  {
   "cell_type": "code",
   "execution_count": 16,
   "metadata": {
    "id": "set_project_id"
   },
   "outputs": [],
   "source": [
    "PROJECT_ID = \"argolis-demo-project\"  # @param {type:\"string\"}"
   ]
  },
  {
   "cell_type": "code",
   "execution_count": 3,
   "metadata": {
    "id": "autoset_project_id"
   },
   "outputs": [],
   "source": [
    "if PROJECT_ID == \"\" or PROJECT_ID is None or PROJECT_ID == \"[your-project-id]\":\n",
    "    # Get your GCP project id from gcloud\n",
    "    shell_output = ! gcloud config list --format 'value(core.project)' 2>/dev/null\n",
    "    PROJECT_ID = shell_output[0]\n",
    "    print(\"Project ID:\", PROJECT_ID)"
   ]
  },
  {
   "cell_type": "code",
   "execution_count": 17,
   "metadata": {},
   "outputs": [
    {
     "name": "stdout",
     "output_type": "stream",
     "text": [
      "argolis-demo-project\n"
     ]
    }
   ],
   "source": [
    "print(PROJECT_ID)"
   ]
  },
  {
   "cell_type": "code",
   "execution_count": null,
   "metadata": {
    "id": "7NKIeGOFhtvI"
   },
   "outputs": [],
   "source": [
    "!gcloud config set project {PROJECT_ID}"
   ]
  },
  {
   "cell_type": "markdown",
   "metadata": {
    "id": "region"
   },
   "source": [
    "#### Region\n",
    "\n",
    "You can also change the `REGION` variable, which is used for operations\n",
    "throughout the rest of this notebook.  Below are regions supported for Vertex AI. We recommend that you choose the region closest to you.\n",
    "\n",
    "- Americas: `us-central1`\n",
    "- Europe: `europe-west4`\n",
    "- Asia Pacific: `asia-east1`\n",
    "\n",
    "You may not use a multi-regional bucket for training with Vertex AI. Not all regions provide support for all Vertex AI services.\n",
    "\n",
    "Learn more about [Vertex AI regions](https://cloud.google.com/vertex-ai/docs/general/locations)."
   ]
  },
  {
   "cell_type": "code",
   "execution_count": 18,
   "metadata": {
    "id": "region"
   },
   "outputs": [],
   "source": [
    "REGION = \"us-central1\"  # @param {type: \"string\"}"
   ]
  },
  {
   "cell_type": "markdown",
   "metadata": {
    "id": "timestamp"
   },
   "source": [
    "#### Timestamp\n",
    "\n",
    "If you are in a live tutorial session, you might be using a shared test account or project. To avoid name collisions between users on resources created, create a timestamp for each instance session, and append the timestamp onto the name of resources you create in this tutorial."
   ]
  },
  {
   "cell_type": "code",
   "execution_count": 19,
   "metadata": {
    "id": "wJjft8z1IA81"
   },
   "outputs": [],
   "source": [
    "from datetime import datetime\n",
    "\n",
    "TIMESTAMP = datetime.now().strftime(\"%Y%m%d%H%M%S\")"
   ]
  },
  {
   "cell_type": "markdown",
   "metadata": {
    "id": "gcp_authenticate"
   },
   "source": [
    "### Authenticate your Google Cloud account\n",
    "\n",
    "**If you are using Google Cloud Notebook**, your environment is already authenticated. Skip this step.\n",
    "\n",
    "**If you are using Colab**, run the cell below and follow the instructions when prompted to authenticate your account via oAuth.\n",
    "\n",
    "**Otherwise**, follow these steps:\n",
    "\n",
    "In the Cloud Console, go to the [Create service account key](https://console.cloud.google.com/apis/credentials/serviceaccountkey) page.\n",
    "\n",
    "**Click Create service account**.\n",
    "\n",
    "In the **Service account name** field, enter a name, and click **Create**.\n",
    "\n",
    "In the **Grant this service account access to project** section, click the Role drop-down list. Type \"Vertex\" into the filter box, and select **Vertex Administrator**. Type \"Storage Object Admin\" into the filter box, and select **Storage Object Admin**.\n",
    "\n",
    "Click Create. A JSON file that contains your key downloads to your local environment.\n",
    "\n",
    "Enter the path to your service account key as the GOOGLE_APPLICATION_CREDENTIALS variable in the cell below and run the cell."
   ]
  },
  {
   "cell_type": "code",
   "execution_count": null,
   "metadata": {
    "id": "gcp_authenticate"
   },
   "outputs": [],
   "source": [
    "# If you are running this notebook in Colab, run this cell and follow the\n",
    "# instructions to authenticate your GCP account. This provides access to your\n",
    "# Cloud Storage bucket and lets you submit training jobs and prediction\n",
    "# requests.\n",
    "\n",
    "import os\n",
    "import sys\n",
    "\n",
    "# If on Google Cloud Notebook, then don't execute this code\n",
    "if not os.path.exists(\"/opt/deeplearning/metadata/env_version\"):\n",
    "    if \"google.colab\" in sys.modules:\n",
    "        from google.colab import auth as google_auth\n",
    "\n",
    "        google_auth.authenticate_user()\n",
    "\n",
    "    # If you are running this notebook locally, replace the string below with the\n",
    "    # path to your service account key and run this cell to authenticate your GCP\n",
    "    # account.\n",
    "    elif not os.getenv(\"IS_TESTING\"):\n",
    "        %env GOOGLE_APPLICATION_CREDENTIALS ''"
   ]
  },
  {
   "cell_type": "markdown",
   "metadata": {
    "id": "bucket:mbsdk"
   },
   "source": [
    "### Create a Cloud Storage bucket\n",
    "\n",
    "**The following steps are required, regardless of your notebook environment.**\n",
    "\n",
    "When you initialize the Vertex AI SDK for Python, you specify a Cloud Storage staging bucket. The staging bucket is where all the data associated with your dataset and model resources are retained across sessions.\n",
    "\n",
    "Set the name of your Cloud Storage bucket below. Bucket names must be globally unique across all Google Cloud projects, including those outside of your organization."
   ]
  },
  {
   "cell_type": "code",
   "execution_count": 20,
   "metadata": {
    "id": "bucket"
   },
   "outputs": [],
   "source": [
    "BUCKET_NAME = \"argolis-demo-senchan\"  # @param {type:\"string\"}\n",
    "BUCKET_URI = f\"gs://{BUCKET_NAME}\""
   ]
  },
  {
   "cell_type": "code",
   "execution_count": null,
   "metadata": {
    "id": "autoset_bucket"
   },
   "outputs": [],
   "source": [
    "if BUCKET_URI == \"\" or BUCKET_URI is None or BUCKET_URI == \"gs://[your-bucket-name]\":\n",
    "    BUCKET_URI = \"gs://\" + PROJECT_ID + \"aip-\" + TIMESTAMP"
   ]
  },
  {
   "cell_type": "markdown",
   "metadata": {
    "id": "create_bucket"
   },
   "source": [
    "**Only if your bucket doesn't already exist**: Run the following cell to create your Cloud Storage bucket."
   ]
  },
  {
   "cell_type": "code",
   "execution_count": null,
   "metadata": {
    "id": "create_bucket"
   },
   "outputs": [],
   "source": [
    "! gsutil mb -l $REGION $BUCKET_URI"
   ]
  },
  {
   "cell_type": "markdown",
   "metadata": {
    "id": "validate_bucket"
   },
   "source": [
    "Finally, validate access to your Cloud Storage bucket by examining its contents:"
   ]
  },
  {
   "cell_type": "code",
   "execution_count": null,
   "metadata": {
    "id": "validate_bucket"
   },
   "outputs": [],
   "source": [
    "! gsutil ls -al $BUCKET_URI"
   ]
  },
  {
   "cell_type": "markdown",
   "metadata": {
    "id": "set_service_account"
   },
   "source": [
    "#### Service Account\n",
    "\n",
    "**If you don't know your service account**, try to get your service account using `gcloud` command by executing the second cell below."
   ]
  },
  {
   "cell_type": "code",
   "execution_count": null,
   "metadata": {
    "id": "set_service_account"
   },
   "outputs": [],
   "source": [
    "SERVICE_ACCOUNT = \"[your-service-account]\"  # @param {type:\"string\"}"
   ]
  },
  {
   "cell_type": "code",
   "execution_count": null,
   "metadata": {
    "id": "autoset_service_account"
   },
   "outputs": [],
   "source": [
    "if (\n",
    "    SERVICE_ACCOUNT == \"\"\n",
    "    or SERVICE_ACCOUNT is None\n",
    "    or SERVICE_ACCOUNT == \"[your-service-account]\"\n",
    "):\n",
    "    # Get your GCP project id from gcloud\n",
    "    shell_output = !gcloud auth list 2>/dev/null\n",
    "    SERVICE_ACCOUNT = shell_output[2].strip()\n",
    "    print(\"Service Account:\", SERVICE_ACCOUNT)"
   ]
  },
  {
   "cell_type": "markdown",
   "metadata": {
    "id": "set_service_account:pipelines"
   },
   "source": [
    "#### Set service account access for Vertex AI Pipelines\n",
    "\n",
    "Run the following commands to grant your service account access to read and write pipeline artifacts in the bucket that you created in the previous step -- you only need to run these once per service account."
   ]
  },
  {
   "cell_type": "code",
   "execution_count": null,
   "metadata": {
    "id": "set_service_account:pipelines"
   },
   "outputs": [],
   "source": [
    "! gsutil iam ch serviceAccount:{SERVICE_ACCOUNT}:roles/storage.objectCreator $BUCKET_URI\n",
    "\n",
    "! gsutil iam ch serviceAccount:{SERVICE_ACCOUNT}:roles/storage.objectViewer $BUCKET_URI"
   ]
  },
  {
   "cell_type": "markdown",
   "metadata": {
    "id": "setup_vars"
   },
   "source": [
    "### Set up variables\n",
    "\n",
    "Next, set up some variables used throughout the tutorial.\n",
    "### Import libraries and define constants"
   ]
  },
  {
   "cell_type": "code",
   "execution_count": 21,
   "metadata": {
    "id": "import_aip:mbsdk"
   },
   "outputs": [],
   "source": [
    "import google.cloud.aiplatform as aip"
   ]
  },
  {
   "cell_type": "markdown",
   "metadata": {
    "id": "pipeline_constants"
   },
   "source": [
    "#### Vertex AI Pipelines constants\n",
    "\n",
    "Setup up the following constants for Vertex AI Pipelines:"
   ]
  },
  {
   "cell_type": "code",
   "execution_count": 33,
   "metadata": {
    "id": "pipeline_constants"
   },
   "outputs": [],
   "source": [
    "PIPELINE_ROOT = \"{}/pipeline_root/tf_cifar\".format(BUCKET_URI)"
   ]
  },
  {
   "cell_type": "markdown",
   "metadata": {
    "id": "additional_imports"
   },
   "source": [
    "Additional imports."
   ]
  },
  {
   "cell_type": "code",
   "execution_count": 9,
   "metadata": {
    "collapsed": true,
    "jupyter": {
     "outputs_hidden": true
    },
    "tags": []
   },
   "outputs": [
    {
     "name": "stdout",
     "output_type": "stream",
     "text": [
      "Collecting tensorflow\n",
      "  Downloading tensorflow-2.9.1-cp37-cp37m-manylinux_2_17_x86_64.manylinux2014_x86_64.whl (511.7 MB)\n",
      "\u001b[2K     \u001b[90m━━━━━━━━━━━━━━━━━━━━━━━━━━━━━━━━━━━━━━━\u001b[0m \u001b[32m511.7/511.7 MB\u001b[0m \u001b[31m1.5 MB/s\u001b[0m eta \u001b[36m0:00:00\u001b[0m00:01\u001b[0m00:01\u001b[0m\n",
      "\u001b[?25hRequirement already satisfied: termcolor>=1.1.0 in /home/jupyter/.local/lib/python3.7/site-packages (from tensorflow) (1.1.0)\n",
      "Collecting tensorflow-estimator<2.10.0,>=2.9.0rc0\n",
      "  Downloading tensorflow_estimator-2.9.0-py2.py3-none-any.whl (438 kB)\n",
      "\u001b[2K     \u001b[90m━━━━━━━━━━━━━━━━━━━━━━━━━━━━━━━━━━━━━━\u001b[0m \u001b[32m438.7/438.7 kB\u001b[0m \u001b[31m42.2 MB/s\u001b[0m eta \u001b[36m0:00:00\u001b[0m\n",
      "\u001b[?25hCollecting astunparse>=1.6.0\n",
      "  Downloading astunparse-1.6.3-py2.py3-none-any.whl (12 kB)\n",
      "Requirement already satisfied: typing-extensions>=3.6.6 in /home/jupyter/.local/lib/python3.7/site-packages (from tensorflow) (4.3.0)\n",
      "Requirement already satisfied: six>=1.12.0 in /opt/conda/lib/python3.7/site-packages (from tensorflow) (1.16.0)\n",
      "Requirement already satisfied: setuptools in /opt/conda/lib/python3.7/site-packages (from tensorflow) (59.8.0)\n",
      "Collecting h5py>=2.9.0\n",
      "  Downloading h5py-3.7.0-cp37-cp37m-manylinux_2_12_x86_64.manylinux2010_x86_64.whl (4.1 MB)\n",
      "\u001b[2K     \u001b[90m━━━━━━━━━━━━━━━━━━━━━━━━━━━━━━━━━━━━━━━━\u001b[0m \u001b[32m4.1/4.1 MB\u001b[0m \u001b[31m88.2 MB/s\u001b[0m eta \u001b[36m0:00:00\u001b[0m:00:01\u001b[0m\n",
      "\u001b[?25hCollecting libclang>=13.0.0\n",
      "  Downloading libclang-14.0.1-py2.py3-none-manylinux1_x86_64.whl (14.5 MB)\n",
      "\u001b[2K     \u001b[90m━━━━━━━━━━━━━━━━━━━━━━━━━━━━━━━━━━━━━━━━\u001b[0m \u001b[32m14.5/14.5 MB\u001b[0m \u001b[31m68.2 MB/s\u001b[0m eta \u001b[36m0:00:00\u001b[0m00:01\u001b[0m00:01\u001b[0m\n",
      "\u001b[?25hCollecting tensorflow-io-gcs-filesystem>=0.23.1\n",
      "  Downloading tensorflow_io_gcs_filesystem-0.26.0-cp37-cp37m-manylinux_2_12_x86_64.manylinux2010_x86_64.whl (2.4 MB)\n",
      "\u001b[2K     \u001b[90m━━━━━━━━━━━━━━━━━━━━━━━━━━━━━━━━━━━━━━━━\u001b[0m \u001b[32m2.4/2.4 MB\u001b[0m \u001b[31m81.5 MB/s\u001b[0m eta \u001b[36m0:00:00\u001b[0m\n",
      "\u001b[?25hCollecting flatbuffers<2,>=1.12\n",
      "  Downloading flatbuffers-1.12-py2.py3-none-any.whl (15 kB)\n",
      "Requirement already satisfied: grpcio<2.0,>=1.24.3 in /opt/conda/lib/python3.7/site-packages (from tensorflow) (1.46.3)\n",
      "Collecting opt-einsum>=2.3.2\n",
      "  Downloading opt_einsum-3.3.0-py3-none-any.whl (65 kB)\n",
      "\u001b[2K     \u001b[90m━━━━━━━━━━━━━━━━━━━━━━━━━━━━━━━━━━━━━━━━\u001b[0m \u001b[32m65.5/65.5 kB\u001b[0m \u001b[31m10.1 MB/s\u001b[0m eta \u001b[36m0:00:00\u001b[0m\n",
      "\u001b[?25hCollecting google-pasta>=0.1.1\n",
      "  Downloading google_pasta-0.2.0-py3-none-any.whl (57 kB)\n",
      "\u001b[2K     \u001b[90m━━━━━━━━━━━━━━━━━━━━━━━━━━━━━━━━━━━━━━━━\u001b[0m \u001b[32m57.5/57.5 kB\u001b[0m \u001b[31m9.8 MB/s\u001b[0m eta \u001b[36m0:00:00\u001b[0m\n",
      "\u001b[?25hCollecting keras<2.10.0,>=2.9.0rc0\n",
      "  Downloading keras-2.9.0-py2.py3-none-any.whl (1.6 MB)\n",
      "\u001b[2K     \u001b[90m━━━━━━━━━━━━━━━━━━━━━━━━━━━━━━━━━━━━━━━━\u001b[0m \u001b[32m1.6/1.6 MB\u001b[0m \u001b[31m81.4 MB/s\u001b[0m eta \u001b[36m0:00:00\u001b[0m\n",
      "\u001b[?25hCollecting gast<=0.4.0,>=0.2.1\n",
      "  Downloading gast-0.4.0-py3-none-any.whl (9.8 kB)\n",
      "Requirement already satisfied: absl-py>=1.0.0 in /home/jupyter/.local/lib/python3.7/site-packages (from tensorflow) (1.1.0)\n",
      "Requirement already satisfied: tensorboard<2.10,>=2.9 in /home/jupyter/.local/lib/python3.7/site-packages (from tensorflow) (2.9.1)\n",
      "Requirement already satisfied: packaging in /opt/conda/lib/python3.7/site-packages (from tensorflow) (21.3)\n",
      "Requirement already satisfied: numpy>=1.20 in /home/jupyter/.local/lib/python3.7/site-packages (from tensorflow) (1.21.6)\n",
      "Requirement already satisfied: wrapt>=1.11.0 in /opt/conda/lib/python3.7/site-packages (from tensorflow) (1.14.1)\n",
      "Requirement already satisfied: protobuf<3.20,>=3.9.2 in /home/jupyter/.local/lib/python3.7/site-packages (from tensorflow) (3.19.4)\n",
      "Collecting keras-preprocessing>=1.1.1\n",
      "  Downloading Keras_Preprocessing-1.1.2-py2.py3-none-any.whl (42 kB)\n",
      "\u001b[2K     \u001b[90m━━━━━━━━━━━━━━━━━━━━━━━━━━━━━━━━━━━━━━━━\u001b[0m \u001b[32m42.6/42.6 kB\u001b[0m \u001b[31m7.2 MB/s\u001b[0m eta \u001b[36m0:00:00\u001b[0m\n",
      "\u001b[?25hRequirement already satisfied: wheel<1.0,>=0.23.0 in /opt/conda/lib/python3.7/site-packages (from astunparse>=1.6.0->tensorflow) (0.37.1)\n",
      "Requirement already satisfied: requests<3,>=2.21.0 in /opt/conda/lib/python3.7/site-packages (from tensorboard<2.10,>=2.9->tensorflow) (2.27.1)\n",
      "Requirement already satisfied: tensorboard-plugin-wit>=1.6.0 in /home/jupyter/.local/lib/python3.7/site-packages (from tensorboard<2.10,>=2.9->tensorflow) (1.8.1)\n",
      "Requirement already satisfied: markdown>=2.6.8 in /opt/conda/lib/python3.7/site-packages (from tensorboard<2.10,>=2.9->tensorflow) (3.3.7)\n",
      "Requirement already satisfied: google-auth<3,>=1.6.3 in /home/jupyter/.local/lib/python3.7/site-packages (from tensorboard<2.10,>=2.9->tensorflow) (1.35.0)\n",
      "Requirement already satisfied: google-auth-oauthlib<0.5,>=0.4.1 in /home/jupyter/.local/lib/python3.7/site-packages (from tensorboard<2.10,>=2.9->tensorflow) (0.4.6)\n",
      "Requirement already satisfied: tensorboard-data-server<0.7.0,>=0.6.0 in /home/jupyter/.local/lib/python3.7/site-packages (from tensorboard<2.10,>=2.9->tensorflow) (0.6.1)\n",
      "Requirement already satisfied: werkzeug>=1.0.1 in /home/jupyter/.local/lib/python3.7/site-packages (from tensorboard<2.10,>=2.9->tensorflow) (2.1.2)\n",
      "Requirement already satisfied: pyparsing!=3.0.5,>=2.0.2 in /opt/conda/lib/python3.7/site-packages (from packaging->tensorflow) (3.0.9)\n",
      "Requirement already satisfied: cachetools<5.0,>=2.0.0 in /home/jupyter/.local/lib/python3.7/site-packages (from google-auth<3,>=1.6.3->tensorboard<2.10,>=2.9->tensorflow) (4.2.4)\n",
      "Requirement already satisfied: rsa<5,>=3.1.4 in /opt/conda/lib/python3.7/site-packages (from google-auth<3,>=1.6.3->tensorboard<2.10,>=2.9->tensorflow) (4.8)\n",
      "Requirement already satisfied: pyasn1-modules>=0.2.1 in /opt/conda/lib/python3.7/site-packages (from google-auth<3,>=1.6.3->tensorboard<2.10,>=2.9->tensorflow) (0.2.7)\n",
      "Requirement already satisfied: requests-oauthlib>=0.7.0 in /opt/conda/lib/python3.7/site-packages (from google-auth-oauthlib<0.5,>=0.4.1->tensorboard<2.10,>=2.9->tensorflow) (1.3.1)\n",
      "Requirement already satisfied: importlib-metadata>=4.4 in /opt/conda/lib/python3.7/site-packages (from markdown>=2.6.8->tensorboard<2.10,>=2.9->tensorflow) (4.11.4)\n",
      "Requirement already satisfied: certifi>=2017.4.17 in /opt/conda/lib/python3.7/site-packages (from requests<3,>=2.21.0->tensorboard<2.10,>=2.9->tensorflow) (2022.5.18.1)\n",
      "Requirement already satisfied: idna<4,>=2.5 in /opt/conda/lib/python3.7/site-packages (from requests<3,>=2.21.0->tensorboard<2.10,>=2.9->tensorflow) (3.3)\n",
      "Requirement already satisfied: charset-normalizer~=2.0.0 in /opt/conda/lib/python3.7/site-packages (from requests<3,>=2.21.0->tensorboard<2.10,>=2.9->tensorflow) (2.0.12)\n",
      "Requirement already satisfied: urllib3<1.27,>=1.21.1 in /opt/conda/lib/python3.7/site-packages (from requests<3,>=2.21.0->tensorboard<2.10,>=2.9->tensorflow) (1.26.9)\n",
      "Requirement already satisfied: zipp>=0.5 in /opt/conda/lib/python3.7/site-packages (from importlib-metadata>=4.4->markdown>=2.6.8->tensorboard<2.10,>=2.9->tensorflow) (3.8.0)\n",
      "Requirement already satisfied: pyasn1<0.5.0,>=0.4.6 in /opt/conda/lib/python3.7/site-packages (from pyasn1-modules>=0.2.1->google-auth<3,>=1.6.3->tensorboard<2.10,>=2.9->tensorflow) (0.4.8)\n",
      "Requirement already satisfied: oauthlib>=3.0.0 in /opt/conda/lib/python3.7/site-packages (from requests-oauthlib>=0.7.0->google-auth-oauthlib<0.5,>=0.4.1->tensorboard<2.10,>=2.9->tensorflow) (3.2.0)\n",
      "Installing collected packages: libclang, keras, flatbuffers, tensorflow-io-gcs-filesystem, tensorflow-estimator, opt-einsum, keras-preprocessing, h5py, google-pasta, gast, astunparse, tensorflow\n",
      "\u001b[33m  WARNING: The scripts estimator_ckpt_converter, import_pb_to_tensorboard, saved_model_cli, tensorboard, tf_upgrade_v2, tflite_convert, toco and toco_from_protos are installed in '/home/jupyter/.local/bin' which is not on PATH.\n",
      "  Consider adding this directory to PATH or, if you prefer to suppress this warning, use --no-warn-script-location.\u001b[0m\u001b[33m\n",
      "\u001b[0mSuccessfully installed astunparse-1.6.3 flatbuffers-1.12 gast-0.4.0 google-pasta-0.2.0 h5py-3.7.0 keras-2.9.0 keras-preprocessing-1.1.2 libclang-14.0.1 opt-einsum-3.3.0 tensorflow-2.9.1 tensorflow-estimator-2.9.0 tensorflow-io-gcs-filesystem-0.26.0\n"
     ]
    }
   ],
   "source": [
    "!pip3 install tensorflow --user"
   ]
  },
  {
   "cell_type": "code",
   "execution_count": 22,
   "metadata": {
    "id": "e3fca6d3"
   },
   "outputs": [],
   "source": [
    "import tensorflow as tf\n",
    "from google_cloud_pipeline_components.experimental.custom_job import utils\n",
    "from kfp.v2 import compiler, dsl\n",
    "from kfp.v2.dsl import component"
   ]
  },
  {
   "cell_type": "markdown",
   "metadata": {
    "id": "init_aip:mbsdk"
   },
   "source": [
    "## Initialize Vertex AI SDK for Python\n",
    "\n",
    "Initialize the Vertex AI SDK for Python for your project and corresponding bucket."
   ]
  },
  {
   "cell_type": "code",
   "execution_count": 23,
   "metadata": {
    "id": "yX-aimhGRRRl"
   },
   "outputs": [],
   "source": [
    "aip.init(project=PROJECT_ID, staging_bucket=BUCKET_URI)"
   ]
  },
  {
   "cell_type": "markdown",
   "metadata": {
    "id": "accelerators:training,cpu,prediction,cpu,mbsdk"
   },
   "source": [
    "#### Set hardware accelerators\n",
    "\n",
    "You can set hardware accelerators for training and prediction.\n",
    "\n",
    "Set the variables `TRAIN_GPU/TRAIN_NGPU` and `DEPLOY_GPU/DEPLOY_NGPU` to use a container image supporting a GPU and the number of GPUs allocated to the virtual machine (VM) instance. For example, to use a GPU container image with 4 Nvidia Telsa K80 GPUs allocated to each VM, you would specify:\n",
    "\n",
    "    (aip.AcceleratorType.NVIDIA_TESLA_K80, 4)\n",
    "\n",
    "\n",
    "Otherwise specify `(None, None)` to use a container image to run on a CPU.\n",
    "\n",
    "Learn more about [ hardware accelerator support for your region](https://cloud.google.com/vertex-ai/docs/general/locations#accelerators).\n",
    "\n",
    "*Note*: TF releases before 2.3 for GPU support will fail to load the custom model in this tutorial. It is a known issue and fixed in TF 2.3. This is caused by static graph ops that are generated in the serving function. If you encounter this issue on your own custom models, use a container image for TF 2.3 with GPU support."
   ]
  },
  {
   "cell_type": "code",
   "execution_count": 25,
   "metadata": {
    "id": "ipG9uBUDRRRm"
   },
   "outputs": [],
   "source": [
    "import os\n",
    "\n",
    "if os.getenv(\"IS_TESTING_TRAIN_GPU\"):\n",
    "    TRAIN_GPU, TRAIN_NGPU = (\n",
    "        aip.gapic.AcceleratorType.NVIDIA_TESLA_K80,\n",
    "        int(os.getenv(\"IS_TESTING_TRAIN_GPU\")),\n",
    "    )\n",
    "else:\n",
    "    TRAIN_GPU, TRAIN_NGPU = (None, None)\n",
    "\n",
    "if os.getenv(\"IS_TESTING_DEPLOY_GPU\"):\n",
    "    DEPLOY_GPU, DEPLOY_NGPU = (\n",
    "        aip.gapic.AcceleratorType.NVIDIA_TESLA_K80,\n",
    "        int(os.getenv(\"IS_TESTING_DEPLOY_GPU\")),\n",
    "    )\n",
    "else:\n",
    "    DEPLOY_GPU, DEPLOY_NGPU = (None, None)"
   ]
  },
  {
   "cell_type": "markdown",
   "metadata": {
    "id": "container:training,prediction"
   },
   "source": [
    "#### Set pre-built containers\n",
    "\n",
    "Set the pre-built Docker container image for training and prediction.\n",
    "\n",
    "\n",
    "For the latest list, see [Pre-built containers for training](https://cloud.google.com/ai-platform-unified/docs/training/pre-built-containers).\n",
    "\n",
    "\n",
    "For the latest list, see [Pre-built containers for prediction](https://cloud.google.com/ai-platform-unified/docs/predictions/pre-built-containers)."
   ]
  },
  {
   "cell_type": "code",
   "execution_count": 26,
   "metadata": {
    "id": "WrKTNnVLRRRm"
   },
   "outputs": [
    {
     "name": "stdout",
     "output_type": "stream",
     "text": [
      "Training: gcr.io/cloud-aiplatform/training/tf-cpu.2-1:latest None None\n",
      "Deployment: gcr.io/cloud-aiplatform/prediction/tf2-cpu.2-1:latest None None\n"
     ]
    }
   ],
   "source": [
    "if os.getenv(\"IS_TESTING_TF\"):\n",
    "    TF = os.getenv(\"IS_TESTING_TF\")\n",
    "else:\n",
    "    TF = \"2-1\"\n",
    "\n",
    "if TF[0] == \"2\":\n",
    "    if TRAIN_GPU:\n",
    "        TRAIN_VERSION = \"tf-gpu.{}\".format(TF)\n",
    "    else:\n",
    "        TRAIN_VERSION = \"tf-cpu.{}\".format(TF)\n",
    "    if DEPLOY_GPU:\n",
    "        DEPLOY_VERSION = \"tf2-gpu.{}\".format(TF)\n",
    "    else:\n",
    "        DEPLOY_VERSION = \"tf2-cpu.{}\".format(TF)\n",
    "else:\n",
    "    if TRAIN_GPU:\n",
    "        TRAIN_VERSION = \"tf-gpu.{}\".format(TF)\n",
    "    else:\n",
    "        TRAIN_VERSION = \"tf-cpu.{}\".format(TF)\n",
    "    if DEPLOY_GPU:\n",
    "        DEPLOY_VERSION = \"tf-gpu.{}\".format(TF)\n",
    "    else:\n",
    "        DEPLOY_VERSION = \"tf-cpu.{}\".format(TF)\n",
    "\n",
    "TRAIN_IMAGE = \"gcr.io/cloud-aiplatform/training/{}:latest\".format(TRAIN_VERSION)\n",
    "DEPLOY_IMAGE = \"gcr.io/cloud-aiplatform/prediction/{}:latest\".format(DEPLOY_VERSION)\n",
    "\n",
    "print(\"Training:\", TRAIN_IMAGE, TRAIN_GPU, TRAIN_NGPU)\n",
    "print(\"Deployment:\", DEPLOY_IMAGE, DEPLOY_GPU, DEPLOY_NGPU)"
   ]
  },
  {
   "cell_type": "markdown",
   "metadata": {
    "id": "machine:training,prediction"
   },
   "source": [
    "#### Set machine type\n",
    "\n",
    "Next, set the machine type to use for training and prediction.\n",
    "\n",
    "- Set the variables `TRAIN_COMPUTE` and `DEPLOY_COMPUTE` to configure  the compute resources for the VMs you will use for for training and prediction.\n",
    " - `machine type`\n",
    "     - `n1-standard`: 3.75GB of memory per vCPU.\n",
    "     - `n1-highmem`: 6.5GB of memory per vCPU\n",
    "     - `n1-highcpu`: 0.9 GB of memory per vCPU\n",
    " - `vCPUs`: number of \\[2, 4, 8, 16, 32, 64, 96 \\]\n",
    "\n",
    "*Note: The following is not supported for training:*\n",
    "\n",
    " - `standard`: 2 vCPUs\n",
    " - `highcpu`: 2, 4 and 8 vCPUs\n",
    "\n",
    "*Note: You may also use n2 and e2 machine types for training and deployment, but they do not support GPUs*."
   ]
  },
  {
   "cell_type": "code",
   "execution_count": 27,
   "metadata": {
    "id": "K4RhNsDzRRRn"
   },
   "outputs": [
    {
     "name": "stdout",
     "output_type": "stream",
     "text": [
      "Train machine type n1-standard-4\n",
      "Deploy machine type n1-standard-4\n"
     ]
    }
   ],
   "source": [
    "if os.getenv(\"IS_TESTING_TRAIN_MACHINE\"):\n",
    "    MACHINE_TYPE = os.getenv(\"IS_TESTING_TRAIN_MACHINE\")\n",
    "else:\n",
    "    MACHINE_TYPE = \"n1-standard\"\n",
    "\n",
    "VCPU = \"4\"\n",
    "TRAIN_COMPUTE = MACHINE_TYPE + \"-\" + VCPU\n",
    "print(\"Train machine type\", TRAIN_COMPUTE)\n",
    "\n",
    "if os.getenv(\"IS_TESTING_DEPLOY_MACHINE\"):\n",
    "    MACHINE_TYPE = os.getenv(\"IS_TESTING_DEPLOY_MACHINE\")\n",
    "else:\n",
    "    MACHINE_TYPE = \"n1-standard\"\n",
    "\n",
    "VCPU = \"4\"\n",
    "DEPLOY_COMPUTE = MACHINE_TYPE + \"-\" + VCPU\n",
    "print(\"Deploy machine type\", DEPLOY_COMPUTE)"
   ]
  },
  {
   "cell_type": "markdown",
   "metadata": {
    "id": "tutorial_start:custom"
   },
   "source": [
    "# Tutorial\n",
    "\n",
    "Now you are ready to start creating your own custom model and training for CIFAR10."
   ]
  },
  {
   "cell_type": "markdown",
   "metadata": {
    "id": "examine_training_package"
   },
   "source": [
    "### Examine the training package\n",
    "\n",
    "#### Package layout\n",
    "\n",
    "Before you start the training, you will look at how a Python package is assembled for a custom training job. When unarchived, the package contains the following directory/file layout.\n",
    "\n",
    "- PKG-INFO\n",
    "- README.md\n",
    "- setup.cfg\n",
    "- setup.py\n",
    "- trainer\n",
    "  - \\_\\_init\\_\\_.py\n",
    "  - task.py\n",
    "\n",
    "The files `setup.cfg` and `setup.py` are the instructions for installing the package into the operating environment of the Docker image.\n",
    "\n",
    "The file `trainer/task.py` is the Python script for executing the custom training job. *Note*, when we referred to it in the worker pool specification, we replace the directory slash with a dot (`trainer.task`) and dropped the file suffix (`.py`).\n",
    "\n",
    "#### Package Assembly\n",
    "\n",
    "In the following cells, you will assemble the training package."
   ]
  },
  {
   "cell_type": "code",
   "execution_count": 28,
   "metadata": {
    "id": "YpA6MFcLRRRn"
   },
   "outputs": [],
   "source": [
    "# Make folder for Python training script\n",
    "! rm -rf custom\n",
    "! mkdir custom\n",
    "\n",
    "# Add package information\n",
    "! touch custom/README.md\n",
    "\n",
    "setup_cfg = \"[egg_info]\\n\\ntag_build =\\n\\ntag_date = 0\"\n",
    "! echo \"$setup_cfg\" > custom/setup.cfg\n",
    "\n",
    "setup_py = \"import setuptools\\n\\nsetuptools.setup(\\n\\n    install_requires=[\\n\\n        'tensorflow_datasets==1.3.0',\\n\\n    ],\\n\\n    packages=setuptools.find_packages())\"\n",
    "! echo \"$setup_py\" > custom/setup.py\n",
    "\n",
    "pkg_info = \"Metadata-Version: 1.0\\n\\nName: CIFAR10 image classification\\n\\nVersion: 0.0.0\\n\\nSummary: Demostration training script\\n\\nHome-page: www.google.com\\n\\nAuthor: Google\\n\\nAuthor-email: aferlitsch@google.com\\n\\nLicense: Public\\n\\nDescription: Demo\\n\\nPlatform: Vertex\"\n",
    "! echo \"$pkg_info\" > custom/PKG-INFO\n",
    "\n",
    "# Make the training subfolder\n",
    "! mkdir custom/trainer\n",
    "! touch custom/trainer/__init__.py"
   ]
  },
  {
   "cell_type": "markdown",
   "metadata": {
    "id": "86f3ab08b20a"
   },
   "source": [
    "### Create a custom component for training the custom model\n",
    "\n",
    "Next, create a lightweight Python function component for training the CIFAR10 image classification model."
   ]
  },
  {
   "cell_type": "code",
   "execution_count": 29,
   "metadata": {
    "id": "2etUCVVMRRRo"
   },
   "outputs": [],
   "source": [
    "# Single, Mirror and Multi-Machine Distributed Training for CIFAR-10\n",
    "\n",
    "\n",
    "@component(\n",
    "    base_image=\"tensorflow/tensorflow:latest\",\n",
    "    packages_to_install=[\"tensorflow_datasets\", \"opencv-python-headless\"],\n",
    ")\n",
    "def custom_train_model(\n",
    "    model_dir: str,\n",
    "    lr: float = 0.01,\n",
    "    epochs: int = 10,\n",
    "    steps: int = 200,\n",
    "    distribute: str = \"single\",\n",
    "):\n",
    "\n",
    "    import faulthandler\n",
    "    import os\n",
    "    import sys\n",
    "\n",
    "    import tensorflow as tf\n",
    "    import tensorflow_datasets as tfds\n",
    "    from tensorflow.python.client import device_lib\n",
    "\n",
    "    faulthandler.enable()\n",
    "    tfds.disable_progress_bar()\n",
    "\n",
    "    print(\"Component start\")\n",
    "\n",
    "    print(\"Python Version = {}\".format(sys.version))\n",
    "    print(\"TensorFlow Version = {}\".format(tf.__version__))\n",
    "    print(\"TF_CONFIG = {}\".format(os.environ.get(\"TF_CONFIG\", \"Not found\")))\n",
    "    print(\"DEVICES\", device_lib.list_local_devices())\n",
    "\n",
    "    # Single Machine, single compute device\n",
    "    if distribute == \"single\":\n",
    "        if tf.test.is_gpu_available():\n",
    "            strategy = tf.distribute.OneDeviceStrategy(device=\"/gpu:0\")\n",
    "        else:\n",
    "            strategy = tf.distribute.OneDeviceStrategy(device=\"/cpu:0\")\n",
    "    # Single Machine, multiple compute device\n",
    "    elif distribute == \"mirror\":\n",
    "        strategy = tf.distribute.MirroredStrategy()\n",
    "    # Multiple Machine, multiple compute device\n",
    "    elif distribute == \"multi\":\n",
    "        strategy = tf.distribute.experimental.MultiWorkerMirroredStrategy()\n",
    "\n",
    "    # Multi-worker configuration\n",
    "    print(\"num_replicas_in_sync = {}\".format(strategy.num_replicas_in_sync))\n",
    "\n",
    "    # Preparing dataset\n",
    "    BUFFER_SIZE = 10000\n",
    "    BATCH_SIZE = 64\n",
    "\n",
    "    def make_datasets_unbatched():\n",
    "\n",
    "        # Scaling CIFAR10 data from (0, 255] to (0., 1.]\n",
    "        def scale(image, label):\n",
    "            image = tf.cast(image, tf.float32)\n",
    "            image /= 255.0\n",
    "            return image, label\n",
    "\n",
    "        datasets, info = tfds.load(name=\"cifar10\", with_info=True, as_supervised=True)\n",
    "        return datasets[\"train\"].map(scale).cache().shuffle(BUFFER_SIZE).repeat()\n",
    "\n",
    "    # Build the Keras model\n",
    "    def build_and_compile_cnn_model(lr: int = 0.01):\n",
    "        model = tf.keras.Sequential(\n",
    "            [\n",
    "                tf.keras.layers.Conv2D(\n",
    "                    32, 3, activation=\"relu\", input_shape=(32, 32, 3)\n",
    "                ),\n",
    "                tf.keras.layers.MaxPooling2D(),\n",
    "                tf.keras.layers.Conv2D(32, 3, activation=\"relu\"),\n",
    "                tf.keras.layers.MaxPooling2D(),\n",
    "                tf.keras.layers.Flatten(),\n",
    "                tf.keras.layers.Dense(10, activation=\"softmax\"),\n",
    "            ]\n",
    "        )\n",
    "        model.compile(\n",
    "            loss=tf.keras.losses.sparse_categorical_crossentropy,\n",
    "            optimizer=tf.keras.optimizers.SGD(learning_rate=lr),\n",
    "            metrics=[\"accuracy\"],\n",
    "        )\n",
    "        return model\n",
    "\n",
    "    # Train the model\n",
    "    NUM_WORKERS = strategy.num_replicas_in_sync\n",
    "    # Here the batch size scales up by number of workers since\n",
    "    # `tf.data.Dataset.batch` expects the global batch size.\n",
    "    GLOBAL_BATCH_SIZE = BATCH_SIZE * NUM_WORKERS\n",
    "    train_dataset = make_datasets_unbatched().batch(GLOBAL_BATCH_SIZE)\n",
    "\n",
    "    with strategy.scope():\n",
    "        # Creation of dataset, and model building/compiling need to be within\n",
    "        # `strategy.scope()`.\n",
    "        model = build_and_compile_cnn_model(lr)\n",
    "\n",
    "    model.fit(x=train_dataset, epochs=epochs, steps_per_epoch=steps)\n",
    "    model.save(model_dir)\n",
    "\n",
    "    model_path_to_deploy = model_dir\n",
    "\n",
    "    # Load the saved model\n",
    "    local_model = tf.keras.models.load_model(model_dir)\n",
    "\n",
    "    # Load evaluation data\n",
    "    import numpy as np\n",
    "    from tensorflow.keras.datasets import cifar10\n",
    "\n",
    "    (_, _), (x_test, y_test) = cifar10.load_data()\n",
    "    x_test = (x_test / 255.0).astype(np.float32)\n",
    "\n",
    "    print(x_test.shape, y_test.shape)\n",
    "\n",
    "    # Perform the model evaluation\n",
    "    local_model.evaluate(x_test, y_test)\n",
    "\n",
    "    # Serving function for image data\n",
    "    CONCRETE_INPUT = \"numpy_inputs\"\n",
    "\n",
    "    def _preprocess(bytes_input):\n",
    "        decoded = tf.io.decode_jpeg(bytes_input, channels=3)\n",
    "        decoded = tf.image.convert_image_dtype(decoded, tf.float32)\n",
    "        resized = tf.image.resize(decoded, size=(32, 32))\n",
    "        return resized\n",
    "\n",
    "    @tf.function(input_signature=[tf.TensorSpec([None], tf.string)])\n",
    "    def preprocess_fn(bytes_inputs):\n",
    "        decoded_images = tf.map_fn(\n",
    "            _preprocess, bytes_inputs, dtype=tf.float32, back_prop=False\n",
    "        )\n",
    "        return {\n",
    "            CONCRETE_INPUT: decoded_images\n",
    "        }  # User needs to make sure the key matches model's input\n",
    "\n",
    "    @tf.function(input_signature=[tf.TensorSpec([None], tf.string)])\n",
    "    def serving_fn(bytes_inputs):\n",
    "        images = preprocess_fn(bytes_inputs)\n",
    "        prob = m_call(**images)\n",
    "        return prob\n",
    "\n",
    "    m_call = tf.function(local_model.call).get_concrete_function(\n",
    "        [tf.TensorSpec(shape=[None, 32, 32, 3], dtype=tf.float32, name=CONCRETE_INPUT)]\n",
    "    )\n",
    "\n",
    "    tf.saved_model.save(\n",
    "        local_model, model_path_to_deploy, signatures={\"serving_default\": serving_fn}\n",
    "    )\n",
    "\n",
    "    # Get the serving function signature\n",
    "    loaded = tf.saved_model.load(model_path_to_deploy)\n",
    "\n",
    "    serving_input = list(\n",
    "        loaded.signatures[\"serving_default\"].structured_input_signature[1].keys()\n",
    "    )[0]\n",
    "    print(\"Serving function input:\", serving_input)\n",
    "\n",
    "    # Get test items\n",
    "    test_image_1 = x_test[0]\n",
    "    test_image_2 = x_test[1]\n",
    "    print(test_image_1.shape)\n",
    "\n",
    "    BUCKET_URI = model_dir + \"/test\"\n",
    "\n",
    "    import cv2\n",
    "\n",
    "    cv2.imwrite(\"tmp1.jpg\", (test_image_1 * 255).astype(np.uint8))\n",
    "    cv2.imwrite(\"tmp2.jpg\", (test_image_2 * 255).astype(np.uint8))\n",
    "\n",
    "    print(\"Writing jpg files\")\n",
    "\n",
    "    # Copy test item(s)\n",
    "    # For the batch prediction, copy the test items over to your Cloud Storage bucket.\n",
    "    test_item_1 = BUCKET_URI + \"/tmp1.jpg\"\n",
    "    test_item_2 = BUCKET_URI + \"/tmp2.jpg\"\n",
    "\n",
    "    with tf.io.gfile.GFile(test_item_1, \"wb\") as w:\n",
    "        with tf.io.gfile.GFile(\"tmp1.jpg\", \"rb\") as r:\n",
    "            bytes = r.read()\n",
    "            w.write(bytes)\n",
    "\n",
    "    with tf.io.gfile.GFile(test_item_2, \"wb\") as w:\n",
    "        with tf.io.gfile.GFile(\"tmp2.jpg\", \"rb\") as r:\n",
    "            bytes = r.read()\n",
    "            w.write(bytes)\n",
    "\n",
    "    # Make the batch input file\n",
    "    import base64\n",
    "    import json\n",
    "\n",
    "    gcs_input_uri = BUCKET_URI + \"/\" + \"test.jsonl\"\n",
    "    with tf.io.gfile.GFile(gcs_input_uri, \"w\") as f:\n",
    "        bytes = tf.io.read_file(test_item_1)\n",
    "        b64str = base64.b64encode(bytes.numpy()).decode(\"utf-8\")\n",
    "        data = {serving_input: {\"b64\": b64str}}\n",
    "        f.write(json.dumps(data) + \"\\n\")\n",
    "        bytes = tf.io.read_file(test_item_2)\n",
    "        b64str = base64.b64encode(bytes.numpy()).decode(\"utf-8\")\n",
    "        data = {serving_input: {\"b64\": b64str}}\n",
    "        f.write(json.dumps(data) + \"\\n\")"
   ]
  },
  {
   "cell_type": "markdown",
   "metadata": {
    "id": "1abdbe48"
   },
   "source": [
    "### Convert the component to a Vertex AI Custom Job\n",
    "\n",
    "Next, use the `create_custom_training_job_op_from_component` method to convert the custom component into a Vertex AI Custom Job pre-built component."
   ]
  },
  {
   "cell_type": "code",
   "execution_count": 30,
   "metadata": {
    "id": "deb6c1cc"
   },
   "outputs": [],
   "source": [
    "custom_job_distributed_training_op = utils.create_custom_training_job_op_from_component(\n",
    "    custom_train_model, replica_count=1\n",
    ")"
   ]
  },
  {
   "cell_type": "markdown",
   "metadata": {
    "id": "e57e7311"
   },
   "source": [
    "### Define the pipeline for the custom training job\n",
    "\n",
    "Next, define the pipeline job, consisting of the tasks:\n",
    "\n",
    "- Train the custom model.\n",
    "- Upload the model to a Verex AI Model resource.\n",
    "- Execute a batch prediction."
   ]
  },
  {
   "cell_type": "code",
   "execution_count": 34,
   "metadata": {
    "id": "5R23d2J_HJr-"
   },
   "outputs": [],
   "source": [
    "MODEL_DIR = BUCKET_URI + \"/model\"\n",
    "MODEL_DISPLAY_NAME = f\"train_deploy{TIMESTAMP}\"\n",
    "\n",
    "\n",
    "@dsl.pipeline(name=\"custom-model-training-sample-pipeline\")\n",
    "def pipeline(\n",
    "    project: str = PROJECT_ID,\n",
    "    model_display_name: str = MODEL_DISPLAY_NAME,\n",
    "    model_dir: str = MODEL_DIR,\n",
    "    lr: float = 0.01,\n",
    "    epochs: int = 10,\n",
    "    steps: int = 200,\n",
    "    distribute: str = \"single\",\n",
    "):\n",
    "    from google_cloud_pipeline_components.types import artifact_types\n",
    "    from google_cloud_pipeline_components.v1.batch_predict_job import \\\n",
    "        ModelBatchPredictOp\n",
    "    from google_cloud_pipeline_components.v1.model import ModelUploadOp\n",
    "#    from google_cloud_pipeline_components import ModelUploadOp, EndpointCreateOp\n",
    "    from google_cloud_pipeline_components.v1.endpoint import (EndpointCreateOp,\n",
    "                                                              ModelDeployOp)\n",
    "    from kfp.v2.components import importer_node\n",
    "\n",
    "    custom_producer_task = custom_job_distributed_training_op(\n",
    "        model_dir=model_dir,\n",
    "        lr=lr,\n",
    "        epochs=epochs,\n",
    "        steps=steps,\n",
    "        distribute=distribute,\n",
    "        project=PROJECT_ID,\n",
    "        location=REGION,\n",
    "        base_output_directory=PIPELINE_ROOT,\n",
    "    )\n",
    "\n",
    "    \n",
    "    unmanaged_model_importer = importer_node.importer(\n",
    "        artifact_uri=model_dir,\n",
    "        artifact_class=artifact_types.UnmanagedContainerModel,\n",
    "        metadata={\n",
    "            \"containerSpec\": {\n",
    "                \"imageUri\": \"us-docker.pkg.dev/cloud-aiplatform/prediction/tf2-cpu.2-3:latest\"\n",
    "            }\n",
    "        },\n",
    "    )\n",
    "    \n",
    "\n",
    "    model_upload_op = ModelUploadOp(\n",
    "        project=PROJECT_ID,\n",
    "        display_name=\"model_display_name\",\n",
    "        unmanaged_container_model=unmanaged_model_importer.outputs[\"artifact\"],\n",
    "        #unmanaged_container_model=\"us-docker.pkg.dev/cloud-aiplatform/prediction/tf2-cpu.2-3:latest\",\n",
    "    )\n",
    "    model_upload_op.after(custom_producer_task)\n",
    "\n",
    "    '''\n",
    "    batch_predict_op = ModelBatchPredictOp(\n",
    "        project=PROJECT_ID,\n",
    "        job_display_name=\"batch_predict_job\",\n",
    "        model=model_upload_op.outputs[\"model\"],\n",
    "        gcs_source_uris=[MODEL_DIR + \"/test/test.jsonl\"],\n",
    "        gcs_destination_output_uri_prefix=PIPELINE_ROOT,\n",
    "        instances_format=\"jsonl\",\n",
    "        predictions_format=\"jsonl\",\n",
    "        model_parameters={},\n",
    "        machine_type=DEPLOY_COMPUTE,\n",
    "        starting_replica_count=1,\n",
    "        max_replica_count=1,\n",
    "    )\n",
    "    '''\n",
    "    \n",
    "    endpoint_create_op = EndpointCreateOp(\n",
    "        project=project,\n",
    "        display_name=\"pipelines-created-endpoint\",\n",
    "        )\n",
    "\n",
    "    \n",
    "    model_deploy_op = ModelDeployOp(\n",
    "        endpoint=endpoint_create_op.outputs[\"endpoint\"],\n",
    "        model=model_upload_op.outputs[\"model\"],\n",
    "        deployed_model_display_name=model_display_name,\n",
    "        dedicated_resources_machine_type=\"n1-standard-16\",\n",
    "        dedicated_resources_min_replica_count=1,\n",
    "        dedicated_resources_max_replica_count=1,\n",
    "    )\n",
    "\n",
    "    model_deploy_op.after(model_upload_op)"
   ]
  },
  {
   "cell_type": "markdown",
   "metadata": {
    "id": "e584790f"
   },
   "source": [
    "### Compile and run the pipeline\n",
    "Next, you compile the pipeline into a DAG and then exeute it."
   ]
  },
  {
   "cell_type": "code",
   "execution_count": 35,
   "metadata": {
    "id": "6be28881"
   },
   "outputs": [
    {
     "name": "stdout",
     "output_type": "stream",
     "text": [
      "Creating PipelineJob\n",
      "PipelineJob created. Resource name: projects/278305018396/locations/us-central1/pipelineJobs/custom-model-training-sample-pipeline-20220718045733\n",
      "To use this PipelineJob in another session:\n",
      "pipeline_job = aiplatform.PipelineJob.get('projects/278305018396/locations/us-central1/pipelineJobs/custom-model-training-sample-pipeline-20220718045733')\n",
      "View Pipeline Job:\n",
      "https://console.cloud.google.com/vertex-ai/locations/us-central1/pipelines/runs/custom-model-training-sample-pipeline-20220718045733?project=278305018396\n",
      "PipelineJob projects/278305018396/locations/us-central1/pipelineJobs/custom-model-training-sample-pipeline-20220718045733 current state:\n",
      "PipelineState.PIPELINE_STATE_RUNNING\n",
      "PipelineJob projects/278305018396/locations/us-central1/pipelineJobs/custom-model-training-sample-pipeline-20220718045733 current state:\n",
      "PipelineState.PIPELINE_STATE_RUNNING\n",
      "PipelineJob projects/278305018396/locations/us-central1/pipelineJobs/custom-model-training-sample-pipeline-20220718045733 current state:\n",
      "PipelineState.PIPELINE_STATE_RUNNING\n",
      "PipelineJob projects/278305018396/locations/us-central1/pipelineJobs/custom-model-training-sample-pipeline-20220718045733 current state:\n",
      "PipelineState.PIPELINE_STATE_RUNNING\n",
      "PipelineJob projects/278305018396/locations/us-central1/pipelineJobs/custom-model-training-sample-pipeline-20220718045733 current state:\n",
      "PipelineState.PIPELINE_STATE_RUNNING\n",
      "PipelineJob projects/278305018396/locations/us-central1/pipelineJobs/custom-model-training-sample-pipeline-20220718045733 current state:\n",
      "PipelineState.PIPELINE_STATE_RUNNING\n",
      "PipelineJob projects/278305018396/locations/us-central1/pipelineJobs/custom-model-training-sample-pipeline-20220718045733 current state:\n",
      "PipelineState.PIPELINE_STATE_RUNNING\n",
      "PipelineJob run completed. Resource name: projects/278305018396/locations/us-central1/pipelineJobs/custom-model-training-sample-pipeline-20220718045733\n"
     ]
    }
   ],
   "source": [
    "compiler.Compiler().compile(\n",
    "    pipeline_func=pipeline, package_path=\"custom_model_training_spec.json\"\n",
    ")\n",
    "\n",
    "DISPLAY_NAME = \"cifar10_\" + TIMESTAMP\n",
    "\n",
    "job = aip.PipelineJob(\n",
    "    display_name=DISPLAY_NAME,\n",
    "    template_path=\"custom_model_training_spec.json\",\n",
    "    pipeline_root=PIPELINE_ROOT,\n",
    ")\n",
    "\n",
    "#job.run(service_account=SERVICE_ACCOUNT)\n",
    "\n",
    "job.run(sync=False\n",
    "       )\n",
    "\n",
    "! rm custom_model_training_spec.json"
   ]
  },
  {
   "cell_type": "markdown",
   "metadata": {
    "id": "87774222c338"
   },
   "source": [
    "### View custom training pipeline results\n",
    "\n",
    "Finally, you will view the artifact outputs of each task in the pipeline."
   ]
  },
  {
   "cell_type": "code",
   "execution_count": null,
   "metadata": {
    "id": "ac26e1314c80"
   },
   "outputs": [],
   "source": [
    "import json\n",
    "\n",
    "PROJECT_NUMBER = job.gca_resource.name.split(\"/\")[1]\n",
    "print(PROJECT_NUMBER)\n",
    "\n",
    "\n",
    "def print_pipeline_output(job, output_task_name):\n",
    "    JOB_ID = job.name\n",
    "    print(JOB_ID)\n",
    "    for _ in range(len(job.gca_resource.job_detail.task_details)):\n",
    "        TASK_ID = job.gca_resource.job_detail.task_details[_].task_id\n",
    "        EXECUTE_OUTPUT = (\n",
    "            PIPELINE_ROOT\n",
    "            + \"/\"\n",
    "            + PROJECT_NUMBER\n",
    "            + \"/\"\n",
    "            + JOB_ID\n",
    "            + \"/\"\n",
    "            + output_task_name\n",
    "            + \"_\"\n",
    "            + str(TASK_ID)\n",
    "            + \"/executor_output.json\"\n",
    "        )\n",
    "        GCP_RESOURCES = (\n",
    "            PIPELINE_ROOT\n",
    "            + \"/\"\n",
    "            + PROJECT_NUMBER\n",
    "            + \"/\"\n",
    "            + JOB_ID\n",
    "            + \"/\"\n",
    "            + output_task_name\n",
    "            + \"_\"\n",
    "            + str(TASK_ID)\n",
    "            + \"/gcp_resources\"\n",
    "        )\n",
    "        EVAL_METRICS = (\n",
    "            PIPELINE_ROOT\n",
    "            + \"/\"\n",
    "            + PROJECT_NUMBER\n",
    "            + \"/\"\n",
    "            + JOB_ID\n",
    "            + \"/\"\n",
    "            + output_task_name\n",
    "            + \"_\"\n",
    "            + str(TASK_ID)\n",
    "            + \"/evaluation_metrics\"\n",
    "        )\n",
    "        if tf.io.gfile.exists(EXECUTE_OUTPUT):\n",
    "            ! gsutil cat $EXECUTE_OUTPUT\n",
    "            return EXECUTE_OUTPUT\n",
    "        elif tf.io.gfile.exists(GCP_RESOURCES):\n",
    "            ! gsutil cat $GCP_RESOURCES\n",
    "            return GCP_RESOURCES\n",
    "        elif tf.io.gfile.exists(EVAL_METRICS):\n",
    "            ! gsutil cat $EVAL_METRICS\n",
    "            return EVAL_METRICS\n",
    "\n",
    "    return None\n",
    "\n",
    "\n",
    "print(\"model-upload\")\n",
    "artifacts = print_pipeline_output(job, \"model-upload\")\n",
    "print(\"\\n\")\n",
    "output = !gsutil cat $artifacts\n",
    "print(output)\n",
    "output = json.loads(output[0])\n",
    "model_id = output[\"artifacts\"][\"model\"][\"artifacts\"][0][\"metadata\"][\"resourceName\"]\n",
    "print(\"model-batch-predict\")\n",
    "artifacts = print_pipeline_output(job, \"model-batch-predict\")\n",
    "print(\"\\n\")\n",
    "output = !gsutil cat $artifacts\n",
    "output = json.loads(output[0])\n",
    "batch_job_id = output[\"artifacts\"][\"batchpredictionjob\"][\"artifacts\"][0][\"metadata\"][\n",
    "    \"resourceName\"\n",
    "]"
   ]
  },
  {
   "cell_type": "markdown",
   "metadata": {
    "id": "a2cd7ee5cc21"
   },
   "source": [
    "## Cleaning up\n",
    "\n",
    "To clean up all Google Cloud resources used in this project, you can [delete the Google Cloud\n",
    "project](https://cloud.google.com/resource-manager/docs/creating-managing-projects#shutting_down_projects) you used for the tutorial.\n",
    "\n",
    "Otherwise, you can delete the individual resources you created in this tutorial."
   ]
  },
  {
   "cell_type": "code",
   "execution_count": null,
   "metadata": {
    "id": "c29a5f39e211"
   },
   "outputs": [],
   "source": [
    "job.delete()\n",
    "\n",
    "model = aip.Model(model_id)\n",
    "model.delete()\n",
    "\n",
    "batch_job = aip.BatchPredictionJob(batch_job_id)\n",
    "batch_job.delete()\n",
    "\n",
    "# uncomment to delete your bucket\n",
    "# ! gsutil rm -rf {BUCKET_URI}"
   ]
  },
  {
   "cell_type": "code",
   "execution_count": null,
   "metadata": {},
   "outputs": [],
   "source": []
  },
  {
   "cell_type": "code",
   "execution_count": null,
   "metadata": {},
   "outputs": [
    {
     "name": "stdout",
     "output_type": "stream",
     "text": [
      "Collecting tensorflow_datasets\n",
      "  Downloading tensorflow_datasets-4.6.0-py3-none-any.whl (4.3 MB)\n",
      "\u001b[2K     \u001b[90m━━━━━━━━━━━━━━━━━━━━━━━━━━━━━━━━━━━━━━━━\u001b[0m \u001b[32m4.3/4.3 MB\u001b[0m \u001b[31m41.5 MB/s\u001b[0m eta \u001b[36m0:00:00\u001b[0ma \u001b[36m0:00:01\u001b[0m\n",
      "\u001b[?25hRequirement already satisfied: numpy in /home/jupyter/.local/lib/python3.7/site-packages (from tensorflow_datasets) (1.21.6)\n",
      "Requirement already satisfied: protobuf>=3.12.2 in /home/jupyter/.local/lib/python3.7/site-packages (from tensorflow_datasets) (3.19.4)\n",
      "Requirement already satisfied: termcolor in /home/jupyter/.local/lib/python3.7/site-packages (from tensorflow_datasets) (1.1.0)\n",
      "Collecting etils[epath]\n",
      "  Downloading etils-0.6.0-py3-none-any.whl (98 kB)\n",
      "\u001b[2K     \u001b[90m━━━━━━━━━━━━━━━━━━━━━━━━━━━━━━━━━━━━━━━━\u001b[0m \u001b[32m98.1/98.1 kB\u001b[0m \u001b[31m14.0 MB/s\u001b[0m eta \u001b[36m0:00:00\u001b[0m\n",
      "\u001b[?25hRequirement already satisfied: tqdm in /opt/conda/lib/python3.7/site-packages (from tensorflow_datasets) (4.64.0)\n",
      "Collecting promise\n",
      "  Downloading promise-2.3.tar.gz (19 kB)\n",
      "  Preparing metadata (setup.py) ... \u001b[?25ldone\n",
      "\u001b[?25hRequirement already satisfied: absl-py in /home/jupyter/.local/lib/python3.7/site-packages (from tensorflow_datasets) (1.1.0)\n",
      "Requirement already satisfied: six in /opt/conda/lib/python3.7/site-packages (from tensorflow_datasets) (1.16.0)\n",
      "Collecting tensorflow-metadata\n",
      "  Downloading tensorflow_metadata-1.9.0-py3-none-any.whl (51 kB)\n",
      "\u001b[2K     \u001b[90m━━━━━━━━━━━━━━━━━━━━━━━━━━━━━━━━━━━━━━━━\u001b[0m \u001b[32m51.0/51.0 kB\u001b[0m \u001b[31m9.8 MB/s\u001b[0m eta \u001b[36m0:00:00\u001b[0m\n",
      "\u001b[?25hRequirement already satisfied: requests>=2.19.0 in /opt/conda/lib/python3.7/site-packages (from tensorflow_datasets) (2.27.1)\n",
      "Requirement already satisfied: toml in /opt/conda/lib/python3.7/site-packages (from tensorflow_datasets) (0.10.2)\n",
      "Requirement already satisfied: importlib-resources in /opt/conda/lib/python3.7/site-packages (from tensorflow_datasets) (5.7.1)\n",
      "Collecting dill\n",
      "  Downloading dill-0.3.5.1-py2.py3-none-any.whl (95 kB)\n",
      "\u001b[2K     \u001b[90m━━━━━━━━━━━━━━━━━━━━━━━━━━━━━━━━━━━━━━━━\u001b[0m \u001b[32m95.8/95.8 kB\u001b[0m \u001b[31m15.8 MB/s\u001b[0m eta \u001b[36m0:00:00\u001b[0m\n",
      "\u001b[?25hRequirement already satisfied: typing-extensions in /home/jupyter/.local/lib/python3.7/site-packages (from tensorflow_datasets) (4.3.0)\n",
      "Requirement already satisfied: charset-normalizer~=2.0.0 in /opt/conda/lib/python3.7/site-packages (from requests>=2.19.0->tensorflow_datasets) (2.0.12)\n",
      "Requirement already satisfied: idna<4,>=2.5 in /opt/conda/lib/python3.7/site-packages (from requests>=2.19.0->tensorflow_datasets) (3.3)\n",
      "Requirement already satisfied: certifi>=2017.4.17 in /opt/conda/lib/python3.7/site-packages (from requests>=2.19.0->tensorflow_datasets) (2022.5.18.1)\n",
      "Requirement already satisfied: urllib3<1.27,>=1.21.1 in /opt/conda/lib/python3.7/site-packages (from requests>=2.19.0->tensorflow_datasets) (1.26.9)\n",
      "Requirement already satisfied: zipp in /opt/conda/lib/python3.7/site-packages (from etils[epath]->tensorflow_datasets) (3.8.0)\n",
      "Requirement already satisfied: googleapis-common-protos<2,>=1.52.0 in /opt/conda/lib/python3.7/site-packages (from tensorflow-metadata->tensorflow_datasets) (1.56.1)\n",
      "Building wheels for collected packages: promise\n",
      "  Building wheel for promise (setup.py) ... \u001b[?25ldone\n",
      "\u001b[?25h  Created wheel for promise: filename=promise-2.3-py3-none-any.whl size=21503 sha256=f0d723b1cc28cb11742fc0d81c3a0ffd4358eafcca6359ac25d23801c2eadcc3\n",
      "  Stored in directory: /home/jupyter/.cache/pip/wheels/29/93/c6/762e359f8cb6a5b69c72235d798804cae523bbe41c2aa8333d\n",
      "Successfully built promise\n",
      "Installing collected packages: promise, etils, dill, tensorflow-metadata, tensorflow_datasets\n",
      "\u001b[33m  WARNING: The script tfds is installed in '/home/jupyter/.local/bin' which is not on PATH.\n",
      "  Consider adding this directory to PATH or, if you prefer to suppress this warning, use --no-warn-script-location.\u001b[0m\u001b[33m\n",
      "\u001b[0mSuccessfully installed dill-0.3.5.1 etils-0.6.0 promise-2.3 tensorflow-metadata-1.9.0 tensorflow_datasets-4.6.0\n"
     ]
    }
   ],
   "source": [
    "!pip3 install tensorflow_datasets --user"
   ]
  },
  {
   "cell_type": "code",
   "execution_count": 47,
   "metadata": {
    "collapsed": true,
    "jupyter": {
     "outputs_hidden": true
    },
    "tags": []
   },
   "outputs": [
    {
     "name": "stderr",
     "output_type": "stream",
     "text": [
      "/opt/conda/lib/python3.7/site-packages/tqdm/auto.py:22: TqdmWarning: IProgress not found. Please update jupyter and ipywidgets. See https://ipywidgets.readthedocs.io/en/stable/user_install.html\n",
      "  from .autonotebook import tqdm as notebook_tqdm\n"
     ]
    },
    {
     "name": "stdout",
     "output_type": "stream",
     "text": [
      "\u001b[1mDownloading and preparing dataset 162.17 MiB (download: 162.17 MiB, generated: 132.40 MiB, total: 294.58 MiB) to ~/tensorflow_datasets/cifar10/3.0.2...\u001b[0m\n"
     ]
    },
    {
     "name": "stderr",
     "output_type": "stream",
     "text": [
      "Dl Completed...: 0 url [00:00, ? url/s]\n",
      "Dl Size...: 0 MiB [00:00, ? MiB/s]\u001b[A\n",
      "\n",
      "Dl Completed...:   0%|          | 0/1 [00:00<?, ? url/s]\n",
      "Dl Size...: 0 MiB [00:00, ? MiB/s]\u001b[A\n",
      "\n",
      "Dl Completed...:   0%|          | 0/1 [00:01<?, ? url/s]\n",
      "Dl Size...:   0%|          | 0/162 [00:01<?, ? MiB/s]\u001b[A\n",
      "\n",
      "Extraction completed...: 0 file [00:01, ? file/s]\u001b[A\u001b[A\n",
      "Dl Completed...:   0%|          | 0/1 [00:01<?, ? url/s] MiB]\u001b[A\n",
      "Dl Size...:   1%|          | 1/162 [00:01<03:25,  1.28s/ MiB]\u001b[A\n",
      "\n",
      "Dl Completed...:   0%|          | 0/1 [00:01<?, ? url/s]\n",
      "Dl Size...:   1%|          | 2/162 [00:01<03:24,  1.28s/ MiB]\u001b[A\n",
      "\n",
      "Dl Completed...:   0%|          | 0/1 [00:01<?, ? url/s]\n",
      "Dl Size...:   2%|▏         | 3/162 [00:01<03:22,  1.28s/ MiB]\u001b[A\n",
      "\n",
      "Dl Completed...:   0%|          | 0/1 [00:01<?, ? url/s]\n",
      "Dl Size...:   2%|▏         | 4/162 [00:01<03:21,  1.28s/ MiB]\u001b[A\n",
      "\n",
      "Dl Completed...:   0%|          | 0/1 [00:01<?, ? url/s]\n",
      "Dl Size...:   3%|▎         | 5/162 [00:01<03:20,  1.28s/ MiB]\u001b[A\n",
      "\n",
      "Extraction completed...: 0 file [00:01, ? file/s]\u001b[A\u001b[A\n",
      "Dl Completed...:   0%|          | 0/1 [00:01<?, ? url/s]iB/s]\u001b[A\n",
      "Dl Size...:   4%|▎         | 6/162 [00:01<00:27,  5.73 MiB/s]\u001b[A\n",
      "\n",
      "Dl Completed...:   0%|          | 0/1 [00:01<?, ? url/s]\n",
      "Dl Size...:   4%|▍         | 7/162 [00:01<00:27,  5.73 MiB/s]\u001b[A\n",
      "\n",
      "Dl Completed...:   0%|          | 0/1 [00:01<?, ? url/s]\n",
      "Dl Size...:   5%|▍         | 8/162 [00:01<00:26,  5.73 MiB/s]\u001b[A\n",
      "\n",
      "Dl Completed...:   0%|          | 0/1 [00:01<?, ? url/s]\n",
      "Dl Size...:   6%|▌         | 9/162 [00:01<00:26,  5.73 MiB/s]\u001b[A\n",
      "\n",
      "Dl Completed...:   0%|          | 0/1 [00:01<?, ? url/s]\n",
      "Dl Size...:   6%|▌         | 10/162 [00:01<00:26,  5.73 MiB/s]\u001b[A\n",
      "\n",
      "Dl Completed...:   0%|          | 0/1 [00:01<?, ? url/s]\n",
      "Dl Size...:   7%|▋         | 11/162 [00:01<00:26,  5.73 MiB/s]\u001b[A\n",
      "\n",
      "Extraction completed...: 0 file [00:01, ? file/s]\u001b[A\u001b[A\n",
      "Dl Completed...:   0%|          | 0/1 [00:01<?, ? url/s]MiB/s]\u001b[A\n",
      "Dl Size...:   7%|▋         | 12/162 [00:01<00:12, 12.33 MiB/s]\u001b[A\n",
      "\n",
      "Dl Completed...:   0%|          | 0/1 [00:01<?, ? url/s]\n",
      "Dl Size...:   8%|▊         | 13/162 [00:01<00:12, 12.33 MiB/s]\u001b[A\n",
      "\n",
      "Dl Completed...:   0%|          | 0/1 [00:01<?, ? url/s]\n",
      "Dl Size...:   9%|▊         | 14/162 [00:01<00:12, 12.33 MiB/s]\u001b[A\n",
      "\n",
      "Dl Completed...:   0%|          | 0/1 [00:01<?, ? url/s]\n",
      "Dl Size...:   9%|▉         | 15/162 [00:01<00:11, 12.33 MiB/s]\u001b[A\n",
      "\n",
      "Dl Completed...:   0%|          | 0/1 [00:01<?, ? url/s]\n",
      "Dl Size...:  10%|▉         | 16/162 [00:01<00:11, 12.33 MiB/s]\u001b[A\n",
      "\n",
      "Extraction completed...: 0 file [00:01, ? file/s]\u001b[A\u001b[A\n",
      "Dl Completed...:   0%|          | 0/1 [00:01<?, ? url/s]MiB/s]\u001b[A\n",
      "Dl Size...:  10%|█         | 17/162 [00:01<00:08, 17.93 MiB/s]\u001b[A\n",
      "\n",
      "Dl Completed...:   0%|          | 0/1 [00:01<?, ? url/s]\n",
      "Dl Size...:  11%|█         | 18/162 [00:01<00:08, 17.93 MiB/s]\u001b[A\n",
      "\n",
      "Dl Completed...:   0%|          | 0/1 [00:01<?, ? url/s]\n",
      "Dl Size...:  12%|█▏        | 19/162 [00:01<00:07, 17.93 MiB/s]\u001b[A\n",
      "\n",
      "Dl Completed...:   0%|          | 0/1 [00:01<?, ? url/s]\n",
      "Dl Size...:  12%|█▏        | 20/162 [00:01<00:07, 17.93 MiB/s]\u001b[A\n",
      "\n",
      "Dl Completed...:   0%|          | 0/1 [00:01<?, ? url/s]\n",
      "Dl Size...:  13%|█▎        | 21/162 [00:01<00:07, 17.93 MiB/s]\u001b[A\n",
      "\n",
      "Dl Completed...:   0%|          | 0/1 [00:01<?, ? url/s]\n",
      "Dl Size...:  14%|█▎        | 22/162 [00:01<00:07, 17.93 MiB/s]\u001b[A\n",
      "\n",
      "Extraction completed...: 0 file [00:01, ? file/s]\u001b[A\u001b[A\n",
      "Dl Completed...:   0%|          | 0/1 [00:01<?, ? url/s]MiB/s]\u001b[A\n",
      "Dl Size...:  14%|█▍        | 23/162 [00:01<00:05, 24.64 MiB/s]\u001b[A\n",
      "\n",
      "Dl Completed...:   0%|          | 0/1 [00:01<?, ? url/s]\n",
      "Dl Size...:  15%|█▍        | 24/162 [00:01<00:05, 24.64 MiB/s]\u001b[A\n",
      "\n",
      "Dl Completed...:   0%|          | 0/1 [00:01<?, ? url/s]\n",
      "Dl Size...:  15%|█▌        | 25/162 [00:01<00:05, 24.64 MiB/s]\u001b[A\n",
      "\n",
      "Dl Completed...:   0%|          | 0/1 [00:01<?, ? url/s]\n",
      "Dl Size...:  16%|█▌        | 26/162 [00:01<00:05, 24.64 MiB/s]\u001b[A\n",
      "\n",
      "Dl Completed...:   0%|          | 0/1 [00:01<?, ? url/s]\n",
      "Dl Size...:  17%|█▋        | 27/162 [00:01<00:05, 24.64 MiB/s]\u001b[A\n",
      "\n",
      "Dl Completed...:   0%|          | 0/1 [00:01<?, ? url/s]\n",
      "Dl Size...:  17%|█▋        | 28/162 [00:01<00:05, 24.64 MiB/s]\u001b[A\n",
      "\n",
      "Extraction completed...: 0 file [00:01, ? file/s]\u001b[A\u001b[A\n",
      "Dl Completed...:   0%|          | 0/1 [00:01<?, ? url/s]MiB/s]\u001b[A\n",
      "Dl Size...:  18%|█▊        | 29/162 [00:01<00:04, 30.40 MiB/s]\u001b[A\n",
      "\n",
      "Dl Completed...:   0%|          | 0/1 [00:01<?, ? url/s]\n",
      "Dl Size...:  19%|█▊        | 30/162 [00:01<00:04, 30.40 MiB/s]\u001b[A\n",
      "\n",
      "Dl Completed...:   0%|          | 0/1 [00:01<?, ? url/s]\n",
      "Dl Size...:  19%|█▉        | 31/162 [00:01<00:04, 30.40 MiB/s]\u001b[A\n",
      "\n",
      "Dl Completed...:   0%|          | 0/1 [00:01<?, ? url/s]\n",
      "Dl Size...:  20%|█▉        | 32/162 [00:01<00:04, 30.40 MiB/s]\u001b[A\n",
      "\n",
      "Dl Completed...:   0%|          | 0/1 [00:01<?, ? url/s]\n",
      "Dl Size...:  20%|██        | 33/162 [00:01<00:04, 30.40 MiB/s]\u001b[A\n",
      "\n",
      "Dl Completed...:   0%|          | 0/1 [00:01<?, ? url/s]\n",
      "Dl Size...:  21%|██        | 34/162 [00:01<00:04, 30.40 MiB/s]\u001b[A\n",
      "\n",
      "Extraction completed...: 0 file [00:01, ? file/s]\u001b[A\u001b[A\n",
      "Dl Completed...:   0%|          | 0/1 [00:01<?, ? url/s]MiB/s]\u001b[A\n",
      "Dl Size...:  22%|██▏       | 35/162 [00:01<00:03, 35.81 MiB/s]\u001b[A\n",
      "\n",
      "Dl Completed...:   0%|          | 0/1 [00:01<?, ? url/s]\n",
      "Dl Size...:  22%|██▏       | 36/162 [00:01<00:03, 35.81 MiB/s]\u001b[A\n",
      "\n",
      "Dl Completed...:   0%|          | 0/1 [00:01<?, ? url/s]\n",
      "Dl Size...:  23%|██▎       | 37/162 [00:01<00:03, 35.81 MiB/s]\u001b[A\n",
      "\n",
      "Dl Completed...:   0%|          | 0/1 [00:02<?, ? url/s]\n",
      "Dl Size...:  23%|██▎       | 38/162 [00:02<00:03, 35.81 MiB/s]\u001b[A\n",
      "\n",
      "Dl Completed...:   0%|          | 0/1 [00:02<?, ? url/s]\n",
      "Dl Size...:  24%|██▍       | 39/162 [00:02<00:03, 35.81 MiB/s]\u001b[A\n",
      "\n",
      "Dl Completed...:   0%|          | 0/1 [00:02<?, ? url/s]\n",
      "Dl Size...:  25%|██▍       | 40/162 [00:02<00:03, 35.81 MiB/s]\u001b[A\n",
      "\n",
      "Extraction completed...: 0 file [00:02, ? file/s]\u001b[A\u001b[A\n",
      "Dl Completed...:   0%|          | 0/1 [00:02<?, ? url/s]MiB/s]\u001b[A\n",
      "Dl Size...:  25%|██▌       | 41/162 [00:02<00:03, 39.60 MiB/s]\u001b[A\n",
      "\n",
      "Dl Completed...:   0%|          | 0/1 [00:02<?, ? url/s]\n",
      "Dl Size...:  26%|██▌       | 42/162 [00:02<00:03, 39.60 MiB/s]\u001b[A\n",
      "\n",
      "Dl Completed...:   0%|          | 0/1 [00:02<?, ? url/s]\n",
      "Dl Size...:  27%|██▋       | 43/162 [00:02<00:03, 39.60 MiB/s]\u001b[A\n",
      "\n",
      "Dl Completed...:   0%|          | 0/1 [00:02<?, ? url/s]\n",
      "Dl Size...:  27%|██▋       | 44/162 [00:02<00:02, 39.60 MiB/s]\u001b[A\n",
      "\n",
      "Dl Completed...:   0%|          | 0/1 [00:02<?, ? url/s]\n",
      "Dl Size...:  28%|██▊       | 45/162 [00:02<00:02, 39.60 MiB/s]\u001b[A\n",
      "\n",
      "Extraction completed...: 0 file [00:02, ? file/s]\u001b[A\u001b[A\n",
      "Dl Completed...:   0%|          | 0/1 [00:02<?, ? url/s]MiB/s]\u001b[A\n",
      "Dl Size...:  28%|██▊       | 46/162 [00:02<00:02, 40.79 MiB/s]\u001b[A\n",
      "\n",
      "Dl Completed...:   0%|          | 0/1 [00:02<?, ? url/s]\n",
      "Dl Size...:  29%|██▉       | 47/162 [00:02<00:02, 40.79 MiB/s]\u001b[A\n",
      "\n",
      "Dl Completed...:   0%|          | 0/1 [00:02<?, ? url/s]\n",
      "Dl Size...:  30%|██▉       | 48/162 [00:02<00:02, 40.79 MiB/s]\u001b[A\n",
      "\n",
      "Dl Completed...:   0%|          | 0/1 [00:02<?, ? url/s]\n",
      "Dl Size...:  30%|███       | 49/162 [00:02<00:02, 40.79 MiB/s]\u001b[A\n",
      "\n",
      "Dl Completed...:   0%|          | 0/1 [00:02<?, ? url/s]\n",
      "Dl Size...:  31%|███       | 50/162 [00:02<00:02, 40.79 MiB/s]\u001b[A\n",
      "\n",
      "Dl Completed...:   0%|          | 0/1 [00:02<?, ? url/s]\n",
      "Dl Size...:  31%|███▏      | 51/162 [00:02<00:02, 40.79 MiB/s]\u001b[A\n",
      "\n",
      "Extraction completed...: 0 file [00:02, ? file/s]\u001b[A\u001b[A\n",
      "Dl Completed...:   0%|          | 0/1 [00:02<?, ? url/s]MiB/s]\u001b[A\n",
      "Dl Size...:  32%|███▏      | 52/162 [00:02<00:02, 44.53 MiB/s]\u001b[A\n",
      "\n",
      "Dl Completed...:   0%|          | 0/1 [00:02<?, ? url/s]\n",
      "Dl Size...:  33%|███▎      | 53/162 [00:02<00:02, 44.53 MiB/s]\u001b[A\n",
      "\n",
      "Dl Completed...:   0%|          | 0/1 [00:02<?, ? url/s]\n",
      "Dl Size...:  33%|███▎      | 54/162 [00:02<00:02, 44.53 MiB/s]\u001b[A\n",
      "\n",
      "Dl Completed...:   0%|          | 0/1 [00:02<?, ? url/s]\n",
      "Dl Size...:  34%|███▍      | 55/162 [00:02<00:02, 44.53 MiB/s]\u001b[A\n",
      "\n",
      "Dl Completed...:   0%|          | 0/1 [00:02<?, ? url/s]\n",
      "Dl Size...:  35%|███▍      | 56/162 [00:02<00:02, 44.53 MiB/s]\u001b[A\n",
      "\n",
      "Dl Completed...:   0%|          | 0/1 [00:02<?, ? url/s]\n",
      "Dl Size...:  35%|███▌      | 57/162 [00:02<00:02, 44.53 MiB/s]\u001b[A\n",
      "\n",
      "Extraction completed...: 0 file [00:02, ? file/s]\u001b[A\u001b[A\n",
      "Dl Completed...:   0%|          | 0/1 [00:02<?, ? url/s]MiB/s]\u001b[A\n",
      "Dl Size...:  36%|███▌      | 58/162 [00:02<00:02, 47.77 MiB/s]\u001b[A\n",
      "\n",
      "Dl Completed...:   0%|          | 0/1 [00:02<?, ? url/s]\n",
      "Dl Size...:  36%|███▋      | 59/162 [00:02<00:02, 47.77 MiB/s]\u001b[A\n",
      "\n",
      "Dl Completed...:   0%|          | 0/1 [00:02<?, ? url/s]\n",
      "Dl Size...:  37%|███▋      | 60/162 [00:02<00:02, 47.77 MiB/s]\u001b[A\n",
      "\n",
      "Dl Completed...:   0%|          | 0/1 [00:02<?, ? url/s]\n",
      "Dl Size...:  38%|███▊      | 61/162 [00:02<00:02, 47.77 MiB/s]\u001b[A\n",
      "\n",
      "Dl Completed...:   0%|          | 0/1 [00:02<?, ? url/s]\n",
      "Dl Size...:  38%|███▊      | 62/162 [00:02<00:02, 47.77 MiB/s]\u001b[A\n",
      "\n",
      "Dl Completed...:   0%|          | 0/1 [00:02<?, ? url/s]\n",
      "Dl Size...:  39%|███▉      | 63/162 [00:02<00:02, 47.77 MiB/s]\u001b[A\n",
      "\n",
      "Extraction completed...: 0 file [00:02, ? file/s]\u001b[A\u001b[A\n",
      "Dl Completed...:   0%|          | 0/1 [00:02<?, ? url/s]MiB/s]\u001b[A\n",
      "Dl Size...:  40%|███▉      | 64/162 [00:02<00:01, 49.96 MiB/s]\u001b[A\n",
      "\n",
      "Dl Completed...:   0%|          | 0/1 [00:02<?, ? url/s]\n",
      "Dl Size...:  40%|████      | 65/162 [00:02<00:01, 49.96 MiB/s]\u001b[A\n",
      "\n",
      "Dl Completed...:   0%|          | 0/1 [00:02<?, ? url/s]\n",
      "Dl Size...:  41%|████      | 66/162 [00:02<00:01, 49.96 MiB/s]\u001b[A\n",
      "\n",
      "Dl Completed...:   0%|          | 0/1 [00:02<?, ? url/s]\n",
      "Dl Size...:  41%|████▏     | 67/162 [00:02<00:01, 49.96 MiB/s]\u001b[A\n",
      "\n",
      "Dl Completed...:   0%|          | 0/1 [00:02<?, ? url/s]\n",
      "Dl Size...:  42%|████▏     | 68/162 [00:02<00:01, 49.96 MiB/s]\u001b[A\n",
      "\n",
      "Dl Completed...:   0%|          | 0/1 [00:02<?, ? url/s]\n",
      "Dl Size...:  43%|████▎     | 69/162 [00:02<00:01, 49.96 MiB/s]\u001b[A\n",
      "\n",
      "Extraction completed...: 0 file [00:02, ? file/s]\u001b[A\u001b[A\n",
      "Dl Completed...:   0%|          | 0/1 [00:02<?, ? url/s]MiB/s]\u001b[A\n",
      "Dl Size...:  43%|████▎     | 70/162 [00:02<00:01, 50.28 MiB/s]\u001b[A\n",
      "\n",
      "Dl Completed...:   0%|          | 0/1 [00:02<?, ? url/s]\n",
      "Dl Size...:  44%|████▍     | 71/162 [00:02<00:01, 50.28 MiB/s]\u001b[A\n",
      "\n",
      "Dl Completed...:   0%|          | 0/1 [00:02<?, ? url/s]\n",
      "Dl Size...:  44%|████▍     | 72/162 [00:02<00:01, 50.28 MiB/s]\u001b[A\n",
      "\n",
      "Dl Completed...:   0%|          | 0/1 [00:02<?, ? url/s]\n",
      "Dl Size...:  45%|████▌     | 73/162 [00:02<00:01, 50.28 MiB/s]\u001b[A\n",
      "\n",
      "Dl Completed...:   0%|          | 0/1 [00:02<?, ? url/s]\n",
      "Dl Size...:  46%|████▌     | 74/162 [00:02<00:01, 50.28 MiB/s]\u001b[A\n",
      "\n",
      "Dl Completed...:   0%|          | 0/1 [00:02<?, ? url/s]\n",
      "Dl Size...:  46%|████▋     | 75/162 [00:02<00:01, 50.28 MiB/s]\u001b[A\n",
      "\n",
      "Extraction completed...: 0 file [00:02, ? file/s]\u001b[A\u001b[A\n",
      "Dl Completed...:   0%|          | 0/1 [00:02<?, ? url/s]MiB/s]\u001b[A\n",
      "Dl Size...:  47%|████▋     | 76/162 [00:02<00:01, 48.19 MiB/s]\u001b[A\n",
      "\n",
      "Dl Completed...:   0%|          | 0/1 [00:02<?, ? url/s]\n",
      "Dl Size...:  48%|████▊     | 77/162 [00:02<00:01, 48.19 MiB/s]\u001b[A\n",
      "\n",
      "Dl Completed...:   0%|          | 0/1 [00:02<?, ? url/s]\n",
      "Dl Size...:  48%|████▊     | 78/162 [00:02<00:01, 48.19 MiB/s]\u001b[A\n",
      "\n",
      "Dl Completed...:   0%|          | 0/1 [00:02<?, ? url/s]\n",
      "Dl Size...:  49%|████▉     | 79/162 [00:02<00:01, 48.19 MiB/s]\u001b[A\n",
      "\n",
      "Dl Completed...:   0%|          | 0/1 [00:02<?, ? url/s]\n",
      "Dl Size...:  49%|████▉     | 80/162 [00:02<00:01, 48.19 MiB/s]\u001b[A\n",
      "\n",
      "Extraction completed...: 0 file [00:02, ? file/s]\u001b[A\u001b[A\n",
      "Dl Completed...:   0%|          | 0/1 [00:02<?, ? url/s]MiB/s]\u001b[A\n",
      "Dl Size...:  50%|█████     | 81/162 [00:02<00:01, 47.96 MiB/s]\u001b[A\n",
      "\n",
      "Dl Completed...:   0%|          | 0/1 [00:02<?, ? url/s]\n",
      "Dl Size...:  51%|█████     | 82/162 [00:02<00:01, 47.96 MiB/s]\u001b[A\n",
      "\n",
      "Dl Completed...:   0%|          | 0/1 [00:02<?, ? url/s]\n",
      "Dl Size...:  51%|█████     | 83/162 [00:02<00:01, 47.96 MiB/s]\u001b[A\n",
      "\n",
      "Dl Completed...:   0%|          | 0/1 [00:02<?, ? url/s]\n",
      "Dl Size...:  52%|█████▏    | 84/162 [00:02<00:01, 47.96 MiB/s]\u001b[A\n",
      "\n",
      "Dl Completed...:   0%|          | 0/1 [00:02<?, ? url/s]\n",
      "Dl Size...:  52%|█████▏    | 85/162 [00:02<00:01, 47.96 MiB/s]\u001b[A\n",
      "\n",
      "Dl Completed...:   0%|          | 0/1 [00:02<?, ? url/s]\n",
      "Dl Size...:  53%|█████▎    | 86/162 [00:02<00:01, 47.96 MiB/s]\u001b[A\n",
      "\n",
      "Dl Completed...:   0%|          | 0/1 [00:02<?, ? url/s]\n",
      "Dl Size...:  54%|█████▎    | 87/162 [00:02<00:01, 47.96 MiB/s]\u001b[A\n",
      "\n",
      "Extraction completed...: 0 file [00:02, ? file/s]\u001b[A\u001b[A\n",
      "Dl Completed...:   0%|          | 0/1 [00:02<?, ? url/s]MiB/s]\u001b[A\n",
      "Dl Size...:  54%|█████▍    | 88/162 [00:02<00:01, 51.79 MiB/s]\u001b[A\n",
      "\n",
      "Dl Completed...:   0%|          | 0/1 [00:02<?, ? url/s]\n",
      "Dl Size...:  55%|█████▍    | 89/162 [00:02<00:01, 51.79 MiB/s]\u001b[A\n",
      "\n",
      "Dl Completed...:   0%|          | 0/1 [00:03<?, ? url/s]\n",
      "Dl Size...:  56%|█████▌    | 90/162 [00:03<00:01, 51.79 MiB/s]\u001b[A\n",
      "\n",
      "Dl Completed...:   0%|          | 0/1 [00:03<?, ? url/s]\n",
      "Dl Size...:  56%|█████▌    | 91/162 [00:03<00:01, 51.79 MiB/s]\u001b[A\n",
      "\n",
      "Dl Completed...:   0%|          | 0/1 [00:03<?, ? url/s]\n",
      "Dl Size...:  57%|█████▋    | 92/162 [00:03<00:01, 51.79 MiB/s]\u001b[A\n",
      "\n",
      "Dl Completed...:   0%|          | 0/1 [00:03<?, ? url/s]\n",
      "Dl Size...:  57%|█████▋    | 93/162 [00:03<00:01, 51.79 MiB/s]\u001b[A\n",
      "\n",
      "Dl Completed...:   0%|          | 0/1 [00:03<?, ? url/s]\n",
      "Dl Size...:  58%|█████▊    | 94/162 [00:03<00:01, 51.79 MiB/s]\u001b[A\n",
      "\n",
      "Extraction completed...: 0 file [00:03, ? file/s]\u001b[A\u001b[A\n",
      "Dl Completed...:   0%|          | 0/1 [00:03<?, ? url/s]MiB/s]\u001b[A\n",
      "Dl Size...:  59%|█████▊    | 95/162 [00:03<00:01, 54.39 MiB/s]\u001b[A\n",
      "\n",
      "Dl Completed...:   0%|          | 0/1 [00:03<?, ? url/s]\n",
      "Dl Size...:  59%|█████▉    | 96/162 [00:03<00:01, 54.39 MiB/s]\u001b[A\n",
      "\n",
      "Dl Completed...:   0%|          | 0/1 [00:03<?, ? url/s]\n",
      "Dl Size...:  60%|█████▉    | 97/162 [00:03<00:01, 54.39 MiB/s]\u001b[A\n",
      "\n",
      "Dl Completed...:   0%|          | 0/1 [00:03<?, ? url/s]\n",
      "Dl Size...:  60%|██████    | 98/162 [00:03<00:01, 54.39 MiB/s]\u001b[A\n",
      "\n",
      "Dl Completed...:   0%|          | 0/1 [00:03<?, ? url/s]\n",
      "Dl Size...:  61%|██████    | 99/162 [00:03<00:01, 54.39 MiB/s]\u001b[A\n",
      "\n",
      "Dl Completed...:   0%|          | 0/1 [00:03<?, ? url/s]\n",
      "Dl Size...:  62%|██████▏   | 100/162 [00:03<00:01, 54.39 MiB/s]\u001b[A\n",
      "\n",
      "Extraction completed...: 0 file [00:03, ? file/s]\u001b[A\u001b[A\n",
      "Dl Completed...:   0%|          | 0/1 [00:03<?, ? url/s] MiB/s]\u001b[A\n",
      "Dl Size...:  62%|██████▏   | 101/162 [00:03<00:01, 52.83 MiB/s]\u001b[A\n",
      "\n",
      "Dl Completed...:   0%|          | 0/1 [00:03<?, ? url/s]\n",
      "Dl Size...:  63%|██████▎   | 102/162 [00:03<00:01, 52.83 MiB/s]\u001b[A\n",
      "\n",
      "Dl Completed...:   0%|          | 0/1 [00:03<?, ? url/s]\n",
      "Dl Size...:  64%|██████▎   | 103/162 [00:03<00:01, 52.83 MiB/s]\u001b[A\n",
      "\n",
      "Dl Completed...:   0%|          | 0/1 [00:03<?, ? url/s]\n",
      "Dl Size...:  64%|██████▍   | 104/162 [00:03<00:01, 52.83 MiB/s]\u001b[A\n",
      "\n",
      "Dl Completed...:   0%|          | 0/1 [00:03<?, ? url/s]\n",
      "Dl Size...:  65%|██████▍   | 105/162 [00:03<00:01, 52.83 MiB/s]\u001b[A\n",
      "\n",
      "Dl Completed...:   0%|          | 0/1 [00:03<?, ? url/s]\n",
      "Dl Size...:  65%|██████▌   | 106/162 [00:03<00:01, 52.83 MiB/s]\u001b[A\n",
      "\n",
      "Extraction completed...: 0 file [00:03, ? file/s]\u001b[A\u001b[A\n",
      "Dl Completed...:   0%|          | 0/1 [00:03<?, ? url/s] MiB/s]\u001b[A\n",
      "Dl Size...:  66%|██████▌   | 107/162 [00:03<00:01, 50.62 MiB/s]\u001b[A\n",
      "\n",
      "Dl Completed...:   0%|          | 0/1 [00:03<?, ? url/s]\n",
      "Dl Size...:  67%|██████▋   | 108/162 [00:03<00:01, 50.62 MiB/s]\u001b[A\n",
      "\n",
      "Dl Completed...:   0%|          | 0/1 [00:03<?, ? url/s]\n",
      "Dl Size...:  67%|██████▋   | 109/162 [00:03<00:01, 50.62 MiB/s]\u001b[A\n",
      "\n",
      "Dl Completed...:   0%|          | 0/1 [00:03<?, ? url/s]\n",
      "Dl Size...:  68%|██████▊   | 110/162 [00:03<00:01, 50.62 MiB/s]\u001b[A\n",
      "\n",
      "Dl Completed...:   0%|          | 0/1 [00:03<?, ? url/s]\n",
      "Dl Size...:  69%|██████▊   | 111/162 [00:03<00:01, 50.62 MiB/s]\u001b[A\n",
      "\n",
      "Dl Completed...:   0%|          | 0/1 [00:03<?, ? url/s]\n",
      "Dl Size...:  69%|██████▉   | 112/162 [00:03<00:00, 50.62 MiB/s]\u001b[A\n",
      "\n",
      "Extraction completed...: 0 file [00:03, ? file/s]\u001b[A\u001b[A\n",
      "Dl Completed...:   0%|          | 0/1 [00:03<?, ? url/s] MiB/s]\u001b[A\n",
      "Dl Size...:  70%|██████▉   | 113/162 [00:03<00:01, 46.85 MiB/s]\u001b[A\n",
      "\n",
      "Dl Completed...:   0%|          | 0/1 [00:03<?, ? url/s]\n",
      "Dl Size...:  70%|███████   | 114/162 [00:03<00:01, 46.85 MiB/s]\u001b[A\n",
      "\n",
      "Dl Completed...:   0%|          | 0/1 [00:03<?, ? url/s]\n",
      "Dl Size...:  71%|███████   | 115/162 [00:03<00:01, 46.85 MiB/s]\u001b[A\n",
      "\n",
      "Dl Completed...:   0%|          | 0/1 [00:03<?, ? url/s]\n",
      "Dl Size...:  72%|███████▏  | 116/162 [00:03<00:00, 46.85 MiB/s]\u001b[A\n",
      "\n",
      "Dl Completed...:   0%|          | 0/1 [00:03<?, ? url/s]\n",
      "Dl Size...:  72%|███████▏  | 117/162 [00:03<00:00, 46.85 MiB/s]\u001b[A\n",
      "\n",
      "Extraction completed...: 0 file [00:03, ? file/s]\u001b[A\u001b[A\n",
      "Dl Completed...:   0%|          | 0/1 [00:03<?, ? url/s] MiB/s]\u001b[A\n",
      "Dl Size...:  73%|███████▎  | 118/162 [00:03<00:00, 45.68 MiB/s]\u001b[A\n",
      "\n",
      "Dl Completed...:   0%|          | 0/1 [00:03<?, ? url/s]\n",
      "Dl Size...:  73%|███████▎  | 119/162 [00:03<00:00, 45.68 MiB/s]\u001b[A\n",
      "\n",
      "Dl Completed...:   0%|          | 0/1 [00:03<?, ? url/s]\n",
      "Dl Size...:  74%|███████▍  | 120/162 [00:03<00:00, 45.68 MiB/s]\u001b[A\n",
      "\n",
      "Dl Completed...:   0%|          | 0/1 [00:03<?, ? url/s]\n",
      "Dl Size...:  75%|███████▍  | 121/162 [00:03<00:00, 45.68 MiB/s]\u001b[A\n",
      "\n",
      "Dl Completed...:   0%|          | 0/1 [00:03<?, ? url/s]\n",
      "Dl Size...:  75%|███████▌  | 122/162 [00:03<00:00, 45.68 MiB/s]\u001b[A\n",
      "\n",
      "Extraction completed...: 0 file [00:03, ? file/s]\u001b[A\u001b[A\n",
      "Dl Completed...:   0%|          | 0/1 [00:03<?, ? url/s] MiB/s]\u001b[A\n",
      "Dl Size...:  76%|███████▌  | 123/162 [00:03<00:00, 43.93 MiB/s]\u001b[A\n",
      "\n",
      "Dl Completed...:   0%|          | 0/1 [00:03<?, ? url/s]\n",
      "Dl Size...:  77%|███████▋  | 124/162 [00:03<00:00, 43.93 MiB/s]\u001b[A\n",
      "\n",
      "Dl Completed...:   0%|          | 0/1 [00:03<?, ? url/s]\n",
      "Dl Size...:  77%|███████▋  | 125/162 [00:03<00:00, 43.93 MiB/s]\u001b[A\n",
      "\n",
      "Dl Completed...:   0%|          | 0/1 [00:03<?, ? url/s]\n",
      "Dl Size...:  78%|███████▊  | 126/162 [00:03<00:00, 43.93 MiB/s]\u001b[A\n",
      "\n",
      "Dl Completed...:   0%|          | 0/1 [00:03<?, ? url/s]\n",
      "Dl Size...:  78%|███████▊  | 127/162 [00:03<00:00, 43.93 MiB/s]\u001b[A\n",
      "\n",
      "Extraction completed...: 0 file [00:03, ? file/s]\u001b[A\u001b[A\n",
      "Dl Completed...:   0%|          | 0/1 [00:03<?, ? url/s] MiB/s]\u001b[A\n",
      "Dl Size...:  79%|███████▉  | 128/162 [00:03<00:00, 44.31 MiB/s]\u001b[A\n",
      "\n",
      "Dl Completed...:   0%|          | 0/1 [00:03<?, ? url/s]\n",
      "Dl Size...:  80%|███████▉  | 129/162 [00:03<00:00, 44.31 MiB/s]\u001b[A\n",
      "\n",
      "Dl Completed...:   0%|          | 0/1 [00:03<?, ? url/s]\n",
      "Dl Size...:  80%|████████  | 130/162 [00:03<00:00, 44.31 MiB/s]\u001b[A\n",
      "\n",
      "Dl Completed...:   0%|          | 0/1 [00:03<?, ? url/s]\n",
      "Dl Size...:  81%|████████  | 131/162 [00:03<00:00, 44.31 MiB/s]\u001b[A\n",
      "\n",
      "Dl Completed...:   0%|          | 0/1 [00:03<?, ? url/s]\n",
      "Dl Size...:  81%|████████▏ | 132/162 [00:03<00:00, 44.31 MiB/s]\u001b[A\n",
      "\n",
      "Extraction completed...: 0 file [00:03, ? file/s]\u001b[A\u001b[A\n",
      "Dl Completed...:   0%|          | 0/1 [00:03<?, ? url/s] MiB/s]\u001b[A\n",
      "Dl Size...:  82%|████████▏ | 133/162 [00:03<00:00, 44.94 MiB/s]\u001b[A\n",
      "\n",
      "Dl Completed...:   0%|          | 0/1 [00:03<?, ? url/s]\n",
      "Dl Size...:  83%|████████▎ | 134/162 [00:03<00:00, 44.94 MiB/s]\u001b[A\n",
      "\n",
      "Dl Completed...:   0%|          | 0/1 [00:03<?, ? url/s]\n",
      "Dl Size...:  83%|████████▎ | 135/162 [00:03<00:00, 44.94 MiB/s]\u001b[A\n",
      "\n",
      "Dl Completed...:   0%|          | 0/1 [00:04<?, ? url/s]\n",
      "Dl Size...:  84%|████████▍ | 136/162 [00:04<00:00, 44.94 MiB/s]\u001b[A\n",
      "\n",
      "Dl Completed...:   0%|          | 0/1 [00:04<?, ? url/s]\n",
      "Dl Size...:  85%|████████▍ | 137/162 [00:04<00:00, 44.94 MiB/s]\u001b[A\n",
      "\n",
      "Extraction completed...: 0 file [00:04, ? file/s]\u001b[A\u001b[A\n",
      "Dl Completed...:   0%|          | 0/1 [00:04<?, ? url/s] MiB/s]\u001b[A\n",
      "Dl Size...:  85%|████████▌ | 138/162 [00:04<00:00, 45.75 MiB/s]\u001b[A\n",
      "\n",
      "Dl Completed...:   0%|          | 0/1 [00:04<?, ? url/s]\n",
      "Dl Size...:  86%|████████▌ | 139/162 [00:04<00:00, 45.75 MiB/s]\u001b[A\n",
      "\n",
      "Dl Completed...:   0%|          | 0/1 [00:04<?, ? url/s]\n",
      "Dl Size...:  86%|████████▋ | 140/162 [00:04<00:00, 45.75 MiB/s]\u001b[A\n",
      "\n",
      "Dl Completed...:   0%|          | 0/1 [00:04<?, ? url/s]\n",
      "Dl Size...:  87%|████████▋ | 141/162 [00:04<00:00, 45.75 MiB/s]\u001b[A\n",
      "\n",
      "Dl Completed...:   0%|          | 0/1 [00:04<?, ? url/s]\n",
      "Dl Size...:  88%|████████▊ | 142/162 [00:04<00:00, 45.75 MiB/s]\u001b[A\n",
      "\n",
      "Extraction completed...: 0 file [00:04, ? file/s]\u001b[A\u001b[A\n",
      "Dl Completed...:   0%|          | 0/1 [00:04<?, ? url/s] MiB/s]\u001b[A\n",
      "Dl Size...:  88%|████████▊ | 143/162 [00:04<00:00, 45.80 MiB/s]\u001b[A\n",
      "\n",
      "Dl Completed...:   0%|          | 0/1 [00:04<?, ? url/s]\n",
      "Dl Size...:  89%|████████▉ | 144/162 [00:04<00:00, 45.80 MiB/s]\u001b[A\n",
      "\n",
      "Dl Completed...:   0%|          | 0/1 [00:04<?, ? url/s]\n",
      "Dl Size...:  90%|████████▉ | 145/162 [00:04<00:00, 45.80 MiB/s]\u001b[A\n",
      "\n",
      "Dl Completed...:   0%|          | 0/1 [00:04<?, ? url/s]\n",
      "Dl Size...:  90%|█████████ | 146/162 [00:04<00:00, 45.80 MiB/s]\u001b[A\n",
      "\n",
      "Dl Completed...:   0%|          | 0/1 [00:04<?, ? url/s]\n",
      "Dl Size...:  91%|█████████ | 147/162 [00:04<00:00, 45.80 MiB/s]\u001b[A\n",
      "\n",
      "Extraction completed...: 0 file [00:04, ? file/s]\u001b[A\u001b[A\n",
      "Dl Completed...:   0%|          | 0/1 [00:04<?, ? url/s] MiB/s]\u001b[A\n",
      "Dl Size...:  91%|█████████▏| 148/162 [00:04<00:00, 46.72 MiB/s]\u001b[A\n",
      "\n",
      "Dl Completed...:   0%|          | 0/1 [00:04<?, ? url/s]\n",
      "Dl Size...:  92%|█████████▏| 149/162 [00:04<00:00, 46.72 MiB/s]\u001b[A\n",
      "\n",
      "Dl Completed...:   0%|          | 0/1 [00:04<?, ? url/s]\n",
      "Dl Size...:  93%|█████████▎| 150/162 [00:04<00:00, 46.72 MiB/s]\u001b[A\n",
      "\n",
      "Dl Completed...:   0%|          | 0/1 [00:04<?, ? url/s]\n",
      "Dl Size...:  93%|█████████▎| 151/162 [00:04<00:00, 46.72 MiB/s]\u001b[A\n",
      "\n",
      "Dl Completed...:   0%|          | 0/1 [00:04<?, ? url/s]\n",
      "Dl Size...:  94%|█████████▍| 152/162 [00:04<00:00, 46.72 MiB/s]\u001b[A\n",
      "\n",
      "Extraction completed...: 0 file [00:04, ? file/s]\u001b[A\u001b[A\n",
      "Dl Completed...:   0%|          | 0/1 [00:04<?, ? url/s] MiB/s]\u001b[A\n",
      "Dl Size...:  94%|█████████▍| 153/162 [00:04<00:00, 45.23 MiB/s]\u001b[A\n",
      "\n",
      "Dl Completed...:   0%|          | 0/1 [00:04<?, ? url/s]\n",
      "Dl Size...:  95%|█████████▌| 154/162 [00:04<00:00, 45.23 MiB/s]\u001b[A\n",
      "\n",
      "Dl Completed...:   0%|          | 0/1 [00:04<?, ? url/s]\n",
      "Dl Size...:  96%|█████████▌| 155/162 [00:04<00:00, 45.23 MiB/s]\u001b[A\n",
      "\n",
      "Dl Completed...:   0%|          | 0/1 [00:04<?, ? url/s]\n",
      "Dl Size...:  96%|█████████▋| 156/162 [00:04<00:00, 45.23 MiB/s]\u001b[A\n",
      "\n",
      "Dl Completed...:   0%|          | 0/1 [00:04<?, ? url/s]\n",
      "Dl Size...:  97%|█████████▋| 157/162 [00:04<00:00, 45.23 MiB/s]\u001b[A\n",
      "\n",
      "Dl Completed...:   0%|          | 0/1 [00:04<?, ? url/s]\n",
      "Dl Size...:  98%|█████████▊| 158/162 [00:04<00:00, 45.23 MiB/s]\u001b[A\n",
      "\n",
      "Extraction completed...: 0 file [00:04, ? file/s]\u001b[A\u001b[A\n",
      "Dl Completed...:   0%|          | 0/1 [00:04<?, ? url/s] MiB/s]\u001b[A\n",
      "Dl Size...:  98%|█████████▊| 159/162 [00:04<00:00, 47.28 MiB/s]\u001b[A\n",
      "\n",
      "Dl Completed...:   0%|          | 0/1 [00:04<?, ? url/s]\n",
      "Dl Size...:  99%|█████████▉| 160/162 [00:04<00:00, 47.28 MiB/s]\u001b[A\n",
      "\n",
      "Dl Completed...:   0%|          | 0/1 [00:04<?, ? url/s]\n",
      "Dl Size...:  99%|█████████▉| 161/162 [00:04<00:00, 47.28 MiB/s]\u001b[A\n",
      "\n",
      "Dl Completed...:   0%|          | 0/1 [00:04<?, ? url/s]\n",
      "Dl Size...: 100%|██████████| 162/162 [00:04<00:00, 47.28 MiB/s]\u001b[A\n",
      "\n",
      "Dl Completed...: 100%|██████████| 1/1 [00:04<00:00,  4.58s/ url]\n",
      "Dl Size...: 100%|██████████| 162/162 [00:04<00:00, 47.28 MiB/s]\u001b[A\n",
      "\n",
      "Dl Completed...: 100%|██████████| 1/1 [00:04<00:00,  4.58s/ url]\n",
      "Dl Size...: 100%|██████████| 162/162 [00:04<00:00, 47.28 MiB/s]\u001b[A\n",
      "\n",
      "Extraction completed...:   0%|          | 0/1 [00:04<?, ? file/s]\u001b[A\u001b[A\n",
      "\n",
      "Dl Completed...: 100%|██████████| 1/1 [00:06<00:00,  4.58s/ url]8s/ file]\u001b[A\u001b[A\n",
      "Dl Size...: 100%|██████████| 162/162 [00:06<00:00, 47.28 MiB/s]\u001b[A\n",
      "\n",
      "Extraction completed...: 100%|██████████| 1/1 [00:06<00:00,  6.69s/ file]\u001b[A\u001b[A\n",
      "Dl Size...: 100%|██████████| 162/162 [00:06<00:00, 24.19 MiB/s]\n",
      "Dl Completed...: 100%|██████████| 1/1 [00:06<00:00,  6.70s/ url]\n",
      "Generating splits...:   0%|          | 0/2 [00:00<?, ? splits/s]\n",
      "Generating train examples...:   0%|          | 0/50000 [00:00<?, ? examples/s]\u001b[A2022-07-17 02:06:43.752439: W tensorflow/stream_executor/platform/default/dso_loader.cc:64] Could not load dynamic library 'libcuda.so.1'; dlerror: libcuda.so.1: cannot open shared object file: No such file or directory; LD_LIBRARY_PATH: /usr/local/cuda/lib64:/usr/local/cuda/lib:/usr/local/lib/x86_64-linux-gnu:/usr/local/nvidia/lib:/usr/local/nvidia/lib64:/usr/local/nvidia/lib:/usr/local/nvidia/lib64\n",
      "2022-07-17 02:06:43.752545: W tensorflow/stream_executor/cuda/cuda_driver.cc:269] failed call to cuInit: UNKNOWN ERROR (303)\n",
      "2022-07-17 02:06:43.752598: I tensorflow/stream_executor/cuda/cuda_diagnostics.cc:156] kernel driver does not appear to be running on this host (f56555a5aa66): /proc/driver/nvidia/version does not exist\n",
      "2022-07-17 02:06:43.753557: I tensorflow/core/platform/cpu_feature_guard.cc:193] This TensorFlow binary is optimized with oneAPI Deep Neural Network Library (oneDNN) to use the following CPU instructions in performance-critical operations:  AVX2 FMA\n",
      "To enable them in other operations, rebuild TensorFlow with the appropriate compiler flags.\n",
      "\n",
      "Generating train examples...:   0%|          | 67/50000 [00:00<01:14, 669.54 examples/s]\u001b[A\n",
      "Generating train examples...:   0%|          | 247/50000 [00:00<00:37, 1334.13 examples/s]\u001b[A\n",
      "Generating train examples...:   1%|          | 427/50000 [00:00<00:32, 1543.51 examples/s]\u001b[A\n",
      "Generating train examples...:   1%|          | 609/50000 [00:00<00:29, 1650.12 examples/s]\u001b[A\n",
      "Generating train examples...:   2%|▏         | 790/50000 [00:00<00:28, 1706.31 examples/s]\u001b[A\n",
      "Generating train examples...:   2%|▏         | 962/50000 [00:00<00:28, 1709.60 examples/s]\u001b[A\n",
      "Generating train examples...:   2%|▏         | 1139/50000 [00:00<00:28, 1729.05 examples/s]\u001b[A\n",
      "Generating train examples...:   3%|▎         | 1317/50000 [00:00<00:27, 1742.49 examples/s]\u001b[A\n",
      "Generating train examples...:   3%|▎         | 1492/50000 [00:00<00:27, 1740.12 examples/s]\u001b[A\n",
      "Generating train examples...:   3%|▎         | 1667/50000 [00:01<00:28, 1717.94 examples/s]\u001b[A\n",
      "Generating train examples...:   4%|▎         | 1839/50000 [00:01<00:28, 1684.88 examples/s]\u001b[A\n",
      "Generating train examples...:   4%|▍         | 2008/50000 [00:01<00:28, 1666.17 examples/s]\u001b[A\n",
      "Generating train examples...:   4%|▍         | 2175/50000 [00:01<00:28, 1666.91 examples/s]\u001b[A\n",
      "Generating train examples...:   5%|▍         | 2347/50000 [00:01<00:28, 1680.56 examples/s]\u001b[A\n",
      "Generating train examples...:   5%|▌         | 2526/50000 [00:01<00:27, 1712.83 examples/s]\u001b[A\n",
      "Generating train examples...:   5%|▌         | 2702/50000 [00:01<00:27, 1726.62 examples/s]\u001b[A\n",
      "Generating train examples...:   6%|▌         | 2876/50000 [00:01<00:27, 1728.96 examples/s]\u001b[A\n",
      "Generating train examples...:   6%|▌         | 3057/50000 [00:01<00:26, 1751.71 examples/s]\u001b[A\n",
      "Generating train examples...:   6%|▋         | 3236/50000 [00:01<00:26, 1762.99 examples/s]\u001b[A\n",
      "Generating train examples...:   7%|▋         | 3413/50000 [00:02<00:26, 1761.65 examples/s]\u001b[A\n",
      "Generating train examples...:   7%|▋         | 3590/50000 [00:02<00:26, 1755.70 examples/s]\u001b[A\n",
      "Generating train examples...:   8%|▊         | 3766/50000 [00:02<00:26, 1753.54 examples/s]\u001b[A\n",
      "Generating train examples...:   8%|▊         | 3942/50000 [00:02<00:26, 1720.74 examples/s]\u001b[A\n",
      "Generating train examples...:   8%|▊         | 4116/50000 [00:02<00:26, 1725.85 examples/s]\u001b[A\n",
      "Generating train examples...:   9%|▊         | 4289/50000 [00:02<00:26, 1719.86 examples/s]\u001b[A\n",
      "Generating train examples...:   9%|▉         | 4468/50000 [00:02<00:26, 1740.05 examples/s]\u001b[A\n",
      "Generating train examples...:   9%|▉         | 4647/50000 [00:02<00:25, 1752.53 examples/s]\u001b[A\n",
      "Generating train examples...:  10%|▉         | 4823/50000 [00:02<00:25, 1751.88 examples/s]\u001b[A\n",
      "Generating train examples...:  10%|▉         | 4999/50000 [00:02<00:25, 1749.36 examples/s]\u001b[A\n",
      "Generating train examples...:  10%|█         | 5176/50000 [00:03<00:25, 1753.35 examples/s]\u001b[A\n",
      "Generating train examples...:  11%|█         | 5353/50000 [00:03<00:25, 1757.37 examples/s]\u001b[A\n",
      "Generating train examples...:  11%|█         | 5531/50000 [00:03<00:25, 1763.12 examples/s]\u001b[A\n",
      "Generating train examples...:  11%|█▏        | 5708/50000 [00:03<00:25, 1732.75 examples/s]\u001b[A\n",
      "Generating train examples...:  12%|█▏        | 5882/50000 [00:03<00:25, 1730.29 examples/s]\u001b[A\n",
      "Generating train examples...:  12%|█▏        | 6056/50000 [00:03<00:25, 1726.58 examples/s]\u001b[A\n",
      "Generating train examples...:  12%|█▏        | 6231/50000 [00:03<00:25, 1733.03 examples/s]\u001b[A\n",
      "Generating train examples...:  13%|█▎        | 6405/50000 [00:03<00:25, 1720.09 examples/s]\u001b[A\n",
      "Generating train examples...:  13%|█▎        | 6581/50000 [00:03<00:25, 1730.00 examples/s]\u001b[A\n",
      "Generating train examples...:  14%|█▎        | 6758/50000 [00:03<00:24, 1739.84 examples/s]\u001b[A\n",
      "Generating train examples...:  14%|█▍        | 6933/50000 [00:04<00:24, 1741.15 examples/s]\u001b[A\n",
      "Generating train examples...:  14%|█▍        | 7112/50000 [00:04<00:24, 1753.08 examples/s]\u001b[A\n",
      "Generating train examples...:  15%|█▍        | 7289/50000 [00:04<00:24, 1757.45 examples/s]\u001b[A\n",
      "Generating train examples...:  15%|█▍        | 7467/50000 [00:04<00:24, 1763.72 examples/s]\u001b[A\n",
      "Generating train examples...:  15%|█▌        | 7644/50000 [00:04<00:24, 1757.31 examples/s]\u001b[A\n",
      "Generating train examples...:  16%|█▌        | 7823/50000 [00:04<00:23, 1764.35 examples/s]\u001b[A\n",
      "Generating train examples...:  16%|█▌        | 8003/50000 [00:04<00:23, 1773.66 examples/s]\u001b[A\n",
      "Generating train examples...:  16%|█▋        | 8181/50000 [00:04<00:23, 1764.72 examples/s]\u001b[A\n",
      "Generating train examples...:  17%|█▋        | 8360/50000 [00:04<00:23, 1769.84 examples/s]\u001b[A\n",
      "Generating train examples...:  17%|█▋        | 8538/50000 [00:04<00:23, 1771.96 examples/s]\u001b[A\n",
      "Generating train examples...:  17%|█▋        | 8716/50000 [00:05<00:23, 1773.48 examples/s]\u001b[A\n",
      "Generating train examples...:  18%|█▊        | 8894/50000 [00:05<00:23, 1750.55 examples/s]\u001b[A\n",
      "Generating train examples...:  18%|█▊        | 9070/50000 [00:05<00:23, 1734.60 examples/s]\u001b[A\n",
      "Generating train examples...:  18%|█▊        | 9245/50000 [00:05<00:23, 1737.96 examples/s]\u001b[A\n",
      "Generating train examples...:  19%|█▉        | 9420/50000 [00:05<00:23, 1739.71 examples/s]\u001b[A\n",
      "Generating train examples...:  19%|█▉        | 9595/50000 [00:05<00:23, 1723.97 examples/s]\u001b[A\n",
      "Generating train examples...:  20%|█▉        | 9770/50000 [00:05<00:23, 1730.82 examples/s]\u001b[A\n",
      "Generating train examples...:  20%|█▉        | 9944/50000 [00:05<00:23, 1699.54 examples/s]\u001b[A\n",
      "Generating train examples...:  20%|██        | 10115/50000 [00:05<00:25, 1549.06 examples/s]\u001b[A\n",
      "Generating train examples...:  21%|██        | 10287/50000 [00:06<00:24, 1593.96 examples/s]\u001b[A\n",
      "Generating train examples...:  21%|██        | 10461/50000 [00:06<00:24, 1633.83 examples/s]\u001b[A\n",
      "Generating train examples...:  21%|██▏       | 10637/50000 [00:06<00:23, 1669.44 examples/s]\u001b[A\n",
      "Generating train examples...:  22%|██▏       | 10808/50000 [00:06<00:23, 1680.08 examples/s]\u001b[A\n",
      "Generating train examples...:  22%|██▏       | 10978/50000 [00:06<00:23, 1684.83 examples/s]\u001b[A\n",
      "Generating train examples...:  22%|██▏       | 11154/50000 [00:06<00:22, 1705.02 examples/s]\u001b[A\n",
      "Generating train examples...:  23%|██▎       | 11330/50000 [00:06<00:22, 1721.12 examples/s]\u001b[A\n",
      "Generating train examples...:  23%|██▎       | 11504/50000 [00:06<00:22, 1724.41 examples/s]\u001b[A\n",
      "Generating train examples...:  23%|██▎       | 11683/50000 [00:06<00:21, 1742.79 examples/s]\u001b[A\n",
      "Generating train examples...:  24%|██▎       | 11864/50000 [00:06<00:21, 1762.62 examples/s]\u001b[A\n",
      "Generating train examples...:  24%|██▍       | 12045/50000 [00:07<00:21, 1775.10 examples/s]\u001b[A\n",
      "Generating train examples...:  24%|██▍       | 12225/50000 [00:07<00:21, 1781.20 examples/s]\u001b[A\n",
      "Generating train examples...:  25%|██▍       | 12404/50000 [00:07<00:21, 1783.71 examples/s]\u001b[A\n",
      "Generating train examples...:  25%|██▌       | 12583/50000 [00:07<00:20, 1782.62 examples/s]\u001b[A\n",
      "Generating train examples...:  26%|██▌       | 12764/50000 [00:07<00:20, 1788.25 examples/s]\u001b[A\n",
      "Generating train examples...:  26%|██▌       | 12943/50000 [00:07<00:20, 1780.65 examples/s]\u001b[A\n",
      "Generating train examples...:  26%|██▌       | 13124/50000 [00:07<00:20, 1788.68 examples/s]\u001b[A\n",
      "Generating train examples...:  27%|██▋       | 13303/50000 [00:07<00:21, 1731.06 examples/s]\u001b[A\n",
      "Generating train examples...:  27%|██▋       | 13477/50000 [00:07<00:21, 1720.94 examples/s]\u001b[A\n",
      "Generating train examples...:  27%|██▋       | 13656/50000 [00:07<00:20, 1739.10 examples/s]\u001b[A\n",
      "Generating train examples...:  28%|██▊       | 13835/50000 [00:08<00:20, 1752.83 examples/s]\u001b[A\n",
      "Generating train examples...:  28%|██▊       | 14012/50000 [00:08<00:20, 1757.61 examples/s]\u001b[A\n",
      "Generating train examples...:  28%|██▊       | 14189/50000 [00:08<00:20, 1760.33 examples/s]\u001b[A\n",
      "Generating train examples...:  29%|██▊       | 14366/50000 [00:08<00:20, 1761.93 examples/s]\u001b[A\n",
      "Generating train examples...:  29%|██▉       | 14543/50000 [00:08<00:20, 1756.17 examples/s]\u001b[A\n",
      "Generating train examples...:  29%|██▉       | 14720/50000 [00:08<00:20, 1758.75 examples/s]\u001b[A\n",
      "Generating train examples...:  30%|██▉       | 14896/50000 [00:08<00:20, 1738.70 examples/s]\u001b[A\n",
      "Generating train examples...:  30%|███       | 15074/50000 [00:08<00:19, 1748.63 examples/s]\u001b[A\n",
      "Generating train examples...:  31%|███       | 15251/50000 [00:08<00:19, 1752.83 examples/s]\u001b[A\n",
      "Generating train examples...:  31%|███       | 15429/50000 [00:08<00:19, 1759.18 examples/s]\u001b[A\n",
      "Generating train examples...:  31%|███       | 15610/50000 [00:09<00:19, 1772.69 examples/s]\u001b[A\n",
      "Generating train examples...:  32%|███▏      | 15792/50000 [00:09<00:19, 1785.63 examples/s]\u001b[A\n",
      "Generating train examples...:  32%|███▏      | 15971/50000 [00:09<00:19, 1769.58 examples/s]\u001b[A\n",
      "Generating train examples...:  32%|███▏      | 16149/50000 [00:09<00:19, 1749.53 examples/s]\u001b[A\n",
      "Generating train examples...:  33%|███▎      | 16327/50000 [00:09<00:19, 1755.89 examples/s]\u001b[A\n",
      "Generating train examples...:  33%|███▎      | 16507/50000 [00:09<00:18, 1767.71 examples/s]\u001b[A\n",
      "Generating train examples...:  33%|███▎      | 16687/50000 [00:09<00:18, 1776.75 examples/s]\u001b[A\n",
      "Generating train examples...:  34%|███▎      | 16865/50000 [00:09<00:18, 1757.42 examples/s]\u001b[A\n",
      "Generating train examples...:  34%|███▍      | 17041/50000 [00:09<00:18, 1755.01 examples/s]\u001b[A\n",
      "Generating train examples...:  34%|███▍      | 17218/50000 [00:09<00:18, 1759.01 examples/s]\u001b[A\n",
      "Generating train examples...:  35%|███▍      | 17397/50000 [00:10<00:18, 1767.04 examples/s]\u001b[A\n",
      "Generating train examples...:  35%|███▌      | 17574/50000 [00:10<00:18, 1765.60 examples/s]\u001b[A\n",
      "Generating train examples...:  36%|███▌      | 17753/50000 [00:10<00:18, 1770.29 examples/s]\u001b[A\n",
      "Generating train examples...:  36%|███▌      | 17931/50000 [00:10<00:18, 1746.69 examples/s]\u001b[A\n",
      "Generating train examples...:  36%|███▌      | 18108/50000 [00:10<00:18, 1751.43 examples/s]\u001b[A\n",
      "Generating train examples...:  37%|███▋      | 18284/50000 [00:10<00:18, 1753.73 examples/s]\u001b[A\n",
      "Generating train examples...:  37%|███▋      | 18463/50000 [00:10<00:17, 1762.64 examples/s]\u001b[A\n",
      "Generating train examples...:  37%|███▋      | 18642/50000 [00:10<00:17, 1769.92 examples/s]\u001b[A\n",
      "Generating train examples...:  38%|███▊      | 18821/50000 [00:10<00:17, 1774.04 examples/s]\u001b[A\n",
      "Generating train examples...:  38%|███▊      | 18999/50000 [00:10<00:17, 1750.16 examples/s]\u001b[A\n",
      "Generating train examples...:  38%|███▊      | 19175/50000 [00:11<00:17, 1749.20 examples/s]\u001b[A\n",
      "Generating train examples...:  39%|███▊      | 19350/50000 [00:11<00:17, 1729.26 examples/s]\u001b[A\n",
      "Generating train examples...:  39%|███▉      | 19523/50000 [00:11<00:18, 1691.62 examples/s]\u001b[A\n",
      "Generating train examples...:  39%|███▉      | 19693/50000 [00:11<00:18, 1678.61 examples/s]\u001b[A\n",
      "Generating train examples...:  40%|███▉      | 19864/50000 [00:11<00:17, 1687.66 examples/s]\u001b[A\n",
      "Generating train examples...:  40%|████      | 20033/50000 [00:11<00:19, 1523.72 examples/s]\u001b[A"
     ]
    },
    {
     "name": "stdout",
     "output_type": "stream",
     "text": [
      "PipelineJob projects/278305018396/locations/us-central1/pipelineJobs/custom-model-training-sample-pipeline-20220717020133 current state:\n",
      "PipelineState.PIPELINE_STATE_RUNNING\n"
     ]
    },
    {
     "name": "stderr",
     "output_type": "stream",
     "text": [
      "INFO:google.cloud.aiplatform.pipeline_jobs:PipelineJob projects/278305018396/locations/us-central1/pipelineJobs/custom-model-training-sample-pipeline-20220717020133 current state:\n",
      "PipelineState.PIPELINE_STATE_RUNNING\n",
      "\n",
      "Generating train examples...:  40%|████      | 20193/50000 [00:11<00:19, 1542.46 examples/s]\u001b[A\n",
      "Generating train examples...:  41%|████      | 20370/50000 [00:11<00:18, 1605.71 examples/s]\u001b[A\n",
      "Generating train examples...:  41%|████      | 20546/50000 [00:11<00:17, 1649.27 examples/s]\u001b[A\n",
      "Generating train examples...:  41%|████▏     | 20723/50000 [00:12<00:17, 1682.37 examples/s]\u001b[A\n",
      "Generating train examples...:  42%|████▏     | 20896/50000 [00:12<00:17, 1693.92 examples/s]\u001b[A\n",
      "Generating train examples...:  42%|████▏     | 21075/50000 [00:12<00:16, 1720.33 examples/s]\u001b[A\n",
      "Generating train examples...:  43%|████▎     | 21253/50000 [00:12<00:16, 1735.63 examples/s]\u001b[A\n",
      "Generating train examples...:  43%|████▎     | 21431/50000 [00:12<00:16, 1746.59 examples/s]\u001b[A\n",
      "Generating train examples...:  43%|████▎     | 21606/50000 [00:12<00:16, 1737.13 examples/s]\u001b[A\n",
      "Generating train examples...:  44%|████▎     | 21780/50000 [00:12<00:16, 1733.74 examples/s]\u001b[A\n",
      "Generating train examples...:  44%|████▍     | 21959/50000 [00:12<00:16, 1747.87 examples/s]\u001b[A\n",
      "Generating train examples...:  44%|████▍     | 22135/50000 [00:12<00:15, 1750.05 examples/s]\u001b[A\n",
      "Generating train examples...:  45%|████▍     | 22313/50000 [00:12<00:15, 1757.93 examples/s]\u001b[A\n",
      "Generating train examples...:  45%|████▍     | 22491/50000 [00:13<00:15, 1763.06 examples/s]\u001b[A\n",
      "Generating train examples...:  45%|████▌     | 22670/50000 [00:13<00:15, 1769.65 examples/s]\u001b[A\n",
      "Generating train examples...:  46%|████▌     | 22847/50000 [00:13<00:15, 1761.12 examples/s]\u001b[A\n",
      "Generating train examples...:  46%|████▌     | 23024/50000 [00:13<00:15, 1756.29 examples/s]\u001b[A\n",
      "Generating train examples...:  46%|████▋     | 23205/50000 [00:13<00:15, 1769.88 examples/s]\u001b[A\n",
      "Generating train examples...:  47%|████▋     | 23383/50000 [00:13<00:15, 1753.57 examples/s]\u001b[A\n",
      "Generating train examples...:  47%|████▋     | 23559/50000 [00:13<00:15, 1742.66 examples/s]\u001b[A\n",
      "Generating train examples...:  47%|████▋     | 23736/50000 [00:13<00:15, 1749.73 examples/s]\u001b[A\n",
      "Generating train examples...:  48%|████▊     | 23914/50000 [00:13<00:14, 1757.78 examples/s]\u001b[A\n",
      "Generating train examples...:  48%|████▊     | 24092/50000 [00:13<00:14, 1762.37 examples/s]\u001b[A\n",
      "Generating train examples...:  49%|████▊     | 24271/50000 [00:14<00:14, 1769.88 examples/s]\u001b[A\n",
      "Generating train examples...:  49%|████▉     | 24449/50000 [00:14<00:14, 1744.62 examples/s]\u001b[A\n",
      "Generating train examples...:  49%|████▉     | 24624/50000 [00:14<00:14, 1744.16 examples/s]\u001b[A\n",
      "Generating train examples...:  50%|████▉     | 24799/50000 [00:14<00:14, 1741.00 examples/s]\u001b[A\n",
      "Generating train examples...:  50%|████▉     | 24974/50000 [00:14<00:14, 1737.35 examples/s]\u001b[A\n",
      "Generating train examples...:  50%|█████     | 25148/50000 [00:14<00:14, 1731.35 examples/s]\u001b[A\n",
      "Generating train examples...:  51%|█████     | 25322/50000 [00:14<00:14, 1729.62 examples/s]\u001b[A\n",
      "Generating train examples...:  51%|█████     | 25495/50000 [00:14<00:14, 1678.31 examples/s]\u001b[A\n",
      "Generating train examples...:  51%|█████▏    | 25673/50000 [00:14<00:14, 1706.62 examples/s]\u001b[A\n",
      "Generating train examples...:  52%|█████▏    | 25852/50000 [00:14<00:13, 1728.79 examples/s]\u001b[A\n",
      "Generating train examples...:  52%|█████▏    | 26034/50000 [00:15<00:13, 1753.39 examples/s]\u001b[A\n",
      "Generating train examples...:  52%|█████▏    | 26210/50000 [00:15<00:13, 1751.53 examples/s]\u001b[A\n",
      "Generating train examples...:  53%|█████▎    | 26389/50000 [00:15<00:13, 1762.26 examples/s]\u001b[A\n",
      "Generating train examples...:  53%|█████▎    | 26569/50000 [00:15<00:13, 1771.13 examples/s]\u001b[A\n",
      "Generating train examples...:  53%|█████▎    | 26749/50000 [00:15<00:13, 1779.18 examples/s]\u001b[A\n",
      "Generating train examples...:  54%|█████▍    | 26927/50000 [00:15<00:13, 1763.55 examples/s]\u001b[A\n",
      "Generating train examples...:  54%|█████▍    | 27105/50000 [00:15<00:12, 1766.60 examples/s]\u001b[A\n",
      "Generating train examples...:  55%|█████▍    | 27285/50000 [00:15<00:12, 1773.96 examples/s]\u001b[A\n",
      "Generating train examples...:  55%|█████▍    | 27465/50000 [00:15<00:12, 1779.21 examples/s]\u001b[A\n",
      "Generating train examples...:  55%|█████▌    | 27644/50000 [00:15<00:12, 1779.85 examples/s]\u001b[A\n",
      "Generating train examples...:  56%|█████▌    | 27823/50000 [00:16<00:12, 1775.05 examples/s]\u001b[A\n",
      "Generating train examples...:  56%|█████▌    | 28002/50000 [00:16<00:12, 1777.72 examples/s]\u001b[A\n",
      "Generating train examples...:  56%|█████▋    | 28180/50000 [00:16<00:12, 1770.11 examples/s]\u001b[A\n",
      "Generating train examples...:  57%|█████▋    | 28359/50000 [00:16<00:12, 1773.95 examples/s]\u001b[A\n",
      "Generating train examples...:  57%|█████▋    | 28537/50000 [00:16<00:12, 1770.61 examples/s]\u001b[A\n",
      "Generating train examples...:  57%|█████▋    | 28716/50000 [00:16<00:11, 1774.45 examples/s]\u001b[A\n",
      "Generating train examples...:  58%|█████▊    | 28895/50000 [00:16<00:11, 1776.05 examples/s]\u001b[A\n",
      "Generating train examples...:  58%|█████▊    | 29073/50000 [00:16<00:12, 1734.41 examples/s]\u001b[A\n",
      "Generating train examples...:  58%|█████▊    | 29249/50000 [00:16<00:11, 1740.68 examples/s]\u001b[A\n",
      "Generating train examples...:  59%|█████▉    | 29424/50000 [00:16<00:11, 1733.04 examples/s]\u001b[A\n",
      "Generating train examples...:  59%|█████▉    | 29602/50000 [00:17<00:11, 1745.94 examples/s]\u001b[A\n",
      "Generating train examples...:  60%|█████▉    | 29777/50000 [00:17<00:11, 1745.01 examples/s]\u001b[A\n",
      "Generating train examples...:  60%|█████▉    | 29953/50000 [00:17<00:11, 1746.43 examples/s]\u001b[A\n",
      "Generating train examples...:  60%|██████    | 30128/50000 [00:17<00:12, 1600.82 examples/s]\u001b[A\n",
      "Generating train examples...:  61%|██████    | 30308/50000 [00:17<00:11, 1656.15 examples/s]\u001b[A\n",
      "Generating train examples...:  61%|██████    | 30488/50000 [00:17<00:11, 1695.61 examples/s]\u001b[A\n",
      "Generating train examples...:  61%|██████▏   | 30668/50000 [00:17<00:11, 1725.30 examples/s]\u001b[A\n",
      "Generating train examples...:  62%|██████▏   | 30842/50000 [00:17<00:12, 1580.53 examples/s]\u001b[A\n",
      "Generating train examples...:  62%|██████▏   | 31004/50000 [00:17<00:13, 1443.69 examples/s]\u001b[A\n",
      "Generating train examples...:  62%|██████▏   | 31153/50000 [00:18<00:13, 1365.24 examples/s]\u001b[A\n",
      "Generating train examples...:  63%|██████▎   | 31293/50000 [00:18<00:14, 1252.61 examples/s]\u001b[A\n",
      "Generating train examples...:  63%|██████▎   | 31422/50000 [00:18<00:15, 1195.19 examples/s]\u001b[A\n",
      "Generating train examples...:  63%|██████▎   | 31544/50000 [00:18<00:15, 1173.60 examples/s]\u001b[A\n",
      "Generating train examples...:  63%|██████▎   | 31666/50000 [00:18<00:15, 1184.07 examples/s]\u001b[A\n",
      "Generating train examples...:  64%|██████▎   | 31792/50000 [00:18<00:15, 1204.46 examples/s]\u001b[A\n",
      "Generating train examples...:  64%|██████▍   | 31971/50000 [00:18<00:13, 1368.40 examples/s]\u001b[A\n",
      "Generating train examples...:  64%|██████▍   | 32150/50000 [00:18<00:12, 1487.42 examples/s]\u001b[A\n",
      "Generating train examples...:  65%|██████▍   | 32327/50000 [00:18<00:11, 1567.54 examples/s]\u001b[A\n",
      "Generating train examples...:  65%|██████▌   | 32505/50000 [00:19<00:10, 1628.11 examples/s]\u001b[A\n",
      "Generating train examples...:  65%|██████▌   | 32680/50000 [00:19<00:10, 1662.05 examples/s]\u001b[A\n",
      "Generating train examples...:  66%|██████▌   | 32850/50000 [00:19<00:10, 1671.21 examples/s]\u001b[A\n",
      "Generating train examples...:  66%|██████▌   | 33030/50000 [00:19<00:09, 1707.95 examples/s]\u001b[A\n",
      "Generating train examples...:  66%|██████▋   | 33211/50000 [00:19<00:09, 1736.74 examples/s]\u001b[A\n",
      "Generating train examples...:  67%|██████▋   | 33389/50000 [00:19<00:09, 1749.54 examples/s]\u001b[A\n",
      "Generating train examples...:  67%|██████▋   | 33568/50000 [00:19<00:09, 1761.43 examples/s]\u001b[A\n",
      "Generating train examples...:  67%|██████▋   | 33748/50000 [00:19<00:09, 1770.29 examples/s]\u001b[A\n",
      "Generating train examples...:  68%|██████▊   | 33927/50000 [00:19<00:09, 1774.06 examples/s]\u001b[A\n",
      "Generating train examples...:  68%|██████▊   | 34106/50000 [00:19<00:08, 1777.68 examples/s]\u001b[A\n",
      "Generating train examples...:  69%|██████▊   | 34284/50000 [00:20<00:08, 1763.47 examples/s]\u001b[A\n",
      "Generating train examples...:  69%|██████▉   | 34461/50000 [00:20<00:08, 1763.54 examples/s]\u001b[A\n",
      "Generating train examples...:  69%|██████▉   | 34639/50000 [00:20<00:08, 1766.46 examples/s]\u001b[A\n",
      "Generating train examples...:  70%|██████▉   | 34816/50000 [00:20<00:08, 1762.17 examples/s]\u001b[A\n",
      "Generating train examples...:  70%|██████▉   | 34993/50000 [00:20<00:08, 1757.85 examples/s]\u001b[A\n",
      "Generating train examples...:  70%|███████   | 35169/50000 [00:20<00:08, 1748.11 examples/s]\u001b[A\n",
      "Generating train examples...:  71%|███████   | 35344/50000 [00:20<00:08, 1744.40 examples/s]\u001b[A\n",
      "Generating train examples...:  71%|███████   | 35519/50000 [00:20<00:08, 1745.78 examples/s]\u001b[A\n",
      "Generating train examples...:  71%|███████▏  | 35694/50000 [00:20<00:08, 1745.86 examples/s]\u001b[A\n",
      "Generating train examples...:  72%|███████▏  | 35871/50000 [00:20<00:08, 1750.71 examples/s]\u001b[A\n",
      "Generating train examples...:  72%|███████▏  | 36047/50000 [00:21<00:07, 1749.60 examples/s]\u001b[A\n",
      "Generating train examples...:  72%|███████▏  | 36224/50000 [00:21<00:07, 1754.17 examples/s]\u001b[A\n",
      "Generating train examples...:  73%|███████▎  | 36405/50000 [00:21<00:07, 1769.81 examples/s]\u001b[A\n",
      "Generating train examples...:  73%|███████▎  | 36587/50000 [00:21<00:07, 1783.96 examples/s]\u001b[A\n",
      "Generating train examples...:  74%|███████▎  | 36766/50000 [00:21<00:07, 1695.80 examples/s]\u001b[A\n",
      "Generating train examples...:  74%|███████▍  | 36937/50000 [00:21<00:07, 1677.87 examples/s]\u001b[A\n",
      "Generating train examples...:  74%|███████▍  | 37113/50000 [00:21<00:07, 1700.39 examples/s]\u001b[A\n",
      "Generating train examples...:  75%|███████▍  | 37290/50000 [00:21<00:07, 1718.09 examples/s]\u001b[A\n",
      "Generating train examples...:  75%|███████▍  | 37466/50000 [00:21<00:07, 1728.17 examples/s]\u001b[A\n",
      "Generating train examples...:  75%|███████▌  | 37640/50000 [00:22<00:07, 1700.30 examples/s]\u001b[A\n",
      "Generating train examples...:  76%|███████▌  | 37812/50000 [00:22<00:07, 1703.58 examples/s]\u001b[A\n",
      "Generating train examples...:  76%|███████▌  | 37983/50000 [00:22<00:07, 1704.96 examples/s]\u001b[A\n",
      "Generating train examples...:  76%|███████▋  | 38157/50000 [00:22<00:06, 1713.31 examples/s]\u001b[A\n",
      "Generating train examples...:  77%|███████▋  | 38331/50000 [00:22<00:06, 1720.30 examples/s]\u001b[A\n",
      "Generating train examples...:  77%|███████▋  | 38508/50000 [00:22<00:06, 1732.50 examples/s]\u001b[A\n",
      "Generating train examples...:  77%|███████▋  | 38687/50000 [00:22<00:06, 1747.99 examples/s]\u001b[A\n",
      "Generating train examples...:  78%|███████▊  | 38868/50000 [00:22<00:06, 1764.39 examples/s]\u001b[A\n",
      "Generating train examples...:  78%|███████▊  | 39045/50000 [00:22<00:06, 1755.07 examples/s]\u001b[A\n",
      "Generating train examples...:  78%|███████▊  | 39223/50000 [00:22<00:06, 1760.90 examples/s]\u001b[A\n",
      "Generating train examples...:  79%|███████▉  | 39400/50000 [00:23<00:06, 1753.80 examples/s]\u001b[A\n",
      "Generating train examples...:  79%|███████▉  | 39580/50000 [00:23<00:05, 1764.32 examples/s]\u001b[A\n",
      "Generating train examples...:  80%|███████▉  | 39760/50000 [00:23<00:05, 1772.75 examples/s]\u001b[A\n",
      "Generating train examples...:  80%|███████▉  | 39938/50000 [00:23<00:05, 1770.81 examples/s]\u001b[A\n",
      "Generating train examples...:  80%|████████  | 40116/50000 [00:23<00:06, 1610.67 examples/s]\u001b[A\n",
      "Generating train examples...:  81%|████████  | 40292/50000 [00:23<00:05, 1652.00 examples/s]\u001b[A\n",
      "Generating train examples...:  81%|████████  | 40469/50000 [00:23<00:05, 1684.44 examples/s]\u001b[A\n",
      "Generating train examples...:  81%|████████▏ | 40645/50000 [00:23<00:05, 1705.22 examples/s]\u001b[A\n",
      "Generating train examples...:  82%|████████▏ | 40823/50000 [00:23<00:05, 1724.67 examples/s]\u001b[A\n",
      "Generating train examples...:  82%|████████▏ | 40997/50000 [00:23<00:05, 1722.30 examples/s]\u001b[A\n",
      "Generating train examples...:  82%|████████▏ | 41178/50000 [00:24<00:05, 1745.42 examples/s]\u001b[A\n",
      "Generating train examples...:  83%|████████▎ | 41357/50000 [00:24<00:04, 1757.15 examples/s]\u001b[A\n",
      "Generating train examples...:  83%|████████▎ | 41534/50000 [00:24<00:04, 1757.26 examples/s]\u001b[A\n",
      "Generating train examples...:  83%|████████▎ | 41710/50000 [00:24<00:04, 1750.32 examples/s]\u001b[A\n",
      "Generating train examples...:  84%|████████▍ | 41889/50000 [00:24<00:04, 1761.20 examples/s]\u001b[A\n",
      "Generating train examples...:  84%|████████▍ | 42066/50000 [00:24<00:04, 1758.23 examples/s]\u001b[A\n",
      "Generating train examples...:  84%|████████▍ | 42245/50000 [00:24<00:04, 1766.91 examples/s]\u001b[A\n",
      "Generating train examples...:  85%|████████▍ | 42425/50000 [00:24<00:04, 1775.92 examples/s]\u001b[A\n",
      "Generating train examples...:  85%|████████▌ | 42605/50000 [00:24<00:04, 1782.11 examples/s]\u001b[A\n",
      "Generating train examples...:  86%|████████▌ | 42787/50000 [00:24<00:04, 1792.69 examples/s]\u001b[A\n",
      "Generating train examples...:  86%|████████▌ | 42967/50000 [00:25<00:03, 1780.23 examples/s]\u001b[A\n",
      "Generating train examples...:  86%|████████▋ | 43148/50000 [00:25<00:03, 1787.96 examples/s]\u001b[A\n",
      "Generating train examples...:  87%|████████▋ | 43332/50000 [00:25<00:03, 1802.17 examples/s]\u001b[A\n",
      "Generating train examples...:  87%|████████▋ | 43513/50000 [00:25<00:03, 1790.13 examples/s]\u001b[A\n",
      "Generating train examples...:  87%|████████▋ | 43693/50000 [00:25<00:03, 1789.97 examples/s]\u001b[A\n",
      "Generating train examples...:  88%|████████▊ | 43873/50000 [00:25<00:03, 1779.21 examples/s]\u001b[A\n",
      "Generating train examples...:  88%|████████▊ | 44051/50000 [00:25<00:03, 1764.16 examples/s]\u001b[A\n",
      "Generating train examples...:  88%|████████▊ | 44228/50000 [00:25<00:03, 1726.16 examples/s]\u001b[A\n",
      "Generating train examples...:  89%|████████▉ | 44401/50000 [00:25<00:03, 1711.72 examples/s]\u001b[A\n",
      "Generating train examples...:  89%|████████▉ | 44577/50000 [00:25<00:03, 1725.36 examples/s]\u001b[A\n",
      "Generating train examples...:  90%|████████▉ | 44751/50000 [00:26<00:03, 1729.33 examples/s]\u001b[A\n",
      "Generating train examples...:  90%|████████▉ | 44925/50000 [00:26<00:02, 1720.54 examples/s]\u001b[A\n",
      "Generating train examples...:  90%|█████████ | 45098/50000 [00:26<00:02, 1708.12 examples/s]\u001b[A\n",
      "Generating train examples...:  91%|█████████ | 45272/50000 [00:26<00:02, 1716.56 examples/s]\u001b[A\n",
      "Generating train examples...:  91%|█████████ | 45444/50000 [00:26<00:02, 1699.05 examples/s]\u001b[A\n",
      "Generating train examples...:  91%|█████████ | 45618/50000 [00:26<00:02, 1709.78 examples/s]\u001b[A\n",
      "Generating train examples...:  92%|█████████▏| 45790/50000 [00:26<00:02, 1711.15 examples/s]\u001b[A\n",
      "Generating train examples...:  92%|█████████▏| 45966/50000 [00:26<00:02, 1725.56 examples/s]\u001b[A\n",
      "Generating train examples...:  92%|█████████▏| 46145/50000 [00:26<00:02, 1742.56 examples/s]\u001b[A\n",
      "Generating train examples...:  93%|█████████▎| 46328/50000 [00:26<00:02, 1767.01 examples/s]\u001b[A\n",
      "Generating train examples...:  93%|█████████▎| 46509/50000 [00:27<00:01, 1778.24 examples/s]\u001b[A\n",
      "Generating train examples...:  93%|█████████▎| 46687/50000 [00:27<00:01, 1728.81 examples/s]\u001b[A\n",
      "Generating train examples...:  94%|█████████▎| 46861/50000 [00:27<00:01, 1713.70 examples/s]\u001b[A\n",
      "Generating train examples...:  94%|█████████▍| 47037/50000 [00:27<00:01, 1725.87 examples/s]\u001b[A\n",
      "Generating train examples...:  94%|█████████▍| 47219/50000 [00:27<00:01, 1752.21 examples/s]\u001b[A\n",
      "Generating train examples...:  95%|█████████▍| 47395/50000 [00:27<00:01, 1728.91 examples/s]\u001b[A\n",
      "Generating train examples...:  95%|█████████▌| 47576/50000 [00:27<00:01, 1752.22 examples/s]\u001b[A\n",
      "Generating train examples...:  96%|█████████▌| 47756/50000 [00:27<00:01, 1765.46 examples/s]\u001b[A\n",
      "Generating train examples...:  96%|█████████▌| 47937/50000 [00:27<00:01, 1778.01 examples/s]\u001b[A\n",
      "Generating train examples...:  96%|█████████▌| 48115/50000 [00:28<00:01, 1763.73 examples/s]\u001b[A\n",
      "Generating train examples...:  97%|█████████▋| 48292/50000 [00:28<00:00, 1755.66 examples/s]\u001b[A\n",
      "Generating train examples...:  97%|█████████▋| 48470/50000 [00:28<00:00, 1761.80 examples/s]\u001b[A\n",
      "Generating train examples...:  97%|█████████▋| 48651/50000 [00:28<00:00, 1774.28 examples/s]\u001b[A\n",
      "Generating train examples...:  98%|█████████▊| 48832/50000 [00:28<00:00, 1782.38 examples/s]\u001b[A\n",
      "Generating train examples...:  98%|█████████▊| 49011/50000 [00:28<00:00, 1744.48 examples/s]\u001b[A\n",
      "Generating train examples...:  98%|█████████▊| 49187/50000 [00:28<00:00, 1747.12 examples/s]\u001b[A\n",
      "Generating train examples...:  99%|█████████▊| 49362/50000 [00:28<00:00, 1743.39 examples/s]\u001b[A\n",
      "Generating train examples...:  99%|█████████▉| 49537/50000 [00:28<00:00, 1718.34 examples/s]\u001b[A\n",
      "Generating train examples...:  99%|█████████▉| 49714/50000 [00:28<00:00, 1733.27 examples/s]\u001b[A\n",
      "Generating train examples...: 100%|█████████▉| 49894/50000 [00:29<00:00, 1750.72 examples/s]\u001b[A\n",
      "                                                                                            \u001b[A\n",
      "Shuffling ~/tensorflow_datasets/cifar10/3.0.2.incompleteQQZBFG/cifar10-train.tfrecord*...:   0%|          | 0/50000 [00:00<?, ? examples/s]\u001b[A\n",
      "Shuffling ~/tensorflow_datasets/cifar10/3.0.2.incompleteQQZBFG/cifar10-train.tfrecord*...:  19%|█▉        | 9569/50000 [00:00<00:00, 95680.51 examples/s]\u001b[A\n",
      "Shuffling ~/tensorflow_datasets/cifar10/3.0.2.incompleteQQZBFG/cifar10-train.tfrecord*...:  54%|█████▍    | 27080/50000 [00:00<00:00, 142360.19 examples/s]\u001b[A\n",
      "Shuffling ~/tensorflow_datasets/cifar10/3.0.2.incompleteQQZBFG/cifar10-train.tfrecord*...:  88%|████████▊ | 44118/50000 [00:00<00:00, 155143.42 examples/s]\u001b[A\n",
      "Generating splits...:  50%|█████     | 1/2 [00:29<00:29, 29.47s/ splits]                                                                                   \u001b[A\n",
      "Generating test examples...:   0%|          | 0/10000 [00:00<?, ? examples/s]\u001b[A\n",
      "Generating test examples...:   1%|          | 116/10000 [00:00<00:08, 1154.37 examples/s]\u001b[A\n",
      "Generating test examples...:   3%|▎         | 295/10000 [00:00<00:06, 1524.76 examples/s]\u001b[A\n",
      "Generating test examples...:   5%|▍         | 477/10000 [00:00<00:05, 1658.89 examples/s]\u001b[A\n",
      "Generating test examples...:   7%|▋         | 659/10000 [00:00<00:05, 1720.38 examples/s]\u001b[A\n",
      "Generating test examples...:   8%|▊         | 840/10000 [00:00<00:05, 1751.16 examples/s]\u001b[A\n",
      "Generating test examples...:  10%|█         | 1016/10000 [00:00<00:05, 1739.22 examples/s]\u001b[A\n",
      "Generating test examples...:  12%|█▏        | 1193/10000 [00:00<00:05, 1746.82 examples/s]\u001b[A\n",
      "Generating test examples...:  14%|█▎        | 1371/10000 [00:00<00:04, 1755.36 examples/s]\u001b[A\n",
      "Generating test examples...:  16%|█▌        | 1550/10000 [00:00<00:04, 1764.87 examples/s]\u001b[A\n",
      "Generating test examples...:  17%|█▋        | 1729/10000 [00:01<00:04, 1772.27 examples/s]\u001b[A\n",
      "Generating test examples...:  19%|█▉        | 1907/10000 [00:01<00:04, 1765.12 examples/s]\u001b[A\n",
      "Generating test examples...:  21%|██        | 2084/10000 [00:01<00:04, 1750.98 examples/s]\u001b[A\n",
      "Generating test examples...:  23%|██▎       | 2260/10000 [00:01<00:04, 1746.61 examples/s]\u001b[A\n",
      "Generating test examples...:  24%|██▍       | 2438/10000 [00:01<00:04, 1755.43 examples/s]\u001b[A\n",
      "Generating test examples...:  26%|██▌       | 2616/10000 [00:01<00:04, 1761.32 examples/s]\u001b[A\n",
      "Generating test examples...:  28%|██▊       | 2793/10000 [00:01<00:04, 1763.21 examples/s]\u001b[A\n",
      "Generating test examples...:  30%|██▉       | 2970/10000 [00:01<00:03, 1763.18 examples/s]\u001b[A\n",
      "Generating test examples...:  32%|███▏      | 3151/10000 [00:01<00:03, 1775.39 examples/s]\u001b[A\n",
      "Generating test examples...:  33%|███▎      | 3330/10000 [00:01<00:03, 1779.65 examples/s]\u001b[A\n",
      "Generating test examples...:  35%|███▌      | 3508/10000 [00:02<00:03, 1779.72 examples/s]\u001b[A\n",
      "Generating test examples...:  37%|███▋      | 3687/10000 [00:02<00:03, 1780.42 examples/s]\u001b[A\n",
      "Generating test examples...:  39%|███▊      | 3866/10000 [00:02<00:03, 1757.64 examples/s]\u001b[A\n",
      "Generating test examples...:  40%|████      | 4042/10000 [00:02<00:03, 1661.80 examples/s]\u001b[A\n",
      "Generating test examples...:  42%|████▏     | 4210/10000 [00:02<00:03, 1646.32 examples/s]\u001b[A\n",
      "Generating test examples...:  44%|████▍     | 4376/10000 [00:02<00:03, 1647.22 examples/s]\u001b[A\n",
      "Generating test examples...:  45%|████▌     | 4545/10000 [00:02<00:03, 1659.13 examples/s]\u001b[A\n",
      "Generating test examples...:  47%|████▋     | 4722/10000 [00:02<00:03, 1691.03 examples/s]\u001b[A\n",
      "Generating test examples...:  49%|████▉     | 4893/10000 [00:02<00:03, 1694.10 examples/s]\u001b[A\n",
      "Generating test examples...:  51%|█████     | 5063/10000 [00:02<00:02, 1670.73 examples/s]\u001b[A\n",
      "Generating test examples...:  52%|█████▏    | 5231/10000 [00:03<00:02, 1638.46 examples/s]\u001b[A\n",
      "Generating test examples...:  54%|█████▍    | 5400/10000 [00:03<00:02, 1651.77 examples/s]\u001b[A\n",
      "Generating test examples...:  56%|█████▌    | 5580/10000 [00:03<00:02, 1694.07 examples/s]\u001b[A\n",
      "Generating test examples...:  58%|█████▊    | 5756/10000 [00:03<00:02, 1713.28 examples/s]\u001b[A\n",
      "Generating test examples...:  59%|█████▉    | 5936/10000 [00:03<00:02, 1737.71 examples/s]\u001b[A\n",
      "Generating test examples...:  61%|██████    | 6114/10000 [00:03<00:02, 1748.92 examples/s]\u001b[A\n",
      "Generating test examples...:  63%|██████▎   | 6290/10000 [00:03<00:02, 1749.02 examples/s]\u001b[A\n",
      "Generating test examples...:  65%|██████▍   | 6466/10000 [00:03<00:02, 1750.57 examples/s]\u001b[A\n",
      "Generating test examples...:  66%|██████▋   | 6642/10000 [00:03<00:01, 1744.64 examples/s]\u001b[A\n",
      "Generating test examples...:  68%|██████▊   | 6817/10000 [00:03<00:01, 1724.61 examples/s]\u001b[A\n",
      "Generating test examples...:  70%|██████▉   | 6992/10000 [00:04<00:01, 1731.95 examples/s]\u001b[A\n",
      "Generating test examples...:  72%|███████▏  | 7169/10000 [00:04<00:01, 1742.92 examples/s]\u001b[A\n",
      "Generating test examples...:  74%|███████▎  | 7350/10000 [00:04<00:01, 1762.81 examples/s]\u001b[A\n",
      "Generating test examples...:  75%|███████▌  | 7531/10000 [00:04<00:01, 1775.51 examples/s]\u001b[A\n",
      "Generating test examples...:  77%|███████▋  | 7712/10000 [00:04<00:01, 1785.46 examples/s]\u001b[A\n",
      "Generating test examples...:  79%|███████▉  | 7891/10000 [00:04<00:01, 1778.38 examples/s]\u001b[A\n",
      "Generating test examples...:  81%|████████  | 8069/10000 [00:04<00:01, 1773.63 examples/s]\u001b[A\n",
      "Generating test examples...:  82%|████████▏ | 8248/10000 [00:04<00:00, 1777.30 examples/s]\u001b[A\n",
      "Generating test examples...:  84%|████████▍ | 8426/10000 [00:04<00:00, 1774.12 examples/s]\u001b[A\n",
      "Generating test examples...:  86%|████████▌ | 8607/10000 [00:04<00:00, 1782.79 examples/s]\u001b[A\n",
      "Generating test examples...:  88%|████████▊ | 8786/10000 [00:05<00:00, 1782.15 examples/s]\u001b[A\n",
      "Generating test examples...:  90%|████████▉ | 8965/10000 [00:05<00:00, 1780.05 examples/s]\u001b[A\n",
      "Generating test examples...:  91%|█████████▏| 9144/10000 [00:05<00:00, 1781.38 examples/s]\u001b[A\n",
      "Generating test examples...:  93%|█████████▎| 9323/10000 [00:05<00:00, 1780.93 examples/s]\u001b[A\n",
      "Generating test examples...:  95%|█████████▌| 9502/10000 [00:05<00:00, 1781.11 examples/s]\u001b[A\n",
      "Generating test examples...:  97%|█████████▋| 9681/10000 [00:05<00:00, 1736.34 examples/s]\u001b[A\n",
      "Generating test examples...:  99%|█████████▊| 9859/10000 [00:05<00:00, 1746.91 examples/s]\u001b[A\n",
      "                                                                                          \u001b[A\n",
      "Shuffling ~/tensorflow_datasets/cifar10/3.0.2.incompleteQQZBFG/cifar10-test.tfrecord*...:   0%|          | 0/10000 [00:00<?, ? examples/s]\u001b[A\n",
      "                                                                                                                                          \u001b[A\r"
     ]
    },
    {
     "name": "stdout",
     "output_type": "stream",
     "text": [
      "\u001b[1mDataset cifar10 downloaded and prepared to ~/tensorflow_datasets/cifar10/3.0.2. Subsequent calls will reuse this data.\u001b[0m\n"
     ]
    }
   ],
   "source": [
    "import tensorflow_datasets as tfds\n",
    "datasets, info = tfds.load(name=\"cifar10\", with_info=True, as_supervised=True)"
   ]
  },
  {
   "cell_type": "code",
   "execution_count": 50,
   "metadata": {},
   "outputs": [
    {
     "ename": "TypeError",
     "evalue": "'PrefetchDataset' object is not subscriptable",
     "output_type": "error",
     "traceback": [
      "\u001b[0;31m---------------------------------------------------------------------------\u001b[0m",
      "\u001b[0;31mTypeError\u001b[0m                                 Traceback (most recent call last)",
      "\u001b[0;32m/tmp/ipykernel_1/932962858.py\u001b[0m in \u001b[0;36m<module>\u001b[0;34m\u001b[0m\n\u001b[0;32m----> 1\u001b[0;31m \u001b[0mdatasets\u001b[0m\u001b[0;34m[\u001b[0m\u001b[0;34m'train'\u001b[0m\u001b[0;34m]\u001b[0m\u001b[0;34m[\u001b[0m\u001b[0;36m1\u001b[0m\u001b[0;34m]\u001b[0m\u001b[0;34m\u001b[0m\u001b[0;34m\u001b[0m\u001b[0m\n\u001b[0m",
      "\u001b[0;31mTypeError\u001b[0m: 'PrefetchDataset' object is not subscriptable"
     ]
    }
   ],
   "source": [
    "from tensorflow.keras.datasets import cifar10\n",
    "\n",
    "(_, _), (x_test, y_test) = cifar10.load_data()\n",
    "x_test = (x_test / 255.0).astype(np.float32)\n",
    "\n",
    "print(x_test.shape, y_test.shape)\n",
    "\n",
    "# Perform the model evaluation\n",
    "local_model.evaluate(x_test, y_test)\n",
    "\n",
    "# Serving function for image data\n",
    "CONCRETE_INPUT = \"numpy_inputs\"\n",
    "\n",
    "def _preprocess(bytes_input):\n",
    "    decoded = tf.io.decode_jpeg(bytes_input, channels=3)\n",
    "    decoded = tf.image.convert_image_dtype(decoded, tf.float32)\n",
    "    resized = tf.image.resize(decoded, size=(32, 32))\n",
    "    return resized\n",
    "\n",
    "@tf.function(input_signature=[tf.TensorSpec([None], tf.string)])\n",
    "def preprocess_fn(bytes_inputs):\n",
    "    decoded_images = tf.map_fn(\n",
    "        _preprocess, bytes_inputs, dtype=tf.float32, back_prop=False\n",
    "    )\n",
    "    return {\n",
    "        CONCRETE_INPUT: decoded_images\n",
    "    }  # User needs to make sure the key matches model's input\n",
    "\n",
    "@tf.function(input_signature=[tf.TensorSpec([None], tf.string)])\n",
    "def serving_fn(bytes_inputs):\n",
    "    images = preprocess_fn(bytes_inputs)\n",
    "    prob = m_call(**images)\n",
    "    return prob\n",
    "\n",
    "m_call = tf.function(local_model.call).get_concrete_function(\n",
    "    [tf.TensorSpec(shape=[None, 32, 32, 3], dtype=tf.float32, name=CONCRETE_INPUT)]\n",
    ")"
   ]
  },
  {
   "cell_type": "code",
   "execution_count": 53,
   "metadata": {},
   "outputs": [],
   "source": [
    "from tensorflow.keras.datasets import cifar10\n",
    "import numpy as np"
   ]
  },
  {
   "cell_type": "code",
   "execution_count": 54,
   "metadata": {},
   "outputs": [],
   "source": [
    "(_, _), (x_test, y_test) = cifar10.load_data()\n",
    "x_test = (x_test / 255.0).astype(np.float32)"
   ]
  },
  {
   "cell_type": "code",
   "execution_count": 61,
   "metadata": {},
   "outputs": [
    {
     "data": {
      "text/plain": [
       "(32, 32, 3)"
      ]
     },
     "execution_count": 61,
     "metadata": {},
     "output_type": "execute_result"
    },
    {
     "name": "stdout",
     "output_type": "stream",
     "text": [
      "PipelineJob projects/278305018396/locations/us-central1/pipelineJobs/custom-model-training-sample-pipeline-20220717020133 current state:\n",
      "PipelineState.PIPELINE_STATE_RUNNING\n"
     ]
    },
    {
     "name": "stderr",
     "output_type": "stream",
     "text": [
      "INFO:google.cloud.aiplatform.pipeline_jobs:PipelineJob projects/278305018396/locations/us-central1/pipelineJobs/custom-model-training-sample-pipeline-20220717020133 current state:\n",
      "PipelineState.PIPELINE_STATE_RUNNING\n"
     ]
    }
   ],
   "source": [
    "x_test[0]"
   ]
  },
  {
   "cell_type": "code",
   "execution_count": 68,
   "metadata": {},
   "outputs": [],
   "source": [
    "import json"
   ]
  },
  {
   "cell_type": "code",
   "execution_count": 67,
   "metadata": {},
   "outputs": [
    {
     "data": {
      "text/plain": [
       "numpy.ndarray"
      ]
     },
     "execution_count": 67,
     "metadata": {},
     "output_type": "execute_result"
    }
   ],
   "source": [
    "type(x_test[0])"
   ]
  },
  {
   "cell_type": "code",
   "execution_count": 94,
   "metadata": {},
   "outputs": [
    {
     "ename": "NameError",
     "evalue": "name 'decode' is not defined",
     "output_type": "error",
     "traceback": [
      "\u001b[0;31m---------------------------------------------------------------------------\u001b[0m",
      "\u001b[0;31mNameError\u001b[0m                                 Traceback (most recent call last)",
      "\u001b[0;32m/tmp/ipykernel_1/2767980065.py\u001b[0m in \u001b[0;36m<module>\u001b[0;34m\u001b[0m\n\u001b[0;32m----> 1\u001b[0;31m \u001b[0mdecode\u001b[0m\u001b[0;34m(\u001b[0m\u001b[0;34m)\u001b[0m\u001b[0;34m\u001b[0m\u001b[0;34m\u001b[0m\u001b[0m\n\u001b[0m",
      "\u001b[0;31mNameError\u001b[0m: name 'decode' is not defined"
     ]
    }
   ],
   "source": []
  },
  {
   "cell_type": "code",
   "execution_count": 93,
   "metadata": {},
   "outputs": [
    {
     "ename": "TypeError",
     "evalue": "Cannot convert (32, 32, 3) to EagerTensor of dtype string",
     "output_type": "error",
     "traceback": [
      "\u001b[0;31m---------------------------------------------------------------------------\u001b[0m",
      "\u001b[0;31mTypeError\u001b[0m                                 Traceback (most recent call last)",
      "\u001b[0;32m/tmp/ipykernel_1/2477695446.py\u001b[0m in \u001b[0;36m<module>\u001b[0;34m\u001b[0m\n\u001b[0;32m----> 1\u001b[0;31m \u001b[0mtf\u001b[0m\u001b[0;34m.\u001b[0m\u001b[0mimage\u001b[0m\u001b[0;34m.\u001b[0m\u001b[0mdecode_jpeg\u001b[0m\u001b[0;34m(\u001b[0m\u001b[0mloaded_data\u001b[0m\u001b[0;34m[\u001b[0m\u001b[0;36m0\u001b[0m\u001b[0;34m]\u001b[0m\u001b[0;34m[\u001b[0m\u001b[0;36m0\u001b[0m\u001b[0;34m]\u001b[0m\u001b[0;34m[\u001b[0m\u001b[0;36m0\u001b[0m\u001b[0;34m]\u001b[0m\u001b[0;34m.\u001b[0m\u001b[0mshape\u001b[0m\u001b[0;34m,\u001b[0m \u001b[0mchannels\u001b[0m\u001b[0;34m=\u001b[0m\u001b[0;36m3\u001b[0m\u001b[0;34m)\u001b[0m\u001b[0;34m\u001b[0m\u001b[0;34m\u001b[0m\u001b[0m\n\u001b[0m",
      "\u001b[0;32m~/.local/lib/python3.7/site-packages/tensorflow/python/ops/gen_image_ops.py\u001b[0m in \u001b[0;36mdecode_jpeg\u001b[0;34m(contents, channels, ratio, fancy_upscaling, try_recover_truncated, acceptable_fraction, dct_method, name)\u001b[0m\n\u001b[1;32m   1173\u001b[0m           \u001b[0mtry_recover_truncated\u001b[0m\u001b[0;34m=\u001b[0m\u001b[0mtry_recover_truncated\u001b[0m\u001b[0;34m,\u001b[0m\u001b[0;34m\u001b[0m\u001b[0;34m\u001b[0m\u001b[0m\n\u001b[1;32m   1174\u001b[0m           \u001b[0macceptable_fraction\u001b[0m\u001b[0;34m=\u001b[0m\u001b[0macceptable_fraction\u001b[0m\u001b[0;34m,\u001b[0m \u001b[0mdct_method\u001b[0m\u001b[0;34m=\u001b[0m\u001b[0mdct_method\u001b[0m\u001b[0;34m,\u001b[0m\u001b[0;34m\u001b[0m\u001b[0;34m\u001b[0m\u001b[0m\n\u001b[0;32m-> 1175\u001b[0;31m           name=name, ctx=_ctx)\n\u001b[0m\u001b[1;32m   1176\u001b[0m     \u001b[0;32mexcept\u001b[0m \u001b[0m_core\u001b[0m\u001b[0;34m.\u001b[0m\u001b[0m_SymbolicException\u001b[0m\u001b[0;34m:\u001b[0m\u001b[0;34m\u001b[0m\u001b[0;34m\u001b[0m\u001b[0m\n\u001b[1;32m   1177\u001b[0m       \u001b[0;32mpass\u001b[0m  \u001b[0;31m# Add nodes to the TensorFlow graph.\u001b[0m\u001b[0;34m\u001b[0m\u001b[0;34m\u001b[0m\u001b[0m\n",
      "\u001b[0;32m~/.local/lib/python3.7/site-packages/tensorflow/python/ops/gen_image_ops.py\u001b[0m in \u001b[0;36mdecode_jpeg_eager_fallback\u001b[0;34m(contents, channels, ratio, fancy_upscaling, try_recover_truncated, acceptable_fraction, dct_method, name, ctx)\u001b[0m\n\u001b[1;32m   1237\u001b[0m     \u001b[0mdct_method\u001b[0m \u001b[0;34m=\u001b[0m \u001b[0;34m\"\"\u001b[0m\u001b[0;34m\u001b[0m\u001b[0;34m\u001b[0m\u001b[0m\n\u001b[1;32m   1238\u001b[0m   \u001b[0mdct_method\u001b[0m \u001b[0;34m=\u001b[0m \u001b[0m_execute\u001b[0m\u001b[0;34m.\u001b[0m\u001b[0mmake_str\u001b[0m\u001b[0;34m(\u001b[0m\u001b[0mdct_method\u001b[0m\u001b[0;34m,\u001b[0m \u001b[0;34m\"dct_method\"\u001b[0m\u001b[0;34m)\u001b[0m\u001b[0;34m\u001b[0m\u001b[0;34m\u001b[0m\u001b[0m\n\u001b[0;32m-> 1239\u001b[0;31m   \u001b[0mcontents\u001b[0m \u001b[0;34m=\u001b[0m \u001b[0m_ops\u001b[0m\u001b[0;34m.\u001b[0m\u001b[0mconvert_to_tensor\u001b[0m\u001b[0;34m(\u001b[0m\u001b[0mcontents\u001b[0m\u001b[0;34m,\u001b[0m \u001b[0m_dtypes\u001b[0m\u001b[0;34m.\u001b[0m\u001b[0mstring\u001b[0m\u001b[0;34m)\u001b[0m\u001b[0;34m\u001b[0m\u001b[0;34m\u001b[0m\u001b[0m\n\u001b[0m\u001b[1;32m   1240\u001b[0m   \u001b[0m_inputs_flat\u001b[0m \u001b[0;34m=\u001b[0m \u001b[0;34m[\u001b[0m\u001b[0mcontents\u001b[0m\u001b[0;34m]\u001b[0m\u001b[0;34m\u001b[0m\u001b[0;34m\u001b[0m\u001b[0m\n\u001b[1;32m   1241\u001b[0m   _attrs = (\"channels\", channels, \"ratio\", ratio, \"fancy_upscaling\",\n",
      "\u001b[0;32m~/.local/lib/python3.7/site-packages/tensorflow/python/profiler/trace.py\u001b[0m in \u001b[0;36mwrapped\u001b[0;34m(*args, **kwargs)\u001b[0m\n\u001b[1;32m    181\u001b[0m         \u001b[0;32mwith\u001b[0m \u001b[0mTrace\u001b[0m\u001b[0;34m(\u001b[0m\u001b[0mtrace_name\u001b[0m\u001b[0;34m,\u001b[0m \u001b[0;34m**\u001b[0m\u001b[0mtrace_kwargs\u001b[0m\u001b[0;34m)\u001b[0m\u001b[0;34m:\u001b[0m\u001b[0;34m\u001b[0m\u001b[0;34m\u001b[0m\u001b[0m\n\u001b[1;32m    182\u001b[0m           \u001b[0;32mreturn\u001b[0m \u001b[0mfunc\u001b[0m\u001b[0;34m(\u001b[0m\u001b[0;34m*\u001b[0m\u001b[0margs\u001b[0m\u001b[0;34m,\u001b[0m \u001b[0;34m**\u001b[0m\u001b[0mkwargs\u001b[0m\u001b[0;34m)\u001b[0m\u001b[0;34m\u001b[0m\u001b[0;34m\u001b[0m\u001b[0m\n\u001b[0;32m--> 183\u001b[0;31m       \u001b[0;32mreturn\u001b[0m \u001b[0mfunc\u001b[0m\u001b[0;34m(\u001b[0m\u001b[0;34m*\u001b[0m\u001b[0margs\u001b[0m\u001b[0;34m,\u001b[0m \u001b[0;34m**\u001b[0m\u001b[0mkwargs\u001b[0m\u001b[0;34m)\u001b[0m\u001b[0;34m\u001b[0m\u001b[0;34m\u001b[0m\u001b[0m\n\u001b[0m\u001b[1;32m    184\u001b[0m \u001b[0;34m\u001b[0m\u001b[0m\n\u001b[1;32m    185\u001b[0m     \u001b[0;32mreturn\u001b[0m \u001b[0mwrapped\u001b[0m\u001b[0;34m\u001b[0m\u001b[0;34m\u001b[0m\u001b[0m\n",
      "\u001b[0;32m~/.local/lib/python3.7/site-packages/tensorflow/python/framework/ops.py\u001b[0m in \u001b[0;36mconvert_to_tensor\u001b[0;34m(value, dtype, name, as_ref, preferred_dtype, dtype_hint, ctx, accepted_result_types)\u001b[0m\n\u001b[1;32m   1638\u001b[0m \u001b[0;34m\u001b[0m\u001b[0m\n\u001b[1;32m   1639\u001b[0m     \u001b[0;32mif\u001b[0m \u001b[0mret\u001b[0m \u001b[0;32mis\u001b[0m \u001b[0;32mNone\u001b[0m\u001b[0;34m:\u001b[0m\u001b[0;34m\u001b[0m\u001b[0;34m\u001b[0m\u001b[0m\n\u001b[0;32m-> 1640\u001b[0;31m       \u001b[0mret\u001b[0m \u001b[0;34m=\u001b[0m \u001b[0mconversion_func\u001b[0m\u001b[0;34m(\u001b[0m\u001b[0mvalue\u001b[0m\u001b[0;34m,\u001b[0m \u001b[0mdtype\u001b[0m\u001b[0;34m=\u001b[0m\u001b[0mdtype\u001b[0m\u001b[0;34m,\u001b[0m \u001b[0mname\u001b[0m\u001b[0;34m=\u001b[0m\u001b[0mname\u001b[0m\u001b[0;34m,\u001b[0m \u001b[0mas_ref\u001b[0m\u001b[0;34m=\u001b[0m\u001b[0mas_ref\u001b[0m\u001b[0;34m)\u001b[0m\u001b[0;34m\u001b[0m\u001b[0;34m\u001b[0m\u001b[0m\n\u001b[0m\u001b[1;32m   1641\u001b[0m \u001b[0;34m\u001b[0m\u001b[0m\n\u001b[1;32m   1642\u001b[0m     \u001b[0;32mif\u001b[0m \u001b[0mret\u001b[0m \u001b[0;32mis\u001b[0m \u001b[0mNotImplemented\u001b[0m\u001b[0;34m:\u001b[0m\u001b[0;34m\u001b[0m\u001b[0;34m\u001b[0m\u001b[0m\n",
      "\u001b[0;32m~/.local/lib/python3.7/site-packages/tensorflow/python/framework/constant_op.py\u001b[0m in \u001b[0;36m_constant_tensor_conversion_function\u001b[0;34m(v, dtype, name, as_ref)\u001b[0m\n\u001b[1;32m    341\u001b[0m                                          as_ref=False):\n\u001b[1;32m    342\u001b[0m   \u001b[0m_\u001b[0m \u001b[0;34m=\u001b[0m \u001b[0mas_ref\u001b[0m\u001b[0;34m\u001b[0m\u001b[0;34m\u001b[0m\u001b[0m\n\u001b[0;32m--> 343\u001b[0;31m   \u001b[0;32mreturn\u001b[0m \u001b[0mconstant\u001b[0m\u001b[0;34m(\u001b[0m\u001b[0mv\u001b[0m\u001b[0;34m,\u001b[0m \u001b[0mdtype\u001b[0m\u001b[0;34m=\u001b[0m\u001b[0mdtype\u001b[0m\u001b[0;34m,\u001b[0m \u001b[0mname\u001b[0m\u001b[0;34m=\u001b[0m\u001b[0mname\u001b[0m\u001b[0;34m)\u001b[0m\u001b[0;34m\u001b[0m\u001b[0;34m\u001b[0m\u001b[0m\n\u001b[0m\u001b[1;32m    344\u001b[0m \u001b[0;34m\u001b[0m\u001b[0m\n\u001b[1;32m    345\u001b[0m \u001b[0;34m\u001b[0m\u001b[0m\n",
      "\u001b[0;32m~/.local/lib/python3.7/site-packages/tensorflow/python/framework/constant_op.py\u001b[0m in \u001b[0;36mconstant\u001b[0;34m(value, dtype, shape, name)\u001b[0m\n\u001b[1;32m    266\u001b[0m   \"\"\"\n\u001b[1;32m    267\u001b[0m   return _constant_impl(value, dtype, shape, name, verify_shape=False,\n\u001b[0;32m--> 268\u001b[0;31m                         allow_broadcast=True)\n\u001b[0m\u001b[1;32m    269\u001b[0m \u001b[0;34m\u001b[0m\u001b[0m\n\u001b[1;32m    270\u001b[0m \u001b[0;34m\u001b[0m\u001b[0m\n",
      "\u001b[0;32m~/.local/lib/python3.7/site-packages/tensorflow/python/framework/constant_op.py\u001b[0m in \u001b[0;36m_constant_impl\u001b[0;34m(value, dtype, shape, name, verify_shape, allow_broadcast)\u001b[0m\n\u001b[1;32m    277\u001b[0m       \u001b[0;32mwith\u001b[0m \u001b[0mtrace\u001b[0m\u001b[0;34m.\u001b[0m\u001b[0mTrace\u001b[0m\u001b[0;34m(\u001b[0m\u001b[0;34m\"tf.constant\"\u001b[0m\u001b[0;34m)\u001b[0m\u001b[0;34m:\u001b[0m\u001b[0;34m\u001b[0m\u001b[0;34m\u001b[0m\u001b[0m\n\u001b[1;32m    278\u001b[0m         \u001b[0;32mreturn\u001b[0m \u001b[0m_constant_eager_impl\u001b[0m\u001b[0;34m(\u001b[0m\u001b[0mctx\u001b[0m\u001b[0;34m,\u001b[0m \u001b[0mvalue\u001b[0m\u001b[0;34m,\u001b[0m \u001b[0mdtype\u001b[0m\u001b[0;34m,\u001b[0m \u001b[0mshape\u001b[0m\u001b[0;34m,\u001b[0m \u001b[0mverify_shape\u001b[0m\u001b[0;34m)\u001b[0m\u001b[0;34m\u001b[0m\u001b[0;34m\u001b[0m\u001b[0m\n\u001b[0;32m--> 279\u001b[0;31m     \u001b[0;32mreturn\u001b[0m \u001b[0m_constant_eager_impl\u001b[0m\u001b[0;34m(\u001b[0m\u001b[0mctx\u001b[0m\u001b[0;34m,\u001b[0m \u001b[0mvalue\u001b[0m\u001b[0;34m,\u001b[0m \u001b[0mdtype\u001b[0m\u001b[0;34m,\u001b[0m \u001b[0mshape\u001b[0m\u001b[0;34m,\u001b[0m \u001b[0mverify_shape\u001b[0m\u001b[0;34m)\u001b[0m\u001b[0;34m\u001b[0m\u001b[0;34m\u001b[0m\u001b[0m\n\u001b[0m\u001b[1;32m    280\u001b[0m \u001b[0;34m\u001b[0m\u001b[0m\n\u001b[1;32m    281\u001b[0m   \u001b[0mg\u001b[0m \u001b[0;34m=\u001b[0m \u001b[0mops\u001b[0m\u001b[0;34m.\u001b[0m\u001b[0mget_default_graph\u001b[0m\u001b[0;34m(\u001b[0m\u001b[0;34m)\u001b[0m\u001b[0;34m\u001b[0m\u001b[0;34m\u001b[0m\u001b[0m\n",
      "\u001b[0;32m~/.local/lib/python3.7/site-packages/tensorflow/python/framework/constant_op.py\u001b[0m in \u001b[0;36m_constant_eager_impl\u001b[0;34m(ctx, value, dtype, shape, verify_shape)\u001b[0m\n\u001b[1;32m    302\u001b[0m \u001b[0;32mdef\u001b[0m \u001b[0m_constant_eager_impl\u001b[0m\u001b[0;34m(\u001b[0m\u001b[0mctx\u001b[0m\u001b[0;34m,\u001b[0m \u001b[0mvalue\u001b[0m\u001b[0;34m,\u001b[0m \u001b[0mdtype\u001b[0m\u001b[0;34m,\u001b[0m \u001b[0mshape\u001b[0m\u001b[0;34m,\u001b[0m \u001b[0mverify_shape\u001b[0m\u001b[0;34m)\u001b[0m\u001b[0;34m:\u001b[0m\u001b[0;34m\u001b[0m\u001b[0;34m\u001b[0m\u001b[0m\n\u001b[1;32m    303\u001b[0m   \u001b[0;34m\"\"\"Creates a constant on the current device.\"\"\"\u001b[0m\u001b[0;34m\u001b[0m\u001b[0;34m\u001b[0m\u001b[0m\n\u001b[0;32m--> 304\u001b[0;31m   \u001b[0mt\u001b[0m \u001b[0;34m=\u001b[0m \u001b[0mconvert_to_eager_tensor\u001b[0m\u001b[0;34m(\u001b[0m\u001b[0mvalue\u001b[0m\u001b[0;34m,\u001b[0m \u001b[0mctx\u001b[0m\u001b[0;34m,\u001b[0m \u001b[0mdtype\u001b[0m\u001b[0;34m)\u001b[0m\u001b[0;34m\u001b[0m\u001b[0;34m\u001b[0m\u001b[0m\n\u001b[0m\u001b[1;32m    305\u001b[0m   \u001b[0;32mif\u001b[0m \u001b[0mshape\u001b[0m \u001b[0;32mis\u001b[0m \u001b[0;32mNone\u001b[0m\u001b[0;34m:\u001b[0m\u001b[0;34m\u001b[0m\u001b[0;34m\u001b[0m\u001b[0m\n\u001b[1;32m    306\u001b[0m     \u001b[0;32mreturn\u001b[0m \u001b[0mt\u001b[0m\u001b[0;34m\u001b[0m\u001b[0;34m\u001b[0m\u001b[0m\n",
      "\u001b[0;32m~/.local/lib/python3.7/site-packages/tensorflow/python/framework/constant_op.py\u001b[0m in \u001b[0;36mconvert_to_eager_tensor\u001b[0;34m(value, ctx, dtype)\u001b[0m\n\u001b[1;32m    100\u001b[0m       \u001b[0mdtype\u001b[0m \u001b[0;34m=\u001b[0m \u001b[0mdtypes\u001b[0m\u001b[0;34m.\u001b[0m\u001b[0mas_dtype\u001b[0m\u001b[0;34m(\u001b[0m\u001b[0mdtype\u001b[0m\u001b[0;34m)\u001b[0m\u001b[0;34m.\u001b[0m\u001b[0mas_datatype_enum\u001b[0m\u001b[0;34m\u001b[0m\u001b[0;34m\u001b[0m\u001b[0m\n\u001b[1;32m    101\u001b[0m   \u001b[0mctx\u001b[0m\u001b[0;34m.\u001b[0m\u001b[0mensure_initialized\u001b[0m\u001b[0;34m(\u001b[0m\u001b[0;34m)\u001b[0m\u001b[0;34m\u001b[0m\u001b[0;34m\u001b[0m\u001b[0m\n\u001b[0;32m--> 102\u001b[0;31m   \u001b[0;32mreturn\u001b[0m \u001b[0mops\u001b[0m\u001b[0;34m.\u001b[0m\u001b[0mEagerTensor\u001b[0m\u001b[0;34m(\u001b[0m\u001b[0mvalue\u001b[0m\u001b[0;34m,\u001b[0m \u001b[0mctx\u001b[0m\u001b[0;34m.\u001b[0m\u001b[0mdevice_name\u001b[0m\u001b[0;34m,\u001b[0m \u001b[0mdtype\u001b[0m\u001b[0;34m)\u001b[0m\u001b[0;34m\u001b[0m\u001b[0;34m\u001b[0m\u001b[0m\n\u001b[0m\u001b[1;32m    103\u001b[0m \u001b[0;34m\u001b[0m\u001b[0m\n\u001b[1;32m    104\u001b[0m \u001b[0;34m\u001b[0m\u001b[0m\n",
      "\u001b[0;31mTypeError\u001b[0m: Cannot convert (32, 32, 3) to EagerTensor of dtype string"
     ]
    }
   ],
   "source": [
    "tf.image.decode_jpeg(loaded_data[0][0][0].shape, channels=3)"
   ]
  },
  {
   "cell_type": "code",
   "execution_count": 83,
   "metadata": {},
   "outputs": [],
   "source": [
    "loaded_data = cifar10.load_data()"
   ]
  },
  {
   "cell_type": "code",
   "execution_count": 91,
   "metadata": {},
   "outputs": [
    {
     "data": {
      "text/plain": [
       "(32, 32, 3)"
      ]
     },
     "execution_count": 91,
     "metadata": {},
     "output_type": "execute_result"
    }
   ],
   "source": []
  },
  {
   "cell_type": "code",
   "execution_count": 70,
   "metadata": {
    "collapsed": true,
    "jupyter": {
     "outputs_hidden": true
    },
    "tags": []
   },
   "outputs": [
    {
     "data": {
      "text/plain": [
       "'[[[0.6196078658103943, 0.43921568989753723, 0.1921568661928177], [0.6235294342041016, 0.43529412150382996, 0.18431372940540314], [0.6470588445663452, 0.45490196347236633, 0.20000000298023224], [0.6509804129600525, 0.4627451002597809, 0.2078431397676468], [0.6274510025978088, 0.43921568989753723, 0.18039216101169586], [0.6117647290229797, 0.4274509847164154, 0.16078431904315948], [0.6352941393852234, 0.45098039507865906, 0.18431372940540314], [0.6235294342041016, 0.4431372582912445, 0.1764705926179886], [0.6196078658103943, 0.43529412150382996, 0.1725490242242813], [0.6235294342041016, 0.4431372582912445, 0.16078431904315948], [0.6313725709915161, 0.45490196347236633, 0.16078431904315948], [0.6274510025978088, 0.43529412150382996, 0.20392157137393951], [0.6313725709915161, 0.43529412150382996, 0.1921568661928177], [0.6509804129600525, 0.4588235318660736, 0.16078431904315948], [0.6627451181411743, 0.4588235318660736, 0.1764705926179886], [0.6666666865348816, 0.46666666865348816, 0.1725490242242813], [0.6549019813537598, 0.4588235318660736, 0.1568627506494522], [0.6352941393852234, 0.4431372582912445, 0.14901961386203766], [0.6274510025978088, 0.43529412150382996, 0.15294118225574493], [0.6274510025978088, 0.43921568989753723, 0.16862745583057404], [0.6117647290229797, 0.4274509847164154, 0.1725490242242813], [0.5843137502670288, 0.41960784792900085, 0.1764705926179886], [0.5882353186607361, 0.41960784792900085, 0.1764705926179886], [0.5803921818733215, 0.4156862795352936, 0.16862745583057404], [0.5843137502670288, 0.41960784792900085, 0.1725490242242813], [0.5607843399047852, 0.3960784375667572, 0.15294118225574493], [0.5490196347236633, 0.3843137323856354, 0.16862745583057404], [0.5529412031173706, 0.3803921639919281, 0.16078431904315948], [0.5607843399047852, 0.3803921639919281, 0.14901961386203766], [0.5372549295425415, 0.37254902720451355, 0.1411764770746231], [0.4941176474094391, 0.35686275362968445, 0.1411764770746231], [0.45490196347236633, 0.3333333432674408, 0.12941177189350128]], [[0.5960784554481506, 0.43921568989753723, 0.20000000298023224], [0.5921568870544434, 0.4313725531101227, 0.1568627506494522], [0.6235294342041016, 0.4470588266849518, 0.1764705926179886], [0.6509804129600525, 0.45490196347236633, 0.21960784494876862], [0.6352941393852234, 0.43921568989753723, 0.1921568661928177], [0.6274510025978088, 0.4431372582912445, 0.16862745583057404], [0.6431372761726379, 0.4588235318660736, 0.18431372940540314], [0.6352941393852234, 0.4470588266849518, 0.1764705926179886], [0.6392157077789307, 0.45490196347236633, 0.18039216101169586], [0.6117647290229797, 0.4313725531101227, 0.14901961386203766], [0.6078431606292725, 0.43529412150382996, 0.16078431904315948], [0.6235294342041016, 0.4313725531101227, 0.21176470816135406], [0.6392157077789307, 0.4431372582912445, 0.20392157137393951], [0.6666666865348816, 0.46666666865348816, 0.16078431904315948], [0.6705882549285889, 0.4588235318660736, 0.1568627506494522], [0.6705882549285889, 0.45098039507865906, 0.12941177189350128], [0.6627451181411743, 0.45098039507865906, 0.11764705926179886], [0.6274510025978088, 0.43529412150382996, 0.12941177189350128], [0.6039215922355652, 0.43921568989753723, 0.16078431904315948], [0.5921568870544434, 0.45098039507865906, 0.19607843458652496], [0.5686274766921997, 0.4313725531101227, 0.2078431397676468], [0.545098066329956, 0.40784314274787903, 0.21568627655506134], [0.5490196347236633, 0.4000000059604645, 0.20392157137393951], [0.5529412031173706, 0.3921568691730499, 0.1882352977991104], [0.5843137502670288, 0.4117647111415863, 0.19607843458652496], [0.5764706134796143, 0.4000000059604645, 0.18039216101169586], [0.5686274766921997, 0.4000000059604645, 0.1764705926179886], [0.5568627715110779, 0.3803921639919281, 0.14901961386203766], [0.5607843399047852, 0.3843137323856354, 0.13333334028720856], [0.5333333611488342, 0.37254902720451355, 0.12156862765550613], [0.4901960790157318, 0.35686275362968445, 0.125490203499794], [0.46666666865348816, 0.3450980484485626, 0.13333334028720856]], [[0.5921568870544434, 0.4313725531101227, 0.18431372940540314], [0.5921568870544434, 0.4274509847164154, 0.12941177189350128], [0.6196078658103943, 0.43529412150382996, 0.1411764770746231], [0.6549019813537598, 0.43529412150382996, 0.1882352977991104], [0.6274510025978088, 0.4156862795352936, 0.16470588743686676], [0.6392157077789307, 0.45098039507865906, 0.1725490242242813], [0.6470588445663452, 0.4588235318660736, 0.1764705926179886], [0.6470588445663452, 0.4588235318660736, 0.1764705926179886], [0.6392157077789307, 0.45098039507865906, 0.16862745583057404], [0.6352941393852234, 0.45098039507865906, 0.16862745583057404], [0.6196078658103943, 0.4470588266849518, 0.1882352977991104], [0.615686297416687, 0.4274509847164154, 0.2235294133424759], [0.6313725709915161, 0.43529412150382996, 0.20000000298023224], [0.6509804129600525, 0.45098039507865906, 0.14901961386203766], [0.6549019813537598, 0.4470588266849518, 0.14509804546833038], [0.6627451181411743, 0.4431372582912445, 0.13725490868091583], [0.6666666865348816, 0.45490196347236633, 0.15294118225574493], [0.6235294342041016, 0.4470588266849518, 0.18431372940540314], [0.5686274766921997, 0.43529412150382996, 0.21176470816135406], [0.4745098054409027, 0.3764705955982208, 0.1921568661928177], [0.4313725531101227, 0.3529411852359772, 0.20392157137393951], [0.3843137323856354, 0.30588236451148987, 0.19607843458652496], [0.3960784375667572, 0.3019607961177826, 0.18431372940540314], [0.4470588266849518, 0.3333333432674408, 0.19607843458652496], [0.47058823704719543, 0.33725491166114807, 0.1882352977991104], [0.5254902243614197, 0.3764705955982208, 0.21568627655506134], [0.5607843399047852, 0.40392157435417175, 0.20000000298023224], [0.5490196347236633, 0.38823530077934265, 0.15294118225574493], [0.5568627715110779, 0.38823530077934265, 0.13725490868091583], [0.545098066329956, 0.3843137323856354, 0.13333334028720856], [0.5098039507865906, 0.37254902720451355, 0.13333334028720856], [0.47058823704719543, 0.3490196168422699, 0.12941177189350128]], [[0.6078431606292725, 0.41960784792900085, 0.1568627506494522], [0.6078431606292725, 0.4313725531101227, 0.125490203499794], [0.6274510025978088, 0.4274509847164154, 0.12156862765550613], [0.6823529601097107, 0.43921568989753723, 0.1725490242242813], [0.6549019813537598, 0.4313725531101227, 0.16862745583057404], [0.6549019813537598, 0.4588235318660736, 0.18039216101169586], [0.6627451181411743, 0.47058823704719543, 0.1882352977991104], [0.6627451181411743, 0.46666666865348816, 0.1882352977991104], [0.6470588445663452, 0.45098039507865906, 0.1725490242242813], [0.6470588445663452, 0.4588235318660736, 0.1764705926179886], [0.6549019813537598, 0.48235294222831726, 0.2235294133424759], [0.7490196228027344, 0.572549045085907, 0.37254902720451355], [0.6941176652908325, 0.5098039507865906, 0.29411765933036804], [0.615686297416687, 0.43529412150382996, 0.16078431904315948], [0.6352941393852234, 0.45098039507865906, 0.18431372940540314], [0.6431372761726379, 0.4470588266849518, 0.21176470816135406], [0.6196078658103943, 0.43921568989753723, 0.22745098173618317], [0.5843137502670288, 0.43529412150382996, 0.26274511218070984], [0.40784314274787903, 0.3137255012989044, 0.18431372940540314], [0.40392157435417175, 0.34117648005485535, 0.2549019753932953], [0.3843137323856354, 0.3529411852359772, 0.2980392277240753], [0.3607843220233917, 0.3529411852359772, 0.3294117748737335], [0.3137255012989044, 0.29411765933036804, 0.25882354378700256], [0.29019609093666077, 0.24705882370471954, 0.19607843458652496], [0.33725491166114807, 0.27450981736183167, 0.20392157137393951], [0.32549020648002625, 0.24313725531101227, 0.15294118225574493], [0.4431372582912445, 0.3333333432674408, 0.1764705926179886], [0.5176470875740051, 0.3843137323856354, 0.18039216101169586], [0.5490196347236633, 0.4000000059604645, 0.16862745583057404], [0.5490196347236633, 0.3960784375667572, 0.15294118225574493], [0.5333333611488342, 0.38823530077934265, 0.15294118225574493], [0.49803921580314636, 0.3686274588108063, 0.1411764770746231]], [[0.6078431606292725, 0.41960784792900085, 0.16078431904315948], [0.6117647290229797, 0.4470588266849518, 0.1882352977991104], [0.6313725709915161, 0.45098039507865906, 0.1921568661928177], [0.6666666865348816, 0.4470588266849518, 0.18431372940540314], [0.6627451181411743, 0.4470588266849518, 0.16862745583057404], [0.6392157077789307, 0.4431372582912445, 0.1568627506494522], [0.6627451181411743, 0.47058823704719543, 0.18431372940540314], [0.6509804129600525, 0.45490196347236633, 0.1725490242242813], [0.6431372761726379, 0.4431372582912445, 0.16078431904315948], [0.6431372761726379, 0.45490196347236633, 0.16470588743686676], [0.6784313917160034, 0.501960813999176, 0.23137255012989044], [0.9647058844566345, 0.8392156958580017, 0.6431372761726379], [0.7647058963775635, 0.6117647290229797, 0.41960784792900085], [0.5921568870544434, 0.4470588266849518, 0.21960784494876862], [0.572549045085907, 0.43529412150382996, 0.23529411852359772], [0.5568627715110779, 0.42352941632270813, 0.27843138575553894], [0.43529412150382996, 0.3137255012989044, 0.19607843458652496], [0.30588236451148987, 0.2078431397676468, 0.12156862765550613], [0.3333333432674408, 0.2705882489681244, 0.21960784494876862], [0.4431372582912445, 0.40392157435417175, 0.3843137323856354], [0.43921568989753723, 0.4313725531101227, 0.43529412150382996], [0.4156862795352936, 0.4470588266849518, 0.4627451002597809], [0.3803921639919281, 0.4000000059604645, 0.4117647111415863], [0.364705890417099, 0.3686274588108063, 0.364705890417099], [0.29019609093666077, 0.2823529541492462, 0.26274511218070984], [0.3294117748737335, 0.30588236451148987, 0.27450981736183167], [0.3333333432674408, 0.2862745225429535, 0.18431372940540314], [0.4117647111415863, 0.32549020648002625, 0.1764705926179886], [0.501960813999176, 0.3764705955982208, 0.1882352977991104], [0.5411764979362488, 0.3960784375667572, 0.18039216101169586], [0.5215686559677124, 0.3686274588108063, 0.1411764770746231], [0.5058823823928833, 0.364705890417099, 0.1411764770746231]], [[0.5803921818733215, 0.4274509847164154, 0.21176470816135406], [0.5215686559677124, 0.40784314274787903, 0.250980406999588], [0.5098039507865906, 0.3921568691730499, 0.2235294133424759], [0.5764706134796143, 0.43921568989753723, 0.2078431397676468], [0.6313725709915161, 0.45098039507865906, 0.1725490242242813], [0.6470588445663452, 0.4431372582912445, 0.15294118225574493], [0.6549019813537598, 0.45490196347236633, 0.16078431904315948], [0.6549019813537598, 0.45098039507865906, 0.16078431904315948], [0.6392157077789307, 0.43529412150382996, 0.14509804546833038], [0.6470588445663452, 0.45490196347236633, 0.15294118225574493], [0.6392157077789307, 0.4627451002597809, 0.16470588743686676], [0.7058823704719543, 0.5411764979362488, 0.3333333432674408], [0.615686297416687, 0.47843137383461, 0.30588236451148987], [0.501960813999176, 0.4000000059604645, 0.22745098173618317], [0.3803921639919281, 0.29411765933036804, 0.16862745583057404], [0.25882354378700256, 0.19607843458652496, 0.12156862765550613], [0.2705882489681244, 0.22745098173618317, 0.16862745583057404], [0.25882354378700256, 0.21960784494876862, 0.1764705926179886], [0.3490196168422699, 0.32549020648002625, 0.2980392277240753], [0.4627451002597809, 0.4431372582912445, 0.4313725531101227], [0.47843137383461, 0.4745098054409027, 0.47058823704719543], [0.46666666865348816, 0.47843137383461, 0.47843137383461], [0.4470588266849518, 0.45490196347236633, 0.45490196347236633], [0.3686274588108063, 0.3764705955982208, 0.3764705955982208], [0.38823530077934265, 0.3921568691730499, 0.3803921639919281], [0.35686275362968445, 0.35686275362968445, 0.33725491166114807], [0.22745098173618317, 0.22745098173618317, 0.18431372940540314], [0.26274511218070984, 0.22745098173618317, 0.14509804546833038], [0.42352941632270813, 0.3294117748737335, 0.1921568661928177], [0.5490196347236633, 0.4117647111415863, 0.22745098173618317], [0.5411764979362488, 0.3843137323856354, 0.1725490242242813], [0.5254902243614197, 0.37254902720451355, 0.1568627506494522]], [[0.49803921580314636, 0.3921568691730499, 0.2235294133424759], [0.4274509847164154, 0.37254902720451355, 0.3137255012989044], [0.18431372940540314, 0.14509804546833038, 0.06666667014360428], [0.3450980484485626, 0.29019609093666077, 0.10980392247438431], [0.6000000238418579, 0.4588235318660736, 0.1882352977991104], [0.6666666865348816, 0.4627451002597809, 0.16862745583057404], [0.658823549747467, 0.45098039507865906, 0.1568627506494522], [0.6666666865348816, 0.4627451002597809, 0.16862745583057404], [0.6627451181411743, 0.4588235318660736, 0.16470588743686676], [0.6509804129600525, 0.45490196347236633, 0.14509804546833038], [0.6431372761726379, 0.47058823704719543, 0.15294118225574493], [0.5764706134796143, 0.41960784792900085, 0.20392157137393951], [0.5058823823928833, 0.3843137323856354, 0.23137255012989044], [0.49803921580314636, 0.42352941632270813, 0.29411765933036804], [0.3921568691730499, 0.34117648005485535, 0.27450981736183167], [0.2666666805744171, 0.26274511218070984, 0.2235294133424759], [0.30588236451148987, 0.32549020648002625, 0.2823529541492462], [0.2823529541492462, 0.29411765933036804, 0.250980406999588], [0.32549020648002625, 0.3294117748737335, 0.29019609093666077], [0.5176470875740051, 0.5098039507865906, 0.4745098054409027], [0.572549045085907, 0.5568627715110779, 0.5176470875740051], [0.48627451062202454, 0.4627451002597809, 0.42352941632270813], [0.4117647111415863, 0.38823530077934265, 0.3529411852359772], [0.41960784792900085, 0.4000000059604645, 0.3686274588108063], [0.45098039507865906, 0.43529412150382996, 0.40392157435417175], [0.3333333432674408, 0.32549020648002625, 0.3019607961177826], [0.24705882370471954, 0.27843138575553894, 0.2705882489681244], [0.18039216101169586, 0.18431372940540314, 0.15294118225574493], [0.30980393290519714, 0.239215686917305, 0.1411764770746231], [0.5176470875740051, 0.3843137323856354, 0.22745098173618317], [0.5529412031173706, 0.38823530077934265, 0.1882352977991104], [0.5254902243614197, 0.364705890417099, 0.15294118225574493]], [[0.5137255191802979, 0.45098039507865906, 0.3529411852359772], [0.38823530077934265, 0.3764705955982208, 0.3607843220233917], [0.16470588743686676, 0.16862745583057404, 0.14901961386203766], [0.27450981736183167, 0.250980406999588, 0.16078431904315948], [0.5607843399047852, 0.43529412150382996, 0.21960784494876862], [0.6549019813537598, 0.4588235318660736, 0.16470588743686676], [0.6470588445663452, 0.4470588266849518, 0.1411764770746231], [0.658823549747467, 0.45490196347236633, 0.15294118225574493], [0.6705882549285889, 0.46666666865348816, 0.1921568661928177], [0.6313725709915161, 0.4431372582912445, 0.20000000298023224], [0.5490196347236633, 0.4274509847164154, 0.20000000298023224], [0.47058823704719543, 0.3686274588108063, 0.1921568661928177], [0.5098039507865906, 0.4313725531101227, 0.3019607961177826], [0.5647059082984924, 0.5137255191802979, 0.41960784792900085], [0.45490196347236633, 0.4156862795352936, 0.364705890417099], [0.3450980484485626, 0.34117648005485535, 0.30980393290519714], [0.35686275362968445, 0.37254902720451355, 0.3450980484485626], [0.3333333432674408, 0.3450980484485626, 0.32156863808631897], [0.3019607961177826, 0.3019607961177826, 0.2705882489681244], [0.48627451062202454, 0.4627451002597809, 0.41960784792900085], [0.6392157077789307, 0.6000000238418579, 0.5490196347236633], [0.5333333611488342, 0.48627451062202454, 0.43921568989753723], [0.4000000059604645, 0.364705890417099, 0.3176470696926117], [0.4156862795352936, 0.3843137323856354, 0.3450980484485626], [0.3921568691730499, 0.364705890417099, 0.3294117748737335], [0.3333333432674408, 0.3176470696926117, 0.29019609093666077], [0.21176470816135406, 0.23529411852359772, 0.22745098173618317], [0.1921568661928177, 0.2078431397676468, 0.1921568661928177], [0.2235294133424759, 0.18431372940540314, 0.125490203499794], [0.41960784792900085, 0.32549020648002625, 0.19607843458652496], [0.5411764979362488, 0.40392157435417175, 0.20000000298023224], [0.5333333611488342, 0.3803921639919281, 0.15294118225574493]], [[0.6666666865348816, 0.6313725709915161, 0.5647059082984924], [0.40392157435417175, 0.4117647111415863, 0.4117647111415863], [0.21176470816135406, 0.22745098173618317, 0.23137255012989044], [0.48627451062202454, 0.4745098054409027, 0.4431372582912445], [0.6000000238418579, 0.48627451062202454, 0.32156863808631897], [0.6313725709915161, 0.4431372582912445, 0.16862745583057404], [0.6392157077789307, 0.4588235318660736, 0.16078431904315948], [0.6509804129600525, 0.47843137383461, 0.19607843458652496], [0.6470588445663452, 0.4745098054409027, 0.25882354378700256], [0.6823529601097107, 0.529411792755127, 0.37254902720451355], [0.4431372582912445, 0.3490196168422699, 0.23137255012989044], [0.4901960790157318, 0.4117647111415863, 0.30588236451148987], [0.615686297416687, 0.5529412031173706, 0.4745098054409027], [0.6117647290229797, 0.5607843399047852, 0.501960813999176], [0.4745098054409027, 0.43529412150382996, 0.3960784375667572], [0.33725491166114807, 0.3137255012989044, 0.29019609093666077], [0.32156863808631897, 0.3176470696926117, 0.3019607961177826], [0.3294117748737335, 0.3333333432674408, 0.32156863808631897], [0.3137255012989044, 0.30588236451148987, 0.2862745225429535], [0.3176470696926117, 0.27843138575553894, 0.239215686917305], [0.5411764979362488, 0.4901960790157318, 0.43921568989753723], [0.572549045085907, 0.529411792755127, 0.48235294222831726], [0.4431372582912445, 0.40392157435417175, 0.364705890417099], [0.34117648005485535, 0.30980393290519714, 0.27450981736183167], [0.32549020648002625, 0.3019607961177826, 0.2705882489681244], [0.33725491166114807, 0.32156863808631897, 0.2980392277240753], [0.27843138575553894, 0.2862745225429535, 0.26274511218070984], [0.21960784494876862, 0.2235294133424759, 0.2078431397676468], [0.1568627506494522, 0.13725490868091583, 0.10588235408067703], [0.29019609093666077, 0.23137255012989044, 0.13725490868091583], [0.5215686559677124, 0.4156862795352936, 0.23137255012989044], [0.5372549295425415, 0.40392157435417175, 0.1764705926179886]], [[0.7058823704719543, 0.6901960968971252, 0.6392157077789307], [0.5254902243614197, 0.545098066329956, 0.5607843399047852], [0.3686274588108063, 0.3921568691730499, 0.4117647111415863], [0.6039215922355652, 0.6039215922355652, 0.5843137502670288], [0.6823529601097107, 0.5843137502670288, 0.43921568989753723], [0.6196078658103943, 0.45490196347236633, 0.20000000298023224], [0.6117647290229797, 0.45490196347236633, 0.18431372940540314], [0.6000000238418579, 0.4627451002597809, 0.23529411852359772], [0.8117647171020508, 0.7058823704719543, 0.572549045085907], [0.929411768913269, 0.8392156958580017, 0.7764706015586853], [0.8117647171020508, 0.7058823704719543, 0.6509804129600525], [0.6117647290229797, 0.5137255191802979, 0.46666666865348816], [0.6823529601097107, 0.6000000238418579, 0.5686274766921997], [0.5803921818733215, 0.5137255191802979, 0.4901960790157318], [0.4901960790157318, 0.4313725531101227, 0.41960784792900085], [0.364705890417099, 0.3333333432674408, 0.30980393290519714], [0.33725491166114807, 0.3294117748737335, 0.30980393290519714], [0.29019609093666077, 0.29019609093666077, 0.27843138575553894], [0.23137255012989044, 0.2235294133424759, 0.2078431397676468], [0.2980392277240753, 0.2666666805744171, 0.22745098173618317], [0.5372549295425415, 0.4901960790157318, 0.43921568989753723], [0.5607843399047852, 0.5215686559677124, 0.47843137383461], [0.5215686559677124, 0.48627451062202454, 0.4470588266849518], [0.4156862795352936, 0.3843137323856354, 0.3490196168422699], [0.33725491166114807, 0.3176470696926117, 0.29019609093666077], [0.34117648005485535, 0.3333333432674408, 0.30588236451148987], [0.3294117748737335, 0.3333333432674408, 0.30588236451148987], [0.29411765933036804, 0.2980392277240753, 0.27843138575553894], [0.19607843458652496, 0.1921568661928177, 0.16862745583057404], [0.1568627506494522, 0.11764705926179886, 0.05882352963089943], [0.37254902720451355, 0.29411765933036804, 0.1725490242242813], [0.5176470875740051, 0.40392157435417175, 0.2235294133424759]], [[0.7176470756530762, 0.7176470756530762, 0.686274528503418], [0.42352941632270813, 0.45490196347236633, 0.47843137383461], [0.5568627715110779, 0.5921568870544434, 0.6196078658103943], [0.6470588445663452, 0.6627451181411743, 0.658823549747467], [0.6941176652908325, 0.6117647290229797, 0.47843137383461], [0.6078431606292725, 0.43921568989753723, 0.19607843458652496], [0.6235294342041016, 0.4627451002597809, 0.20000000298023224], [0.47843137383461, 0.3490196168422699, 0.18431372940540314], [0.8352941274642944, 0.772549033164978, 0.7019608020782471], [0.929411768913269, 0.8784313797950745, 0.886274516582489], [0.8627451062202454, 0.7490196228027344, 0.7372549176216125], [0.6431372761726379, 0.529411792755127, 0.5137255191802979], [0.7176470756530762, 0.6235294342041016, 0.6078431606292725], [0.6117647290229797, 0.5372549295425415, 0.5176470875740051], [0.4901960790157318, 0.42352941632270813, 0.40784314274787903], [0.47058823704719543, 0.43529412150382996, 0.40784314274787903], [0.30588236451148987, 0.2980392277240753, 0.2705882489681244], [0.3137255012989044, 0.3137255012989044, 0.3019607961177826], [0.1764705926179886, 0.1725490242242813, 0.1568627506494522], [0.35686275362968445, 0.3333333432674408, 0.3019607961177826], [0.686274528503418, 0.6470588445663452, 0.6039215922355652], [0.615686297416687, 0.5764706134796143, 0.5372549295425415], [0.6078431606292725, 0.5764706134796143, 0.5411764979362488], [0.41960784792900085, 0.3921568691730499, 0.3607843220233917], [0.34117648005485535, 0.32549020648002625, 0.3019607961177826], [0.40392157435417175, 0.4000000059604645, 0.3764705955982208], [0.3450980484485626, 0.3450980484485626, 0.30980393290519714], [0.30588236451148987, 0.30980393290519714, 0.2862745225429535], [0.23137255012989044, 0.23137255012989044, 0.23137255012989044], [0.16078431904315948, 0.1411764770746231, 0.12941177189350128], [0.23137255012989044, 0.18039216101169586, 0.12156862765550613], [0.40784314274787903, 0.3176470696926117, 0.18039216101169586]], [[0.7372549176216125, 0.7490196228027344, 0.7411764860153198], [0.3921568691730499, 0.42352941632270813, 0.45490196347236633], [0.529411792755127, 0.5647059082984924, 0.6000000238418579], [0.6666666865348816, 0.686274528503418, 0.6980392336845398], [0.7333333492279053, 0.6549019813537598, 0.5333333611488342], [0.6509804129600525, 0.47058823704719543, 0.23137255012989044], [0.6784313917160034, 0.48235294222831726, 0.21568627655506134], [0.5254902243614197, 0.364705890417099, 0.1725490242242813], [0.4588235318660736, 0.37254902720451355, 0.3137255012989044], [0.7607843279838562, 0.7137255072593689, 0.7372549176216125], [0.7803921699523926, 0.6705882549285889, 0.6431372761726379], [0.6666666865348816, 0.5568627715110779, 0.5215686559677124], [0.7254902124404907, 0.6313725709915161, 0.5921568870544434], [0.7411764860153198, 0.6705882549285889, 0.6235294342041016], [0.5254902243614197, 0.46666666865348816, 0.4156862795352936], [0.4588235318660736, 0.41960784792900085, 0.37254902720451355], [0.4000000059604645, 0.3843137323856354, 0.3490196168422699], [0.3294117748737335, 0.3294117748737335, 0.30980393290519714], [0.14901961386203766, 0.14901961386203766, 0.13333334028720856], [0.4901960790157318, 0.4745098054409027, 0.4431372582912445], [0.8235294222831726, 0.7882353067398071, 0.7529411911964417], [0.6274510025978088, 0.5960784554481506, 0.5568627715110779], [0.572549045085907, 0.545098066329956, 0.5098039507865906], [0.364705890417099, 0.3490196168422699, 0.32156863808631897], [0.32549020648002625, 0.3137255012989044, 0.29411765933036804], [0.3686274588108063, 0.364705890417099, 0.3450980484485626], [0.40784314274787903, 0.40784314274787903, 0.3686274588108063], [0.3333333432674408, 0.34117648005485535, 0.3176470696926117], [0.2862745225429535, 0.29411765933036804, 0.30588236451148987], [0.21568627655506134, 0.2078431397676468, 0.21568627655506134], [0.24313725531101227, 0.21568627655506134, 0.1882352977991104], [0.2980392277240753, 0.21960784494876862, 0.10196078568696976]], [[0.7411764860153198, 0.7607843279838562, 0.7607843279838562], [0.3529411852359772, 0.3764705955982208, 0.4117647111415863], [0.49803921580314636, 0.5254902243614197, 0.5647059082984924], [0.686274528503418, 0.7058823704719543, 0.7254902124404907], [0.6823529601097107, 0.6117647290229797, 0.5215686559677124], [0.6509804129600525, 0.48235294222831726, 0.2666666805744171], [0.6980392336845398, 0.48235294222831726, 0.2078431397676468], [0.6235294342041016, 0.4274509847164154, 0.18431372940540314], [0.3803921639919281, 0.2666666805744171, 0.1725490242242813], [0.658823549747467, 0.6039215922355652, 0.5960784554481506], [0.658823549747467, 0.5647059082984924, 0.4941176474094391], [0.5372549295425415, 0.4470588266849518, 0.3686274588108063], [0.729411780834198, 0.6509804129600525, 0.5803921818733215], [0.8470588326454163, 0.7921568751335144, 0.7176470756530762], [0.6274510025978088, 0.5843137502670288, 0.5058823823928833], [0.48235294222831726, 0.4431372582912445, 0.3843137323856354], [0.47058823704719543, 0.4470588266849518, 0.4117647111415863], [0.45098039507865906, 0.4470588266849518, 0.4274509847164154], [0.19607843458652496, 0.19607843458652496, 0.18431372940540314], [0.5882353186607361, 0.5764706134796143, 0.5490196347236633], [0.7607843279838562, 0.7333333492279053, 0.6980392336845398], [0.6078431606292725, 0.5843137502670288, 0.5490196347236633], [0.48235294222831726, 0.4627451002597809, 0.43529412150382996], [0.35686275362968445, 0.3450980484485626, 0.32549020648002625], [0.3294117748737335, 0.32549020648002625, 0.30980393290519714], [0.3294117748737335, 0.3294117748737335, 0.3137255012989044], [0.37254902720451355, 0.37254902720451355, 0.3333333432674408], [0.33725491166114807, 0.34117648005485535, 0.3176470696926117], [0.3294117748737335, 0.34117648005485535, 0.3490196168422699], [0.2862745225429535, 0.2862745225429535, 0.2862745225429535], [0.30980393290519714, 0.29019609093666077, 0.250980406999588], [0.2862745225429535, 0.21568627655506134, 0.0941176488995552]], [[0.7411764860153198, 0.7529411911964417, 0.7568627595901489], [0.364705890417099, 0.37254902720451355, 0.40392157435417175], [0.5960784554481506, 0.6039215922355652, 0.6392157077789307], [0.7254902124404907, 0.7372549176216125, 0.7529411911964417], [0.46666666865348816, 0.4313725531101227, 0.3843137323856354], [0.5333333611488342, 0.4156862795352936, 0.25882354378700256], [0.6784313917160034, 0.48627451062202454, 0.22745098173618317], [0.6549019813537598, 0.45490196347236633, 0.19607843458652496], [0.40392157435417175, 0.2823529541492462, 0.15294118225574493], [0.5764706134796143, 0.5176470875740051, 0.47058823704719543], [0.5686274766921997, 0.4901960790157318, 0.40392157435417175], [0.6549019813537598, 0.5843137502670288, 0.49803921580314636], [0.7411764860153198, 0.6823529601097107, 0.6078431606292725], [0.886274516582489, 0.8470588326454163, 0.7843137383460999], [0.7058823704719543, 0.6745098233222961, 0.615686297416687], [0.5529412031173706, 0.5137255191802979, 0.4588235318660736], [0.4941176474094391, 0.4588235318660736, 0.41960784792900085], [0.4588235318660736, 0.4470588266849518, 0.4274509847164154], [0.27843138575553894, 0.27843138575553894, 0.2666666805744171], [0.6039215922355652, 0.5960784554481506, 0.5764706134796143], [0.729411780834198, 0.7098039388656616, 0.6823529601097107], [0.5843137502670288, 0.5647059082984924, 0.5333333611488342], [0.4470588266849518, 0.4313725531101227, 0.40784314274787903], [0.34117648005485535, 0.3333333432674408, 0.3137255012989044], [0.3137255012989044, 0.3137255012989044, 0.2980392277240753], [0.2823529541492462, 0.2862745225429535, 0.27450981736183167], [0.3137255012989044, 0.3137255012989044, 0.2823529541492462], [0.38823530077934265, 0.3921568691730499, 0.3686274588108063], [0.3921568691730499, 0.3960784375667572, 0.38823530077934265], [0.3529411852359772, 0.3450980484485626, 0.3176470696926117], [0.3803921639919281, 0.3490196168422699, 0.2705882489681244], [0.3686274588108063, 0.2862745225429535, 0.13333334028720856]], [[0.7607843279838562, 0.7686274647712708, 0.7686274647712708], [0.42352941632270813, 0.41960784792900085, 0.43921568989753723], [0.658823549747467, 0.6549019813537598, 0.6745098233222961], [0.729411780834198, 0.729411780834198, 0.7372549176216125], [0.4117647111415863, 0.4274509847164154, 0.4274509847164154], [0.38823530077934265, 0.3490196168422699, 0.26274511218070984], [0.6117647290229797, 0.46666666865348816, 0.24313725531101227], [0.6549019813537598, 0.47843137383461, 0.21568627655506134], [0.3921568691730499, 0.29019609093666077, 0.13333334028720856], [0.45098039507865906, 0.4156862795352936, 0.3450980484485626], [0.5411764979362488, 0.48235294222831726, 0.40392157435417175], [0.7764706015586853, 0.7254902124404907, 0.6627451181411743], [0.7450980544090271, 0.7058823704719543, 0.6627451181411743], [0.6745098233222961, 0.6470588445663452, 0.6235294342041016], [0.5686274766921997, 0.5490196347236633, 0.5490196347236633], [0.6039215922355652, 0.5607843399047852, 0.5254902243614197], [0.572549045085907, 0.5333333611488342, 0.4901960790157318], [0.40392157435417175, 0.3921568691730499, 0.37254902720451355], [0.27843138575553894, 0.27843138575553894, 0.27450981736183167], [0.5960784554481506, 0.5960784554481506, 0.5843137502670288], [0.7019608020782471, 0.686274528503418, 0.6666666865348816], [0.5372549295425415, 0.5215686559677124, 0.49803921580314636], [0.5098039507865906, 0.501960813999176, 0.47843137383461], [0.4313725531101227, 0.4274509847164154, 0.4117647111415863], [0.3333333432674408, 0.33725491166114807, 0.32549020648002625], [0.35686275362968445, 0.364705890417099, 0.35686275362968445], [0.37254902720451355, 0.3764705955982208, 0.3529411852359772], [0.4274509847164154, 0.4313725531101227, 0.40784314274787903], [0.45098039507865906, 0.45490196347236633, 0.43529412150382996], [0.3921568691730499, 0.3764705955982208, 0.3137255012989044], [0.3803921639919281, 0.3333333432674408, 0.2078431397676468], [0.4588235318660736, 0.37254902720451355, 0.18431372940540314]], [[0.772549033164978, 0.772549033164978, 0.772549033164978], [0.5176470875740051, 0.5058823823928833, 0.5333333611488342], [0.6745098233222961, 0.6549019813537598, 0.6823529601097107], [0.7215686440467834, 0.6980392336845398, 0.7098039388656616], [0.5098039507865906, 0.5372549295425415, 0.5568627715110779], [0.30588236451148987, 0.32549020648002625, 0.3019607961177826], [0.5490196347236633, 0.47058823704719543, 0.3450980484485626], [0.6078431606292725, 0.4901960790157318, 0.3019607961177826], [0.45098039507865906, 0.3686274588108063, 0.20392157137393951], [0.5098039507865906, 0.47058823704719543, 0.364705890417099], [0.5607843399047852, 0.5137255191802979, 0.45490196347236633], [0.9019607901573181, 0.8666666746139526, 0.8274509906768799], [0.9490196108818054, 0.9254902005195618, 0.9019607901573181], [0.5686274766921997, 0.5411764979362488, 0.5372549295425415], [0.529411792755127, 0.5098039507865906, 0.5098039507865906], [0.5137255191802979, 0.4745098054409027, 0.43921568989753723], [0.4745098054409027, 0.43921568989753723, 0.3960784375667572], [0.42352941632270813, 0.40784314274787903, 0.37254902720451355], [0.37254902720451355, 0.3450980484485626, 0.29411765933036804], [0.5647059082984924, 0.5254902243614197, 0.4627451002597809], [0.658823549747467, 0.6235294342041016, 0.572549045085907], [0.5960784554481506, 0.5764706134796143, 0.5411764979362488], [0.43921568989753723, 0.42352941632270813, 0.3960784375667572], [0.34117648005485535, 0.3333333432674408, 0.3137255012989044], [0.27843138575553894, 0.2823529541492462, 0.2666666805744171], [0.34117648005485535, 0.3450980484485626, 0.34117648005485535], [0.4117647111415863, 0.40784314274787903, 0.38823530077934265], [0.43921568989753723, 0.4274509847164154, 0.38823530077934265], [0.47058823704719543, 0.4313725531101227, 0.364705890417099], [0.40392157435417175, 0.33725491166114807, 0.21176470816135406], [0.4745098054409027, 0.3764705955982208, 0.1882352977991104], [0.5333333611488342, 0.40784314274787903, 0.1882352977991104]], [[0.7960784435272217, 0.7960784435272217, 0.800000011920929], [0.572549045085907, 0.572549045085907, 0.6274510025978088], [0.658823549747467, 0.6431372761726379, 0.6980392336845398], [0.7490196228027344, 0.7137255072593689, 0.7372549176216125], [0.658823549747467, 0.6666666865348816, 0.6745098233222961], [0.30588236451148987, 0.33725491166114807, 0.3529411852359772], [0.4941176474094391, 0.4901960790157318, 0.4941176474094391], [0.5411764979362488, 0.4941176474094391, 0.4431372582912445], [0.5411764979362488, 0.4745098054409027, 0.32156863808631897], [0.3764705955982208, 0.3137255012989044, 0.14509804546833038], [0.6039215922355652, 0.5607843399047852, 0.5215686559677124], [0.6784313917160034, 0.6392157077789307, 0.6078431606292725], [0.6352941393852234, 0.5960784554481506, 0.5529412031173706], [0.5490196347236633, 0.5176470875740051, 0.4588235318660736], [0.4431372582912445, 0.4156862795352936, 0.3450980484485626], [0.4431372582912445, 0.4156862795352936, 0.3529411852359772], [0.3960784375667572, 0.3960784375667572, 0.3607843220233917], [0.4117647111415863, 0.3960784375667572, 0.34117648005485535], [0.43921568989753723, 0.3529411852359772, 0.22745098173618317], [0.6705882549285889, 0.5607843399047852, 0.40784314274787903], [0.6117647290229797, 0.5411764979362488, 0.4274509847164154], [0.5803921818733215, 0.5529412031173706, 0.4941176474094391], [0.529411792755127, 0.5098039507865906, 0.4627451002597809], [0.4274509847164154, 0.4117647111415863, 0.3803921639919281], [0.30588236451148987, 0.2980392277240753, 0.2823529541492462], [0.30980393290519714, 0.30980393290519714, 0.3019607961177826], [0.3686274588108063, 0.364705890417099, 0.3686274588108063], [0.3960784375667572, 0.35686275362968445, 0.32156863808631897], [0.41960784792900085, 0.32549020648002625, 0.21568627655506134], [0.4901960790157318, 0.3450980484485626, 0.1764705926179886], [0.5921568870544434, 0.42352941632270813, 0.21568627655506134], [0.5647059082984924, 0.40784314274787903, 0.18039216101169586]], [[0.8392156958580017, 0.843137264251709, 0.843137264251709], [0.6392157077789307, 0.6509804129600525, 0.7058823704719543], [0.6431372761726379, 0.6549019813537598, 0.7215686440467834], [0.7176470756530762, 0.7215686440467834, 0.7607843279838562], [0.6901960968971252, 0.7137255072593689, 0.729411780834198], [0.3686274588108063, 0.4000000059604645, 0.4117647111415863], [0.3764705955982208, 0.3764705955982208, 0.4000000059604645], [0.6117647290229797, 0.5843137502670288, 0.5686274766921997], [0.5803921818733215, 0.5372549295425415, 0.43529412150382996], [0.4156862795352936, 0.364705890417099, 0.239215686917305], [0.5058823823928833, 0.45490196347236633, 0.4117647111415863], [0.4627451002597809, 0.4117647111415863, 0.37254902720451355], [0.4470588266849518, 0.4000000059604645, 0.3490196168422699], [0.45490196347236633, 0.4117647111415863, 0.3490196168422699], [0.4000000059604645, 0.35686275362968445, 0.2862745225429535], [0.45098039507865906, 0.4313725531101227, 0.3843137323856354], [0.33725491166114807, 0.35686275362968445, 0.3450980484485626], [0.3960784375667572, 0.40392157435417175, 0.37254902720451355], [0.5647059082984924, 0.501960813999176, 0.4000000059604645], [0.4627451002597809, 0.3764705955982208, 0.250980406999588], [0.2666666805744171, 0.21960784494876862, 0.125490203499794], [0.501960813999176, 0.47058823704719543, 0.4117647111415863], [0.5215686559677124, 0.4941176474094391, 0.45098039507865906], [0.29411765933036804, 0.2705882489681244, 0.239215686917305], [0.23529411852359772, 0.21960784494876862, 0.20000000298023224], [0.22745098173618317, 0.21960784494876862, 0.2078431397676468], [0.27843138575553894, 0.27450981736183167, 0.2549019753932953], [0.4000000059604645, 0.364705890417099, 0.30588236451148987], [0.45490196347236633, 0.3686274588108063, 0.250980406999588], [0.5607843399047852, 0.43921568989753723, 0.2666666805744171], [0.5882353186607361, 0.45490196347236633, 0.250980406999588], [0.5490196347236633, 0.4313725531101227, 0.21176470816135406]], [[0.8313725590705872, 0.8274509906768799, 0.8039215803146362], [0.6980392336845398, 0.7215686440467834, 0.7529411911964417], [0.6549019813537598, 0.686274528503418, 0.7411764860153198], [0.6784313917160034, 0.7098039388656616, 0.7568627595901489], [0.6901960968971252, 0.7215686440467834, 0.7372549176216125], [0.48627451062202454, 0.5137255191802979, 0.5215686559677124], [0.33725491166114807, 0.3450980484485626, 0.3764705955982208], [0.5529412031173706, 0.545098066329956, 0.5607843399047852], [0.6000000238418579, 0.5803921818733215, 0.5529412031173706], [0.529411792755127, 0.501960813999176, 0.43529412150382996], [0.40784314274787903, 0.3529411852359772, 0.3137255012989044], [0.3019607961177826, 0.250980406999588, 0.21568627655506134], [0.5254902243614197, 0.4745098054409027, 0.42352941632270813], [0.48627451062202454, 0.43529412150382996, 0.3764705955982208], [0.5058823823928833, 0.4588235318660736, 0.3921568691730499], [0.5764706134796143, 0.5607843399047852, 0.5215686559677124], [0.3333333432674408, 0.3607843220233917, 0.364705890417099], [0.3607843220233917, 0.3764705955982208, 0.364705890417099], [0.5882353186607361, 0.545098066329956, 0.47058823704719543], [0.5176470875740051, 0.4588235318660736, 0.364705890417099], [0.4588235318660736, 0.4274509847164154, 0.3607843220233917], [0.41960784792900085, 0.38823530077934265, 0.33725491166114807], [0.29411765933036804, 0.2666666805744171, 0.22745098173618317], [0.250980406999588, 0.23137255012989044, 0.20392157137393951], [0.1725490242242813, 0.16078431904315948, 0.15294118225574493], [0.2549019753932953, 0.24313725531101227, 0.23529411852359772], [0.33725491166114807, 0.2705882489681244, 0.1568627506494522], [0.5215686559677124, 0.4117647111415863, 0.23137255012989044], [0.6078431606292725, 0.46666666865348816, 0.24313725531101227], [0.6274510025978088, 0.47058823704719543, 0.21176470816135406], [0.6039215922355652, 0.45098039507865906, 0.1764705926179886], [0.5921568870544434, 0.43529412150382996, 0.18039216101169586]], [[0.7803921699523926, 0.7529411911964417, 0.7058823704719543], [0.7333333492279053, 0.7411764860153198, 0.7333333492279053], [0.6705882549285889, 0.6901960968971252, 0.7098039388656616], [0.6823529601097107, 0.7019608020782471, 0.7254902124404907], [0.6941176652908325, 0.7137255072593689, 0.7215686440467834], [0.5647059082984924, 0.5843137502670288, 0.5960784554481506], [0.33725491166114807, 0.3529411852359772, 0.38823530077934265], [0.46666666865348816, 0.4745098054409027, 0.5176470875740051], [0.47843137383461, 0.48627451062202454, 0.5098039507865906], [0.5372549295425415, 0.5333333611488342, 0.529411792755127], [0.5647059082984924, 0.5254902243614197, 0.4941176474094391], [0.27450981736183167, 0.23137255012989044, 0.20000000298023224], [0.5058823823928833, 0.4627451002597809, 0.42352941632270813], [0.42352941632270813, 0.3803921639919281, 0.33725491166114807], [0.5686274766921997, 0.5254902243614197, 0.48235294222831726], [0.7215686440467834, 0.6901960968971252, 0.658823549747467], [0.45490196347236633, 0.4627451002597809, 0.4627451002597809], [0.2862745225429535, 0.29411765933036804, 0.2862745225429535], [0.5137255191802979, 0.46666666865348816, 0.40392157435417175], [0.5372549295425415, 0.48627451062202454, 0.4117647111415863], [0.5254902243614197, 0.5058823823928833, 0.4627451002597809], [0.3490196168422699, 0.33725491166114807, 0.30588236451148987], [0.20000000298023224, 0.1921568661928177, 0.1725490242242813], [0.20392157137393951, 0.20000000298023224, 0.19607843458652496], [0.18431372940540314, 0.1921568661928177, 0.20392157137393951], [0.3529411852359772, 0.3529411852359772, 0.364705890417099], [0.4745098054409027, 0.35686275362968445, 0.23529411852359772], [0.6392157077789307, 0.4627451002597809, 0.2666666805744171], [0.6705882549285889, 0.4745098054409027, 0.250980406999588], [0.6431372761726379, 0.4431372582912445, 0.20392157137393951], [0.6196078658103943, 0.43529412150382996, 0.19607843458652496], [0.5843137502670288, 0.41960784792900085, 0.18039216101169586]], [[0.6470588445663452, 0.6117647290229797, 0.572549045085907], [0.7647058963775635, 0.7568627595901489, 0.7333333492279053], [0.7019608020782471, 0.6980392336845398, 0.686274528503418], [0.6941176652908325, 0.6784313917160034, 0.6745098233222961], [0.7098039388656616, 0.7098039388656616, 0.7058823704719543], [0.5960784554481506, 0.615686297416687, 0.6274510025978088], [0.38823530077934265, 0.40392157435417175, 0.43529412150382996], [0.5137255191802979, 0.529411792755127, 0.572549045085907], [0.6705882549285889, 0.686274528503418, 0.7254902124404907], [0.40392157435417175, 0.4117647111415863, 0.43529412150382996], [0.364705890417099, 0.3529411852359772, 0.34117648005485535], [0.3137255012989044, 0.3019607961177826, 0.2862745225429535], [0.364705890417099, 0.3529411852359772, 0.33725491166114807], [0.47843137383461, 0.4627451002597809, 0.45490196347236633], [0.6980392336845398, 0.6784313917160034, 0.6784313917160034], [0.7490196228027344, 0.7137255072593689, 0.6941176652908325], [0.5882353186607361, 0.5803921818733215, 0.5803921818733215], [0.3921568691730499, 0.3921568691730499, 0.3960784375667572], [0.3490196168422699, 0.30588236451148987, 0.25882354378700256], [0.34117648005485535, 0.3019607961177826, 0.24705882370471954], [0.23529411852359772, 0.239215686917305, 0.2235294133424759], [0.18039216101169586, 0.20392157137393951, 0.21176470816135406], [0.14901961386203766, 0.18039216101169586, 0.20000000298023224], [0.0941176488995552, 0.12941177189350128, 0.16078431904315948], [0.18039216101169586, 0.2235294133424759, 0.2705882489681244], [0.23529411852359772, 0.27843138575553894, 0.32549020648002625], [0.42352941632270813, 0.3921568691730499, 0.29411765933036804], [0.5647059082984924, 0.4901960790157318, 0.32156863808631897], [0.5647059082984924, 0.48235294222831726, 0.2980392277240753], [0.501960813999176, 0.4274509847164154, 0.239215686917305], [0.49803921580314636, 0.4431372582912445, 0.2705882489681244], [0.47058823704719543, 0.4117647111415863, 0.24705882370471954]], [[0.4588235318660736, 0.47058823704719543, 0.48627451062202454], [0.7647058963775635, 0.7843137383460999, 0.7843137383460999], [0.6941176652908325, 0.6980392336845398, 0.6901960968971252], [0.6980392336845398, 0.6627451181411743, 0.658823549747467], [0.7098039388656616, 0.7019608020782471, 0.7019608020782471], [0.5411764979362488, 0.5647059082984924, 0.5764706134796143], [0.32549020648002625, 0.34117648005485535, 0.35686275362968445], [0.5882353186607361, 0.6000000238418579, 0.6235294342041016], [0.9607843160629272, 0.9686274528503418, 0.9803921580314636], [0.8588235378265381, 0.8705882430076599, 0.8823529481887817], [0.5215686559677124, 0.5490196347236633, 0.5647059082984924], [0.5254902243614197, 0.5529412031173706, 0.5764706134796143], [0.5843137502670288, 0.6117647290229797, 0.6431372761726379], [0.6901960968971252, 0.7137255072593689, 0.7529411911964417], [0.7450980544090271, 0.7686274647712708, 0.8156862854957581], [0.7607843279838562, 0.7529411911964417, 0.772549033164978], [0.658823549747467, 0.6745098233222961, 0.7098039388656616], [0.4901960790157318, 0.5215686559677124, 0.5607843399047852], [0.4313725531101227, 0.4274509847164154, 0.4274509847164154], [0.239215686917305, 0.24313725531101227, 0.24313725531101227], [0.13725490868091583, 0.1921568661928177, 0.22745098173618317], [0.13333334028720856, 0.21176470816135406, 0.2666666805744171], [0.1921568661928177, 0.27450981736183167, 0.34117648005485535], [0.22745098173618317, 0.3176470696926117, 0.4000000059604645], [0.239215686917305, 0.3333333432674408, 0.4313725531101227], [0.22745098173618317, 0.3294117748737335, 0.43529412150382996], [0.2705882489681244, 0.38823530077934265, 0.47843137383461], [0.2823529541492462, 0.3960784375667572, 0.46666666865348816], [0.30588236451148987, 0.40784314274787903, 0.47058823704719543], [0.2705882489681244, 0.3764705955982208, 0.43921568989753723], [0.23137255012989044, 0.3607843220233917, 0.43921568989753723], [0.21568627655506134, 0.3529411852359772, 0.45098039507865906]], [[0.30980393290519714, 0.4117647111415863, 0.5215686559677124], [0.686274528503418, 0.772549033164978, 0.8352941274642944], [0.6823529601097107, 0.7176470756530762, 0.7529411911964417], [0.6901960968971252, 0.6745098233222961, 0.6941176652908325], [0.6941176652908325, 0.6941176652908325, 0.7137255072593689], [0.5490196347236633, 0.572549045085907, 0.5882353186607361], [0.4274509847164154, 0.43921568989753723, 0.4431372582912445], [0.8274509906768799, 0.8274509906768799, 0.8196078538894653], [0.9921568632125854, 0.9882352948188782, 0.9686274528503418], [0.9882352948188782, 0.9921568632125854, 0.9882352948188782], [0.8156862854957581, 0.8784313797950745, 0.9098039269447327], [0.48627451062202454, 0.5607843399047852, 0.615686297416687], [0.4470588266849518, 0.5176470875740051, 0.5843137502670288], [0.48627451062202454, 0.5529412031173706, 0.6352941393852234], [0.45490196347236633, 0.5215686559677124, 0.6117647290229797], [0.47843137383461, 0.5215686559677124, 0.5960784554481506], [0.40784314274787903, 0.48627451062202454, 0.5803921818733215], [0.2666666805744171, 0.364705890417099, 0.46666666865348816], [0.2666666805744171, 0.34117648005485535, 0.40784314274787903], [0.23529411852359772, 0.32156863808631897, 0.3960784375667572], [0.20392157137393951, 0.3294117748737335, 0.43529412150382996], [0.19607843458652496, 0.3294117748737335, 0.4313725531101227], [0.20000000298023224, 0.3333333432674408, 0.45098039507865906], [0.21960784494876862, 0.364705890417099, 0.4901960790157318], [0.21960784494876862, 0.3686274588108063, 0.5137255191802979], [0.20000000298023224, 0.35686275362968445, 0.5098039507865906], [0.16862745583057404, 0.3764705955982208, 0.529411792755127], [0.20000000298023224, 0.40784314274787903, 0.5529412031173706], [0.23137255012989044, 0.42352941632270813, 0.5568627715110779], [0.1882352977991104, 0.3803921639919281, 0.5176470875740051], [0.16862745583057404, 0.3803921639919281, 0.5372549295425415], [0.16470588743686676, 0.37254902720451355, 0.5176470875740051]], [[0.16078431904315948, 0.3490196168422699, 0.529411792755127], [0.3764705955982208, 0.5372549295425415, 0.658823549747467], [0.5647059082984924, 0.658823549747467, 0.7372549176216125], [0.658823549747467, 0.6823529601097107, 0.7372549176216125], [0.6980392336845398, 0.7137255072593689, 0.7529411911964417], [0.6470588445663452, 0.6666666865348816, 0.6823529601097107], [0.6470588445663452, 0.6509804129600525, 0.6431372761726379], [0.9647058844566345, 0.9607843160629272, 0.929411768913269], [0.9921568632125854, 0.9843137264251709, 0.9450980424880981], [0.8901960849761963, 0.9058823585510254, 0.8941176533699036], [0.4313725531101227, 0.5333333611488342, 0.6000000238418579], [0.23529411852359772, 0.3450980484485626, 0.43529412150382996], [0.2078431397676468, 0.3137255012989044, 0.4117647111415863], [0.1921568661928177, 0.2980392277240753, 0.4117647111415863], [0.1921568661928177, 0.29411765933036804, 0.41960784792900085], [0.1882352977991104, 0.2823529541492462, 0.3960784375667572], [0.1764705926179886, 0.30980393290519714, 0.45098039507865906], [0.16470588743686676, 0.3176470696926117, 0.47058823704719543], [0.18039216101169586, 0.3176470696926117, 0.4431372582912445], [0.16470588743686676, 0.32156863808631897, 0.45490196347236633], [0.14901961386203766, 0.33725491166114807, 0.4901960790157318], [0.18039216101169586, 0.3529411852359772, 0.4901960790157318], [0.18039216101169586, 0.3490196168422699, 0.4941176474094391], [0.16862745583057404, 0.34117648005485535, 0.501960813999176], [0.16470588743686676, 0.3490196168422699, 0.5176470875740051], [0.18039216101169586, 0.364705890417099, 0.545098066329956], [0.18039216101169586, 0.3686274588108063, 0.5372549295425415], [0.19607843458652496, 0.3764705955982208, 0.5372549295425415], [0.21568627655506134, 0.3764705955982208, 0.529411792755127], [0.2078431397676468, 0.3686274588108063, 0.5254902243614197], [0.20000000298023224, 0.37254902720451355, 0.545098066329956], [0.1764705926179886, 0.3529411852359772, 0.5215686559677124]], [[0.11372549086809158, 0.35686275362968445, 0.5529412031173706], [0.11372549086809158, 0.34117648005485535, 0.5098039507865906], [0.23137255012989044, 0.4000000059604645, 0.5254902243614197], [0.5137255191802979, 0.6000000238418579, 0.6901960968971252], [0.6509804129600525, 0.7019608020782471, 0.7490196228027344], [0.5176470875740051, 0.5333333611488342, 0.5372549295425415], [0.7607843279838562, 0.7411764860153198, 0.7098039388656616], [0.9960784316062927, 0.9803921580314636, 0.9490196108818054], [0.9450980424880981, 0.9607843160629272, 0.9607843160629272], [0.5529412031173706, 0.6235294342041016, 0.686274528503418], [0.239215686917305, 0.3686274588108063, 0.49803921580314636], [0.19607843458652496, 0.3294117748737335, 0.4627451002597809], [0.19607843458652496, 0.3294117748737335, 0.46666666865348816], [0.20000000298023224, 0.3333333432674408, 0.4745098054409027], [0.1921568661928177, 0.32549020648002625, 0.47058823704719543], [0.19607843458652496, 0.3294117748737335, 0.45490196347236633], [0.18431372940540314, 0.33725491166114807, 0.4588235318660736], [0.16470588743686676, 0.3294117748737335, 0.4588235318660736], [0.15294118225574493, 0.32156863808631897, 0.45098039507865906], [0.13333334028720856, 0.30980393290519714, 0.4431372582912445], [0.13725490868091583, 0.32549020648002625, 0.47058823704719543], [0.15294118225574493, 0.33725491166114807, 0.4901960790157318], [0.14901961386203766, 0.3333333432674408, 0.4901960790157318], [0.16470588743686676, 0.3490196168422699, 0.5098039507865906], [0.1764705926179886, 0.3607843220233917, 0.5254902243614197], [0.21960784494876862, 0.40392157435417175, 0.5686274766921997], [0.24313725531101227, 0.40392157435417175, 0.5568627715110779], [0.23137255012989044, 0.3960784375667572, 0.5568627715110779], [0.21960784494876862, 0.4000000059604645, 0.572549045085907], [0.19607843458652496, 0.38823530077934265, 0.5647059082984924], [0.18039216101169586, 0.3686274588108063, 0.5490196347236633], [0.20000000298023224, 0.40392157435417175, 0.5843137502670288]], [[0.1882352977991104, 0.43529412150382996, 0.6352941393852234], [0.11764705926179886, 0.3686274588108063, 0.5490196347236633], [0.13333334028720856, 0.3333333432674408, 0.48627451062202454], [0.2862745225429535, 0.4156862795352936, 0.5333333611488342], [0.501960813999176, 0.5803921818733215, 0.6549019813537598], [0.501960813999176, 0.5333333611488342, 0.5607843399047852], [0.843137264251709, 0.8352941274642944, 0.8196078538894653], [1.0, 0.9921568632125854, 0.9764705896377563], [0.7333333492279053, 0.7764706015586853, 0.8039215803146362], [0.25882354378700256, 0.364705890417099, 0.4627451002597809], [0.21176470816135406, 0.35686275362968445, 0.501960813999176], [0.19607843458652496, 0.3450980484485626, 0.4901960790157318], [0.20392157137393951, 0.3529411852359772, 0.49803921580314636], [0.20392157137393951, 0.3529411852359772, 0.49803921580314636], [0.18039216101169586, 0.32549020648002625, 0.4745098054409027], [0.1764705926179886, 0.32156863808631897, 0.45098039507865906], [0.16862745583057404, 0.32156863808631897, 0.4431372582912445], [0.16078431904315948, 0.3176470696926117, 0.43921568989753723], [0.1411764770746231, 0.3137255012989044, 0.4431372582912445], [0.15294118225574493, 0.32549020648002625, 0.4588235318660736], [0.1568627506494522, 0.33725491166114807, 0.48235294222831726], [0.1568627506494522, 0.3490196168422699, 0.5137255191802979], [0.16862745583057404, 0.3607843220233917, 0.5254902243614197], [0.18039216101169586, 0.37254902720451355, 0.5411764979362488], [0.23137255012989044, 0.42352941632270813, 0.5882353186607361], [0.24313725531101227, 0.4313725531101227, 0.5960784554481506], [0.250980406999588, 0.4274509847164154, 0.5764706134796143], [0.23137255012989044, 0.42352941632270813, 0.5843137502670288], [0.21176470816135406, 0.42352941632270813, 0.6039215922355652], [0.19607843458652496, 0.4117647111415863, 0.5960784554481506], [0.27450981736183167, 0.48235294222831726, 0.6549019813537598], [0.32549020648002625, 0.5372549295425415, 0.7137255072593689]], [[0.20392157137393951, 0.4470588266849518, 0.6470588445663452], [0.13725490868091583, 0.38823530077934265, 0.5764706134796143], [0.12156862765550613, 0.33725491166114807, 0.5098039507865906], [0.16078431904315948, 0.32549020648002625, 0.47843137383461], [0.25882354378700256, 0.37254902720451355, 0.4941176474094391], [0.501960813999176, 0.5686274766921997, 0.6431372761726379], [0.8784313797950745, 0.8980392217636108, 0.9176470637321472], [0.9411764740943909, 0.9607843160629272, 0.9686274528503418], [0.48627451062202454, 0.5607843399047852, 0.6000000238418579], [0.22745098173618317, 0.3607843220233917, 0.4470588266849518], [0.1921568661928177, 0.34117648005485535, 0.48235294222831726], [0.21960784494876862, 0.3686274588108063, 0.5137255191802979], [0.21176470816135406, 0.3607843220233917, 0.5058823823928833], [0.1725490242242813, 0.32156863808631897, 0.46666666865348816], [0.1725490242242813, 0.32156863808631897, 0.46666666865348816], [0.18431372940540314, 0.32549020648002625, 0.46666666865348816], [0.18039216101169586, 0.3294117748737335, 0.46666666865348816], [0.16862745583057404, 0.32549020648002625, 0.46666666865348816], [0.16862745583057404, 0.33725491166114807, 0.48235294222831726], [0.1725490242242813, 0.3450980484485626, 0.49803921580314636], [0.1725490242242813, 0.3529411852359772, 0.5137255191802979], [0.1764705926179886, 0.3803921639919281, 0.5529412031173706], [0.21176470816135406, 0.4156862795352936, 0.5882353186607361], [0.22745098173618317, 0.4313725531101227, 0.6039215922355652], [0.21176470816135406, 0.4117647111415863, 0.5882353186607361], [0.18039216101169586, 0.3803921639919281, 0.5529412031173706], [0.16862745583057404, 0.37254902720451355, 0.5490196347236633], [0.1411764770746231, 0.35686275362968445, 0.5411764979362488], [0.20000000298023224, 0.42352941632270813, 0.6196078658103943], [0.2862745225429535, 0.5098039507865906, 0.6980392336845398], [0.3333333432674408, 0.5411764979362488, 0.7137255072593689], [0.2980392277240753, 0.4901960790157318, 0.6627451181411743]], [[0.19607843458652496, 0.4313725531101227, 0.6352941393852234], [0.13725490868091583, 0.3843137323856354, 0.5843137502670288], [0.11372549086809158, 0.3490196168422699, 0.5411764979362488], [0.13725490868091583, 0.33725491166114807, 0.5215686559677124], [0.1725490242242813, 0.32549020648002625, 0.4941176474094391], [0.30588236451148987, 0.4156862795352936, 0.5411764979362488], [0.7921568751335144, 0.8588235378265381, 0.9137254953384399], [0.8274509906768799, 0.8941176533699036, 0.9176470637321472], [0.3803921639919281, 0.4941176474094391, 0.5490196347236633], [0.2549019753932953, 0.40784314274787903, 0.4941176474094391], [0.21176470816135406, 0.3686274588108063, 0.5058823823928833], [0.1882352977991104, 0.34117648005485535, 0.48627451062202454], [0.22745098173618317, 0.3803921639919281, 0.5215686559677124], [0.1882352977991104, 0.34117648005485535, 0.48235294222831726], [0.1568627506494522, 0.3137255012989044, 0.45490196347236633], [0.1764705926179886, 0.32156863808631897, 0.46666666865348816], [0.18431372940540314, 0.3294117748737335, 0.47843137383461], [0.1882352977991104, 0.34117648005485535, 0.4941176474094391], [0.18431372940540314, 0.3490196168422699, 0.5098039507865906], [0.18039216101169586, 0.3490196168422699, 0.5176470875740051], [0.20000000298023224, 0.3803921639919281, 0.5490196347236633], [0.15294118225574493, 0.3607843220233917, 0.5411764979362488], [0.15294118225574493, 0.364705890417099, 0.545098066329956], [0.1882352977991104, 0.4000000059604645, 0.5803921818733215], [0.18431372940540314, 0.3960784375667572, 0.5764706134796143], [0.15294118225574493, 0.364705890417099, 0.545098066329956], [0.10980392247438431, 0.3333333432674408, 0.5215686559677124], [0.1568627506494522, 0.3960784375667572, 0.6000000238418579], [0.26274511218070984, 0.5058823823928833, 0.7137255072593689], [0.26274511218070984, 0.4941176474094391, 0.6901960968971252], [0.18039216101169586, 0.3843137323856354, 0.5568627715110779], [0.20000000298023224, 0.3764705955982208, 0.545098066329956]], [[0.19607843458652496, 0.42352941632270813, 0.6313725709915161], [0.13725490868091583, 0.3803921639919281, 0.5764706134796143], [0.125490203499794, 0.3607843220233917, 0.5607843399047852], [0.12941177189350128, 0.3450980484485626, 0.5529412031173706], [0.16078431904315948, 0.3450980484485626, 0.5411764979362488], [0.18039216101169586, 0.3294117748737335, 0.4901960790157318], [0.40784314274787903, 0.5215686559677124, 0.6235294342041016], [0.6666666865348816, 0.772549033164978, 0.8274509906768799], [0.250980406999588, 0.3921568691730499, 0.46666666865348816], [0.21176470816135406, 0.3803921639919281, 0.4745098054409027], [0.20392157137393951, 0.3686274588108063, 0.501960813999176], [0.2078431397676468, 0.37254902720451355, 0.5098039507865906], [0.239215686917305, 0.40392157435417175, 0.545098066329956], [0.22745098173618317, 0.3921568691730499, 0.529411792755127], [0.21176470816135406, 0.3764705955982208, 0.5137255191802979], [0.1764705926179886, 0.32549020648002625, 0.47058823704719543], [0.16470588743686676, 0.30980393290519714, 0.4627451002597809], [0.16078431904315948, 0.3137255012989044, 0.47058823704719543], [0.18039216101169586, 0.3450980484485626, 0.5098039507865906], [0.1921568661928177, 0.3607843220233917, 0.529411792755127], [0.18039216101169586, 0.3607843220233917, 0.5333333611488342], [0.16470588743686676, 0.37254902720451355, 0.545098066329956], [0.1568627506494522, 0.364705890417099, 0.5411764979362488], [0.15294118225574493, 0.3607843220233917, 0.5333333611488342], [0.14509804546833038, 0.3529411852359772, 0.529411792755127], [0.1568627506494522, 0.364705890417099, 0.5411764979362488], [0.1725490242242813, 0.4000000059604645, 0.5921568870544434], [0.24705882370471954, 0.4901960790157318, 0.6980392336845398], [0.18431372940540314, 0.4313725531101227, 0.6431372761726379], [0.12156862765550613, 0.3529411852359772, 0.5490196347236633], [0.05882352963089943, 0.23529411852359772, 0.40392157435417175], [0.20000000298023224, 0.364705890417099, 0.5333333611488342]], [[0.2666666805744171, 0.48627451062202454, 0.6941176652908325], [0.16470588743686676, 0.3921568691730499, 0.5803921818733215], [0.12156862765550613, 0.3450980484485626, 0.5372549295425415], [0.14901961386203766, 0.35686275362968445, 0.572549045085907], [0.14509804546833038, 0.34117648005485535, 0.545098066329956], [0.16862745583057404, 0.3490196168422699, 0.5176470875740051], [0.16470588743686676, 0.30980393290519714, 0.4431372582912445], [0.27843138575553894, 0.41960784792900085, 0.5215686559677124], [0.1921568661928177, 0.3490196168422699, 0.4470588266849518], [0.12156862765550613, 0.3019607961177826, 0.4117647111415863], [0.10588235408067703, 0.27843138575553894, 0.4117647111415863], [0.14901961386203766, 0.32156863808631897, 0.4588235318660736], [0.1921568661928177, 0.364705890417099, 0.501960813999176], [0.21960784494876862, 0.3921568691730499, 0.529411792755127], [0.22745098173618317, 0.4000000059604645, 0.5372549295425415], [0.2078431397676468, 0.3607843220233917, 0.501960813999176], [0.21960784494876862, 0.3686274588108063, 0.5137255191802979], [0.23529411852359772, 0.38823530077934265, 0.5372549295425415], [0.2235294133424759, 0.38823530077934265, 0.545098066329956], [0.2078431397676468, 0.3803921639919281, 0.5411764979362488], [0.19607843458652496, 0.37254902720451355, 0.5372549295425415], [0.1764705926179886, 0.3686274588108063, 0.5333333611488342], [0.15294118225574493, 0.3450980484485626, 0.5137255191802979], [0.12941177189350128, 0.32549020648002625, 0.4901960790157318], [0.16470588743686676, 0.35686275362968445, 0.5215686559677124], [0.24313725531101227, 0.43921568989753723, 0.6039215922355652], [0.30980393290519714, 0.5176470875740051, 0.7019608020782471], [0.2862745225429535, 0.5137255191802979, 0.7098039388656616], [0.21960784494876862, 0.45490196347236633, 0.658823549747467], [0.14901961386203766, 0.3803921639919281, 0.572549045085907], [0.05098039284348488, 0.250980406999588, 0.42352941632270813], [0.1568627506494522, 0.3333333432674408, 0.49803921580314636]], [[0.239215686917305, 0.45490196347236633, 0.658823549747467], [0.1921568661928177, 0.4000000059604645, 0.5803921818733215], [0.13725490868091583, 0.3333333432674408, 0.5176470875740051], [0.16862745583057404, 0.35686275362968445, 0.5607843399047852], [0.15294118225574493, 0.3529411852359772, 0.545098066329956], [0.16470588743686676, 0.3607843220233917, 0.5254902243614197], [0.1725490242242813, 0.3450980484485626, 0.4901960790157318], [0.1568627506494522, 0.3176470696926117, 0.43921568989753723], [0.16470588743686676, 0.3333333432674408, 0.45098039507865906], [0.10588235408067703, 0.2823529541492462, 0.40784314274787903], [0.09019608050584793, 0.26274511218070984, 0.4000000059604645], [0.11764705926179886, 0.29019609093666077, 0.4274509847164154], [0.10588235408067703, 0.27843138575553894, 0.4156862795352936], [0.11372549086809158, 0.2862745225429535, 0.42352941632270813], [0.1411764770746231, 0.3137255012989044, 0.45098039507865906], [0.18431372940540314, 0.33725491166114807, 0.47058823704719543], [0.21960784494876862, 0.37254902720451355, 0.501960813999176], [0.24313725531101227, 0.3960784375667572, 0.529411792755127], [0.25882354378700256, 0.4274509847164154, 0.5647059082984924], [0.29411765933036804, 0.46666666865348816, 0.6117647290229797], [0.2705882489681244, 0.4431372582912445, 0.5960784554481506], [0.1921568661928177, 0.37254902720451355, 0.5254902243614197], [0.16862745583057404, 0.3450980484485626, 0.49803921580314636], [0.16862745583057404, 0.3450980484485626, 0.49803921580314636], [0.23529411852359772, 0.4117647111415863, 0.5647059082984924], [0.3333333432674408, 0.5098039507865906, 0.6666666865348816], [0.4274509847164154, 0.6117647290229797, 0.772549033164978], [0.364705890417099, 0.5686274766921997, 0.7450980544090271], [0.23529411852359772, 0.45098039507865906, 0.6431372761726379], [0.10196078568696976, 0.32156863808631897, 0.5098039507865906], [0.11372549086809158, 0.32156863808631897, 0.4941176474094391], [0.0784313753247261, 0.250980406999588, 0.41960784792900085]], [[0.21176470816135406, 0.41960784792900085, 0.6274510025978088], [0.21960784494876862, 0.4117647111415863, 0.5843137502670288], [0.1764705926179886, 0.3490196168422699, 0.5176470875740051], [0.16862745583057404, 0.33725491166114807, 0.5254902243614197], [0.1568627506494522, 0.3490196168422699, 0.5254902243614197], [0.1568627506494522, 0.3607843220233917, 0.5176470875740051], [0.1568627506494522, 0.34117648005485535, 0.48235294222831726], [0.14901961386203766, 0.3176470696926117, 0.45098039507865906], [0.1411764770746231, 0.30980393290519714, 0.4470588266849518], [0.10196078568696976, 0.2705882489681244, 0.4117647111415863], [0.08627451211214066, 0.25882354378700256, 0.3960784375667572], [0.11372549086809158, 0.2862745225429535, 0.42352941632270813], [0.09803921729326248, 0.2705882489681244, 0.40784314274787903], [0.11372549086809158, 0.2862745225429535, 0.42352941632270813], [0.07450980693101883, 0.24705882370471954, 0.3843137323856354], [0.07058823853731155, 0.22745098173618317, 0.3490196168422699], [0.125490203499794, 0.27450981736183167, 0.3921568691730499], [0.18431372940540314, 0.34117648005485535, 0.4627451002597809], [0.239215686917305, 0.40784314274787903, 0.5372549295425415], [0.29019609093666077, 0.46666666865348816, 0.5960784554481506], [0.25882354378700256, 0.43529412150382996, 0.5686274766921997], [0.2078431397676468, 0.3764705955982208, 0.5137255191802979], [0.20392157137393951, 0.37254902720451355, 0.5098039507865906], [0.1764705926179886, 0.34117648005485535, 0.48235294222831726], [0.26274511218070984, 0.4274509847164154, 0.5686274766921997], [0.3490196168422699, 0.5137255191802979, 0.6549019813537598], [0.4117647111415863, 0.572549045085907, 0.7137255072593689], [0.3490196168422699, 0.529411792755127, 0.686274528503418], [0.1882352977991104, 0.38823530077934265, 0.5686274766921997], [0.0941176488995552, 0.3019607961177826, 0.48627451062202454], [0.13333334028720856, 0.3294117748737335, 0.5058823823928833], [0.08235294371843338, 0.26274511218070984, 0.4313725531101227]]]'"
      ]
     },
     "execution_count": 70,
     "metadata": {},
     "output_type": "execute_result"
    }
   ],
   "source": [
    "json.dumps(x_test[0].tolist())"
   ]
  },
  {
   "cell_type": "code",
   "execution_count": 71,
   "metadata": {},
   "outputs": [],
   "source": [
    "REGION='us-central1'"
   ]
  },
  {
   "cell_type": "code",
   "execution_count": 72,
   "metadata": {},
   "outputs": [
    {
     "name": "stdout",
     "output_type": "stream",
     "text": [
      "8550039912097775616\n"
     ]
    }
   ],
   "source": [
    "ENDPOINT_NAME=\"pipelines-created-endpoint\"\n",
    "#instance = [[3,0,18,0,0,8.6625,0,0,1]]\n",
    "ENDPOINT_ID = !(gcloud ai endpoints list --region=$REGION \\\n",
    "              --format='value(ENDPOINT_ID)' \\\n",
    "              --filter=display_name=$ENDPOINT_NAME \\\n",
    "              --sort-by=creationTimeStamp | tail -1)\n",
    "ENDPOINT_ID = ENDPOINT_ID[1]\n",
    "print(ENDPOINT_ID)"
   ]
  },
  {
   "cell_type": "code",
   "execution_count": 73,
   "metadata": {},
   "outputs": [],
   "source": [
    "instance = json.dumps(x_test[0].tolist())"
   ]
  },
  {
   "cell_type": "code",
   "execution_count": 75,
   "metadata": {},
   "outputs": [],
   "source": [
    "from google.cloud import aiplatform"
   ]
  },
  {
   "cell_type": "code",
   "execution_count": 81,
   "metadata": {},
   "outputs": [
    {
     "name": "stdout",
     "output_type": "stream",
     "text": [
      "{\n",
      "  \"instances\": [\n",
      "    {\n",
      "      \"data\":\n",
      "        \"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\"\n",
      "    }\n",
      "  ]\n",
      "}\n"
     ]
    }
   ],
   "source": [
    "!cat ~/input.json"
   ]
  },
  {
   "cell_type": "code",
   "execution_count": 77,
   "metadata": {
    "collapsed": true,
    "jupyter": {
     "outputs_hidden": true
    },
    "tags": []
   },
   "outputs": [
    {
     "ename": "InvalidArgument",
     "evalue": "400 {\n    \"error\": \"Expected image (JPEG, PNG, or GIF), got unknown format starting with '['\\n\\t [[{{node map/while/DecodeJpeg}}]]\"\n}",
     "output_type": "error",
     "traceback": [
      "\u001b[0;31m---------------------------------------------------------------------------\u001b[0m",
      "\u001b[0;31m_InactiveRpcError\u001b[0m                         Traceback (most recent call last)",
      "\u001b[0;32m/opt/conda/lib/python3.7/site-packages/google/api_core/grpc_helpers.py\u001b[0m in \u001b[0;36merror_remapped_callable\u001b[0;34m(*args, **kwargs)\u001b[0m\n\u001b[1;32m     56\u001b[0m         \u001b[0;32mtry\u001b[0m\u001b[0;34m:\u001b[0m\u001b[0;34m\u001b[0m\u001b[0;34m\u001b[0m\u001b[0m\n\u001b[0;32m---> 57\u001b[0;31m             \u001b[0;32mreturn\u001b[0m \u001b[0mcallable_\u001b[0m\u001b[0;34m(\u001b[0m\u001b[0;34m*\u001b[0m\u001b[0margs\u001b[0m\u001b[0;34m,\u001b[0m \u001b[0;34m**\u001b[0m\u001b[0mkwargs\u001b[0m\u001b[0;34m)\u001b[0m\u001b[0;34m\u001b[0m\u001b[0;34m\u001b[0m\u001b[0m\n\u001b[0m\u001b[1;32m     58\u001b[0m         \u001b[0;32mexcept\u001b[0m \u001b[0mgrpc\u001b[0m\u001b[0;34m.\u001b[0m\u001b[0mRpcError\u001b[0m \u001b[0;32mas\u001b[0m \u001b[0mexc\u001b[0m\u001b[0;34m:\u001b[0m\u001b[0;34m\u001b[0m\u001b[0;34m\u001b[0m\u001b[0m\n",
      "\u001b[0;32m/opt/conda/lib/python3.7/site-packages/grpc/_channel.py\u001b[0m in \u001b[0;36m__call__\u001b[0;34m(self, request, timeout, metadata, credentials, wait_for_ready, compression)\u001b[0m\n\u001b[1;32m    945\u001b[0m                                       wait_for_ready, compression)\n\u001b[0;32m--> 946\u001b[0;31m         \u001b[0;32mreturn\u001b[0m \u001b[0m_end_unary_response_blocking\u001b[0m\u001b[0;34m(\u001b[0m\u001b[0mstate\u001b[0m\u001b[0;34m,\u001b[0m \u001b[0mcall\u001b[0m\u001b[0;34m,\u001b[0m \u001b[0;32mFalse\u001b[0m\u001b[0;34m,\u001b[0m \u001b[0;32mNone\u001b[0m\u001b[0;34m)\u001b[0m\u001b[0;34m\u001b[0m\u001b[0;34m\u001b[0m\u001b[0m\n\u001b[0m\u001b[1;32m    947\u001b[0m \u001b[0;34m\u001b[0m\u001b[0m\n",
      "\u001b[0;32m/opt/conda/lib/python3.7/site-packages/grpc/_channel.py\u001b[0m in \u001b[0;36m_end_unary_response_blocking\u001b[0;34m(state, call, with_call, deadline)\u001b[0m\n\u001b[1;32m    848\u001b[0m     \u001b[0;32melse\u001b[0m\u001b[0;34m:\u001b[0m\u001b[0;34m\u001b[0m\u001b[0;34m\u001b[0m\u001b[0m\n\u001b[0;32m--> 849\u001b[0;31m         \u001b[0;32mraise\u001b[0m \u001b[0m_InactiveRpcError\u001b[0m\u001b[0;34m(\u001b[0m\u001b[0mstate\u001b[0m\u001b[0;34m)\u001b[0m\u001b[0;34m\u001b[0m\u001b[0;34m\u001b[0m\u001b[0m\n\u001b[0m\u001b[1;32m    850\u001b[0m \u001b[0;34m\u001b[0m\u001b[0m\n",
      "\u001b[0;31m_InactiveRpcError\u001b[0m: <_InactiveRpcError of RPC that terminated with:\n\tstatus = StatusCode.INVALID_ARGUMENT\n\tdetails = \"{\n    \"error\": \"Expected image (JPEG, PNG, or GIF), got unknown format starting with '['\\n\\t [[{{node map/while/DecodeJpeg}}]]\"\n}\"\n\tdebug_error_string = \"{\"created\":\"@1658024386.881690950\",\"description\":\"Error received from peer ipv4:209.85.200.95:443\",\"file\":\"src/core/lib/surface/call.cc\",\"file_line\":952,\"grpc_message\":\"{\\n    \"error\": \"Expected image (JPEG, PNG, or GIF), got unknown format starting with '['\\n\\t [[{{node map/while/DecodeJpeg}}]]\"\\n}\",\"grpc_status\":3}\"\n>",
      "\nThe above exception was the direct cause of the following exception:\n",
      "\u001b[0;31mInvalidArgument\u001b[0m                           Traceback (most recent call last)",
      "\u001b[0;32m/tmp/ipykernel_1/1860179291.py\u001b[0m in \u001b[0;36m<module>\u001b[0;34m\u001b[0m\n\u001b[1;32m      9\u001b[0m     \u001b[0;32mreturn\u001b[0m \u001b[0mprediction\u001b[0m\u001b[0;34m\u001b[0m\u001b[0;34m\u001b[0m\u001b[0m\n\u001b[1;32m     10\u001b[0m \u001b[0;34m\u001b[0m\u001b[0m\n\u001b[0;32m---> 11\u001b[0;31m \u001b[0mendpoint_predict\u001b[0m\u001b[0;34m(\u001b[0m\u001b[0mPROJECT_ID\u001b[0m\u001b[0;34m,\u001b[0m \u001b[0mREGION\u001b[0m\u001b[0;34m,\u001b[0m \u001b[0minstance\u001b[0m\u001b[0;34m,\u001b[0m \u001b[0mENDPOINT_ID\u001b[0m\u001b[0;34m)\u001b[0m\u001b[0;34m\u001b[0m\u001b[0;34m\u001b[0m\u001b[0m\n\u001b[0m",
      "\u001b[0;32m/tmp/ipykernel_1/1860179291.py\u001b[0m in \u001b[0;36mendpoint_predict\u001b[0;34m(project, location, instances, endpoint)\u001b[0m\n\u001b[1;32m      6\u001b[0m     \u001b[0mendpoint\u001b[0m \u001b[0;34m=\u001b[0m \u001b[0maiplatform\u001b[0m\u001b[0;34m.\u001b[0m\u001b[0mEndpoint\u001b[0m\u001b[0;34m(\u001b[0m\u001b[0mendpoint\u001b[0m\u001b[0;34m)\u001b[0m\u001b[0;34m\u001b[0m\u001b[0;34m\u001b[0m\u001b[0m\n\u001b[1;32m      7\u001b[0m \u001b[0;34m\u001b[0m\u001b[0m\n\u001b[0;32m----> 8\u001b[0;31m     \u001b[0mprediction\u001b[0m \u001b[0;34m=\u001b[0m \u001b[0mendpoint\u001b[0m\u001b[0;34m.\u001b[0m\u001b[0mpredict\u001b[0m\u001b[0;34m(\u001b[0m\u001b[0minstances\u001b[0m\u001b[0;34m=\u001b[0m\u001b[0minstances\u001b[0m\u001b[0;34m)\u001b[0m\u001b[0;34m\u001b[0m\u001b[0;34m\u001b[0m\u001b[0m\n\u001b[0m\u001b[1;32m      9\u001b[0m     \u001b[0;32mreturn\u001b[0m \u001b[0mprediction\u001b[0m\u001b[0;34m\u001b[0m\u001b[0;34m\u001b[0m\u001b[0m\n\u001b[1;32m     10\u001b[0m \u001b[0;34m\u001b[0m\u001b[0m\n",
      "\u001b[0;32m~/.local/lib/python3.7/site-packages/google/cloud/aiplatform/models.py\u001b[0m in \u001b[0;36mpredict\u001b[0;34m(self, instances, parameters, timeout)\u001b[0m\n\u001b[1;32m   1501\u001b[0m             \u001b[0minstances\u001b[0m\u001b[0;34m=\u001b[0m\u001b[0minstances\u001b[0m\u001b[0;34m,\u001b[0m\u001b[0;34m\u001b[0m\u001b[0;34m\u001b[0m\u001b[0m\n\u001b[1;32m   1502\u001b[0m             \u001b[0mparameters\u001b[0m\u001b[0;34m=\u001b[0m\u001b[0mparameters\u001b[0m\u001b[0;34m,\u001b[0m\u001b[0;34m\u001b[0m\u001b[0;34m\u001b[0m\u001b[0m\n\u001b[0;32m-> 1503\u001b[0;31m             \u001b[0mtimeout\u001b[0m\u001b[0;34m=\u001b[0m\u001b[0mtimeout\u001b[0m\u001b[0;34m,\u001b[0m\u001b[0;34m\u001b[0m\u001b[0;34m\u001b[0m\u001b[0m\n\u001b[0m\u001b[1;32m   1504\u001b[0m         )\n\u001b[1;32m   1505\u001b[0m \u001b[0;34m\u001b[0m\u001b[0m\n",
      "\u001b[0;32m~/.local/lib/python3.7/site-packages/google/cloud/aiplatform_v1/services/prediction_service/client.py\u001b[0m in \u001b[0;36mpredict\u001b[0;34m(self, request, endpoint, instances, parameters, retry, timeout, metadata)\u001b[0m\n\u001b[1;32m    583\u001b[0m             \u001b[0mretry\u001b[0m\u001b[0;34m=\u001b[0m\u001b[0mretry\u001b[0m\u001b[0;34m,\u001b[0m\u001b[0;34m\u001b[0m\u001b[0;34m\u001b[0m\u001b[0m\n\u001b[1;32m    584\u001b[0m             \u001b[0mtimeout\u001b[0m\u001b[0;34m=\u001b[0m\u001b[0mtimeout\u001b[0m\u001b[0;34m,\u001b[0m\u001b[0;34m\u001b[0m\u001b[0;34m\u001b[0m\u001b[0m\n\u001b[0;32m--> 585\u001b[0;31m             \u001b[0mmetadata\u001b[0m\u001b[0;34m=\u001b[0m\u001b[0mmetadata\u001b[0m\u001b[0;34m,\u001b[0m\u001b[0;34m\u001b[0m\u001b[0;34m\u001b[0m\u001b[0m\n\u001b[0m\u001b[1;32m    586\u001b[0m         )\n\u001b[1;32m    587\u001b[0m \u001b[0;34m\u001b[0m\u001b[0m\n",
      "\u001b[0;32m/opt/conda/lib/python3.7/site-packages/google/api_core/gapic_v1/method.py\u001b[0m in \u001b[0;36m__call__\u001b[0;34m(self, timeout, retry, *args, **kwargs)\u001b[0m\n\u001b[1;32m    152\u001b[0m             \u001b[0mkwargs\u001b[0m\u001b[0;34m[\u001b[0m\u001b[0;34m\"metadata\"\u001b[0m\u001b[0;34m]\u001b[0m \u001b[0;34m=\u001b[0m \u001b[0mmetadata\u001b[0m\u001b[0;34m\u001b[0m\u001b[0;34m\u001b[0m\u001b[0m\n\u001b[1;32m    153\u001b[0m \u001b[0;34m\u001b[0m\u001b[0m\n\u001b[0;32m--> 154\u001b[0;31m         \u001b[0;32mreturn\u001b[0m \u001b[0mwrapped_func\u001b[0m\u001b[0;34m(\u001b[0m\u001b[0;34m*\u001b[0m\u001b[0margs\u001b[0m\u001b[0;34m,\u001b[0m \u001b[0;34m**\u001b[0m\u001b[0mkwargs\u001b[0m\u001b[0;34m)\u001b[0m\u001b[0;34m\u001b[0m\u001b[0;34m\u001b[0m\u001b[0m\n\u001b[0m\u001b[1;32m    155\u001b[0m \u001b[0;34m\u001b[0m\u001b[0m\n\u001b[1;32m    156\u001b[0m \u001b[0;34m\u001b[0m\u001b[0m\n",
      "\u001b[0;32m/opt/conda/lib/python3.7/site-packages/google/api_core/grpc_helpers.py\u001b[0m in \u001b[0;36merror_remapped_callable\u001b[0;34m(*args, **kwargs)\u001b[0m\n\u001b[1;32m     57\u001b[0m             \u001b[0;32mreturn\u001b[0m \u001b[0mcallable_\u001b[0m\u001b[0;34m(\u001b[0m\u001b[0;34m*\u001b[0m\u001b[0margs\u001b[0m\u001b[0;34m,\u001b[0m \u001b[0;34m**\u001b[0m\u001b[0mkwargs\u001b[0m\u001b[0;34m)\u001b[0m\u001b[0;34m\u001b[0m\u001b[0;34m\u001b[0m\u001b[0m\n\u001b[1;32m     58\u001b[0m         \u001b[0;32mexcept\u001b[0m \u001b[0mgrpc\u001b[0m\u001b[0;34m.\u001b[0m\u001b[0mRpcError\u001b[0m \u001b[0;32mas\u001b[0m \u001b[0mexc\u001b[0m\u001b[0;34m:\u001b[0m\u001b[0;34m\u001b[0m\u001b[0;34m\u001b[0m\u001b[0m\n\u001b[0;32m---> 59\u001b[0;31m             \u001b[0;32mraise\u001b[0m \u001b[0mexceptions\u001b[0m\u001b[0;34m.\u001b[0m\u001b[0mfrom_grpc_error\u001b[0m\u001b[0;34m(\u001b[0m\u001b[0mexc\u001b[0m\u001b[0;34m)\u001b[0m \u001b[0;32mfrom\u001b[0m \u001b[0mexc\u001b[0m\u001b[0;34m\u001b[0m\u001b[0;34m\u001b[0m\u001b[0m\n\u001b[0m\u001b[1;32m     60\u001b[0m \u001b[0;34m\u001b[0m\u001b[0m\n\u001b[1;32m     61\u001b[0m     \u001b[0;32mreturn\u001b[0m \u001b[0merror_remapped_callable\u001b[0m\u001b[0;34m\u001b[0m\u001b[0;34m\u001b[0m\u001b[0m\n",
      "\u001b[0;31mInvalidArgument\u001b[0m: 400 {\n    \"error\": \"Expected image (JPEG, PNG, or GIF), got unknown format starting with '['\\n\\t [[{{node map/while/DecodeJpeg}}]]\"\n}"
     ]
    }
   ],
   "source": [
    "def endpoint_predict(\n",
    "    project: str, location: str, instances: list, endpoint: str\n",
    "):\n",
    "    aiplatform.init(project=project, location=location)\n",
    "\n",
    "    endpoint = aiplatform.Endpoint(endpoint)\n",
    "\n",
    "    prediction = endpoint.predict(instances=instances)\n",
    "    return prediction\n",
    "\n",
    "endpoint_predict(PROJECT_ID, REGION, instance, ENDPOINT_ID)"
   ]
  },
  {
   "cell_type": "markdown",
   "metadata": {},
   "source": [
    "INPUT_DATA_FILE='~/input2.json'"
   ]
  },
  {
   "cell_type": "code",
   "execution_count": 100,
   "metadata": {},
   "outputs": [
    {
     "ename": "SyntaxError",
     "evalue": "invalid syntax (1071349511.py, line 1)",
     "output_type": "error",
     "traceback": [
      "\u001b[0;36m  File \u001b[0;32m\"/tmp/ipykernel_1/1071349511.py\"\u001b[0;36m, line \u001b[0;32m1\u001b[0m\n\u001b[0;31m    json_data = json.load(~/input2.json)\u001b[0m\n\u001b[0m                           ^\u001b[0m\n\u001b[0;31mSyntaxError\u001b[0m\u001b[0;31m:\u001b[0m invalid syntax\n"
     ]
    }
   ],
   "source": [
    "json_data = json.load(~/input2.json)"
   ]
  },
  {
   "cell_type": "code",
   "execution_count": null,
   "metadata": {},
   "outputs": [],
   "source": []
  },
  {
   "cell_type": "code",
   "execution_count": 96,
   "metadata": {},
   "outputs": [
    {
     "name": "stdout",
     "output_type": "stream",
     "text": [
      "E0717 02:49:38.028815270    2312 backup_poller.cc:136]       Run client channel backup poller: {\"created\":\"@1658026178.028539218\",\"description\":\"pollset_work\",\"file\":\"src/core/lib/iomgr/ev_epoll1_linux.cc\",\"file_line\":247,\"referenced_errors\":[{\"created\":\"@1658026178.028530788\",\"description\":\"Bad file descriptor\",\"errno\":9,\"file\":\"src/core/lib/iomgr/ev_epoll1_linux.cc\",\"file_line\":732,\"os_error\":\"Bad file descriptor\",\"syscall\":\"epoll_wait\"}]}\n",
      "Warning: Couldn't read data from file \"$~/input2.json\", this makes an empty \n",
      "Warning: POST.\n",
      "{\n",
      "  \"error\": {\n",
      "    \"code\": 403,\n",
      "    \"message\": \"Permission denied on resource project -demo-project.\",\n",
      "    \"status\": \"PERMISSION_DENIED\",\n",
      "    \"details\": [\n",
      "      {\n",
      "        \"@type\": \"type.googleapis.com/google.rpc.Help\",\n",
      "        \"links\": [\n",
      "          {\n",
      "            \"description\": \"Google developer console API key\",\n",
      "            \"url\": \"https://console.developers.google.com/project/-demo-project/apiui/credential\"\n",
      "          }\n",
      "        ]\n",
      "      },\n",
      "      {\n",
      "        \"@type\": \"type.googleapis.com/google.rpc.ErrorInfo\",\n",
      "        \"reason\": \"CONSUMER_INVALID\",\n",
      "        \"domain\": \"googleapis.com\",\n",
      "        \"metadata\": {\n",
      "          \"service\": \"aiplatform.googleapis.com\",\n",
      "          \"consumer\": \"projects/-demo-project\"\n",
      "        }\n",
      "      }\n",
      "    ]\n",
      "  }\n",
      "}\n"
     ]
    }
   ],
   "source": [
    "!curl -X POST --http2 -H \"Authorization: Bearer $(gcloud auth print-access-token)\" -H \"Content-Type: application/json\" https://us-central1-aiplatform.googleapis.com/v1/projects/${PROJECT_ID}/locations/us-central1/endpoints/${ENDPOINT_ID}:predict -d \"@${INPUT_DATA_FILE}\""
   ]
  },
  {
   "cell_type": "code",
   "execution_count": null,
   "metadata": {},
   "outputs": [],
   "source": []
  }
 ],
 "metadata": {
  "colab": {
   "collapsed_sections": [],
   "name": "custom_model_training_and_batch_prediction.ipynb",
   "toc_visible": true
  },
  "kernelspec": {
   "display_name": "Python (Local)",
   "language": "python",
   "name": "local-base"
  },
  "language_info": {
   "codemirror_mode": {
    "name": "ipython",
    "version": 3
   },
   "file_extension": ".py",
   "mimetype": "text/x-python",
   "name": "python",
   "nbconvert_exporter": "python",
   "pygments_lexer": "ipython3",
   "version": "3.7.12"
  }
 },
 "nbformat": 4,
 "nbformat_minor": 4
}
